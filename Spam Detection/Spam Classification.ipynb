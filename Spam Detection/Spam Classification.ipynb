{
 "cells": [
  {
   "cell_type": "code",
   "execution_count": 117,
   "metadata": {},
   "outputs": [],
   "source": [
    "import nltk\n",
    "from nltk.corpus import stopwords\n",
    "from nltk.stem import WordNetLemmatizer\n",
    "import string\n",
    "import pandas as pd\n",
    "from nltk import pos_tag\n",
    "from nltk.stem import PorterStemmer\n",
    "import numpy as np\n",
    "import pandas as pd\n",
    "from sklearn.model_selection import train_test_split\n",
    "import seaborn as sns\n",
    "import matplotlib.pyplot as plt\n",
    "\n",
    "%matplotlib inline"
   ]
  },
  {
   "cell_type": "code",
   "execution_count": 118,
   "metadata": {},
   "outputs": [],
   "source": [
    "data_message = pd.read_csv(\"SMSSpamCollection\",sep=\"\\t\", names=[\"label\",\"message\"])"
   ]
  },
  {
   "cell_type": "code",
   "execution_count": 119,
   "metadata": {},
   "outputs": [
    {
     "data": {
      "text/plain": [
       "ham     4825\n",
       "spam     747\n",
       "Name: label, dtype: int64"
      ]
     },
     "execution_count": 119,
     "metadata": {},
     "output_type": "execute_result"
    }
   ],
   "source": [
    "data_message.label.value_counts()"
   ]
  },
  {
   "cell_type": "code",
   "execution_count": 120,
   "metadata": {},
   "outputs": [],
   "source": [
    "def preprocessing(text):\n",
    "    text2 = \" \".join(\"\".join([\" \" if ch in string.punctuation else ch for ch in text]).split())\n",
    "\n",
    "    tokens = [word for sent in nltk.sent_tokenize(text2) for word in\n",
    "              nltk.word_tokenize(sent)]\n",
    "    \n",
    "    tokens = [word.lower() for word in tokens]\n",
    "    \n",
    "    stopwds = stopwords.words('english')\n",
    "    tokens = [token for token in tokens if token not in stopwds]\n",
    "    \n",
    "    tokens = [word for word in tokens if len(word)>=3]\n",
    "    \n",
    "    stemmer = PorterStemmer()\n",
    "    tokens = [stemmer.stem(word) for word in tokens]\n",
    "\n",
    "    tagged_corpus = pos_tag(tokens)    \n",
    "    \n",
    "    Noun_tags = ['NN','NNP','NNPS','NNS']\n",
    "    Verb_tags = ['VB','VBD','VBG','VBN','VBP','VBZ']\n",
    "\n",
    "    lemmatizer = WordNetLemmatizer()\n",
    "    \n",
    "    def prat_lemmatize(token,tag):\n",
    "        if tag in Noun_tags:\n",
    "            return lemmatizer.lemmatize(token,'n')\n",
    "        elif tag in Verb_tags:\n",
    "            return lemmatizer.lemmatize(token,'v')\n",
    "        else:\n",
    "            return lemmatizer.lemmatize(token,'n')\n",
    "    \n",
    "    pre_proc_text =  \" \".join([prat_lemmatize(token,tag) for token,tag in tagged_corpus])             \n",
    "\n",
    "    return pre_proc_text"
   ]
  },
  {
   "cell_type": "code",
   "execution_count": 121,
   "metadata": {},
   "outputs": [
    {
     "data": {
      "text/html": [
       "<div>\n",
       "<style scoped>\n",
       "    .dataframe tbody tr th:only-of-type {\n",
       "        vertical-align: middle;\n",
       "    }\n",
       "\n",
       "    .dataframe tbody tr th {\n",
       "        vertical-align: top;\n",
       "    }\n",
       "\n",
       "    .dataframe thead th {\n",
       "        text-align: right;\n",
       "    }\n",
       "</style>\n",
       "<table border=\"1\" class=\"dataframe\">\n",
       "  <thead>\n",
       "    <tr style=\"text-align: right;\">\n",
       "      <th></th>\n",
       "      <th>label</th>\n",
       "      <th>message</th>\n",
       "    </tr>\n",
       "  </thead>\n",
       "  <tbody>\n",
       "    <tr>\n",
       "      <th>0</th>\n",
       "      <td>ham</td>\n",
       "      <td>Go until jurong point, crazy.. Available only ...</td>\n",
       "    </tr>\n",
       "    <tr>\n",
       "      <th>1</th>\n",
       "      <td>ham</td>\n",
       "      <td>Ok lar... Joking wif u oni...</td>\n",
       "    </tr>\n",
       "    <tr>\n",
       "      <th>2</th>\n",
       "      <td>spam</td>\n",
       "      <td>Free entry in 2 a wkly comp to win FA Cup fina...</td>\n",
       "    </tr>\n",
       "    <tr>\n",
       "      <th>3</th>\n",
       "      <td>ham</td>\n",
       "      <td>U dun say so early hor... U c already then say...</td>\n",
       "    </tr>\n",
       "    <tr>\n",
       "      <th>4</th>\n",
       "      <td>ham</td>\n",
       "      <td>Nah I don't think he goes to usf, he lives aro...</td>\n",
       "    </tr>\n",
       "    <tr>\n",
       "      <th>5</th>\n",
       "      <td>spam</td>\n",
       "      <td>FreeMsg Hey there darling it's been 3 week's n...</td>\n",
       "    </tr>\n",
       "    <tr>\n",
       "      <th>6</th>\n",
       "      <td>ham</td>\n",
       "      <td>Even my brother is not like to speak with me. ...</td>\n",
       "    </tr>\n",
       "    <tr>\n",
       "      <th>7</th>\n",
       "      <td>ham</td>\n",
       "      <td>As per your request 'Melle Melle (Oru Minnamin...</td>\n",
       "    </tr>\n",
       "    <tr>\n",
       "      <th>8</th>\n",
       "      <td>spam</td>\n",
       "      <td>WINNER!! As a valued network customer you have...</td>\n",
       "    </tr>\n",
       "    <tr>\n",
       "      <th>9</th>\n",
       "      <td>spam</td>\n",
       "      <td>Had your mobile 11 months or more? U R entitle...</td>\n",
       "    </tr>\n",
       "    <tr>\n",
       "      <th>10</th>\n",
       "      <td>ham</td>\n",
       "      <td>I'm gonna be home soon and i don't want to tal...</td>\n",
       "    </tr>\n",
       "    <tr>\n",
       "      <th>11</th>\n",
       "      <td>spam</td>\n",
       "      <td>SIX chances to win CASH! From 100 to 20,000 po...</td>\n",
       "    </tr>\n",
       "    <tr>\n",
       "      <th>12</th>\n",
       "      <td>spam</td>\n",
       "      <td>URGENT! You have won a 1 week FREE membership ...</td>\n",
       "    </tr>\n",
       "    <tr>\n",
       "      <th>13</th>\n",
       "      <td>ham</td>\n",
       "      <td>I've been searching for the right words to tha...</td>\n",
       "    </tr>\n",
       "    <tr>\n",
       "      <th>14</th>\n",
       "      <td>ham</td>\n",
       "      <td>I HAVE A DATE ON SUNDAY WITH WILL!!</td>\n",
       "    </tr>\n",
       "    <tr>\n",
       "      <th>15</th>\n",
       "      <td>spam</td>\n",
       "      <td>XXXMobileMovieClub: To use your credit, click ...</td>\n",
       "    </tr>\n",
       "    <tr>\n",
       "      <th>16</th>\n",
       "      <td>ham</td>\n",
       "      <td>Oh k...i'm watching here:)</td>\n",
       "    </tr>\n",
       "    <tr>\n",
       "      <th>17</th>\n",
       "      <td>ham</td>\n",
       "      <td>Eh u remember how 2 spell his name... Yes i di...</td>\n",
       "    </tr>\n",
       "    <tr>\n",
       "      <th>18</th>\n",
       "      <td>ham</td>\n",
       "      <td>Fine if thats the way u feel. Thats the way ...</td>\n",
       "    </tr>\n",
       "    <tr>\n",
       "      <th>19</th>\n",
       "      <td>spam</td>\n",
       "      <td>England v Macedonia - dont miss the goals/team...</td>\n",
       "    </tr>\n",
       "  </tbody>\n",
       "</table>\n",
       "</div>"
      ],
      "text/plain": [
       "   label                                            message\n",
       "0    ham  Go until jurong point, crazy.. Available only ...\n",
       "1    ham                      Ok lar... Joking wif u oni...\n",
       "2   spam  Free entry in 2 a wkly comp to win FA Cup fina...\n",
       "3    ham  U dun say so early hor... U c already then say...\n",
       "4    ham  Nah I don't think he goes to usf, he lives aro...\n",
       "5   spam  FreeMsg Hey there darling it's been 3 week's n...\n",
       "6    ham  Even my brother is not like to speak with me. ...\n",
       "7    ham  As per your request 'Melle Melle (Oru Minnamin...\n",
       "8   spam  WINNER!! As a valued network customer you have...\n",
       "9   spam  Had your mobile 11 months or more? U R entitle...\n",
       "10   ham  I'm gonna be home soon and i don't want to tal...\n",
       "11  spam  SIX chances to win CASH! From 100 to 20,000 po...\n",
       "12  spam  URGENT! You have won a 1 week FREE membership ...\n",
       "13   ham  I've been searching for the right words to tha...\n",
       "14   ham                I HAVE A DATE ON SUNDAY WITH WILL!!\n",
       "15  spam  XXXMobileMovieClub: To use your credit, click ...\n",
       "16   ham                         Oh k...i'm watching here:)\n",
       "17   ham  Eh u remember how 2 spell his name... Yes i di...\n",
       "18   ham  Fine if thats the way u feel. Thats the way ...\n",
       "19  spam  England v Macedonia - dont miss the goals/team..."
      ]
     },
     "execution_count": 121,
     "metadata": {},
     "output_type": "execute_result"
    }
   ],
   "source": [
    "data_message.head(20)"
   ]
  },
  {
   "cell_type": "code",
   "execution_count": 122,
   "metadata": {},
   "outputs": [],
   "source": [
    "# Count the number of words in each Text\n",
    "data_message['Count']=0\n",
    "for i in np.arange(0,len(data_message.message)):\n",
    "    data_message.loc[i,'Count'] = len(data_message.loc[i,'message'])"
   ]
  },
  {
   "cell_type": "code",
   "execution_count": 123,
   "metadata": {},
   "outputs": [
    {
     "data": {
      "text/html": [
       "<div>\n",
       "<style scoped>\n",
       "    .dataframe tbody tr th:only-of-type {\n",
       "        vertical-align: middle;\n",
       "    }\n",
       "\n",
       "    .dataframe tbody tr th {\n",
       "        vertical-align: top;\n",
       "    }\n",
       "\n",
       "    .dataframe thead th {\n",
       "        text-align: right;\n",
       "    }\n",
       "</style>\n",
       "<table border=\"1\" class=\"dataframe\">\n",
       "  <thead>\n",
       "    <tr style=\"text-align: right;\">\n",
       "      <th></th>\n",
       "      <th>label</th>\n",
       "      <th>message</th>\n",
       "      <th>Count</th>\n",
       "    </tr>\n",
       "  </thead>\n",
       "  <tbody>\n",
       "    <tr>\n",
       "      <th>0</th>\n",
       "      <td>ham</td>\n",
       "      <td>Go until jurong point, crazy.. Available only ...</td>\n",
       "      <td>111</td>\n",
       "    </tr>\n",
       "    <tr>\n",
       "      <th>1</th>\n",
       "      <td>ham</td>\n",
       "      <td>Ok lar... Joking wif u oni...</td>\n",
       "      <td>29</td>\n",
       "    </tr>\n",
       "    <tr>\n",
       "      <th>2</th>\n",
       "      <td>spam</td>\n",
       "      <td>Free entry in 2 a wkly comp to win FA Cup fina...</td>\n",
       "      <td>155</td>\n",
       "    </tr>\n",
       "    <tr>\n",
       "      <th>3</th>\n",
       "      <td>ham</td>\n",
       "      <td>U dun say so early hor... U c already then say...</td>\n",
       "      <td>49</td>\n",
       "    </tr>\n",
       "    <tr>\n",
       "      <th>4</th>\n",
       "      <td>ham</td>\n",
       "      <td>Nah I don't think he goes to usf, he lives aro...</td>\n",
       "      <td>61</td>\n",
       "    </tr>\n",
       "  </tbody>\n",
       "</table>\n",
       "</div>"
      ],
      "text/plain": [
       "  label                                            message  Count\n",
       "0   ham  Go until jurong point, crazy.. Available only ...    111\n",
       "1   ham                      Ok lar... Joking wif u oni...     29\n",
       "2  spam  Free entry in 2 a wkly comp to win FA Cup fina...    155\n",
       "3   ham  U dun say so early hor... U c already then say...     49\n",
       "4   ham  Nah I don't think he goes to usf, he lives aro...     61"
      ]
     },
     "execution_count": 123,
     "metadata": {},
     "output_type": "execute_result"
    }
   ],
   "source": [
    "data_message.head()"
   ]
  },
  {
   "cell_type": "code",
   "execution_count": 124,
   "metadata": {},
   "outputs": [
    {
     "name": "stdout",
     "output_type": "stream",
     "text": [
      "Number of ham messages in data set: 4825\n",
      "Ham Count value 271\n"
     ]
    }
   ],
   "source": [
    "# collecting ham messages in one place \n",
    "ham  = data_message[data_message.label == \"ham\"]\n",
    "ham_count  = pd.DataFrame(pd.value_counts(ham['Count'],sort=True).sort_index())\n",
    "print(\"Number of ham messages in data set:\", ham['label'].count())\n",
    "print(\"Ham Count value\", ham_count['Count'].count())"
   ]
  },
  {
   "cell_type": "code",
   "execution_count": 125,
   "metadata": {},
   "outputs": [
    {
     "name": "stdout",
     "output_type": "stream",
     "text": [
      "Number of spam messages in data set: 747\n",
      "Spam Count value: 115\n"
     ]
    }
   ],
   "source": [
    "# collecting spam messages in one place \n",
    "spam = data_message[data_message.label == \"spam\"]\n",
    "spam_count = pd.DataFrame(pd.value_counts(spam['Count'],sort=True).sort_index())\n",
    "print(\"Number of spam messages in data set:\", spam['label'].count())\n",
    "print(\"Spam Count value:\", spam_count['Count'].count())"
   ]
  },
  {
   "cell_type": "code",
   "execution_count": 126,
   "metadata": {},
   "outputs": [
    {
     "data": {
      "image/png": "[encoded data removed]",
      "text/plain": [
       "<Figure size 1224x360 with 1 Axes>"
      ]
     },
     "metadata": {},
     "output_type": "display_data"
    }
   ],
   "source": [
    "fig, ax = plt.subplots(figsize=(17,5))\n",
    "spam_count['Count'].value_counts().sort_index().plot(ax=ax, kind='bar',facecolor='red');\n",
    "ham_count['Count'].value_counts().sort_index().plot(ax=ax, kind='bar',facecolor='green');"
   ]
  },
  {
   "cell_type": "code",
   "execution_count": 127,
   "metadata": {},
   "outputs": [],
   "source": [
    "data_message[\"message\"] = data_message[\"message\"].str.replace(\"I\",\"i\")"
   ]
  },
  {
   "cell_type": "code",
   "execution_count": 128,
   "metadata": {},
   "outputs": [],
   "source": [
    "def count_capital(x):\n",
    "    return pd.DataFrame(x.values.tolist()).stack().str.split(expand=True).stack().str.isupper().sum()"
   ]
  },
  {
   "cell_type": "code",
   "execution_count": 129,
   "metadata": {},
   "outputs": [],
   "source": [
    "data_message[\"message_word_capital_count\"] = data_message[\"message\"].apply(lambda x :count_capital(pd.Series(x)))"
   ]
  },
  {
   "cell_type": "code",
   "execution_count": 130,
   "metadata": {},
   "outputs": [
    {
     "data": {
      "text/html": [
       "<div>\n",
       "<style scoped>\n",
       "    .dataframe tbody tr th:only-of-type {\n",
       "        vertical-align: middle;\n",
       "    }\n",
       "\n",
       "    .dataframe tbody tr th {\n",
       "        vertical-align: top;\n",
       "    }\n",
       "\n",
       "    .dataframe thead th {\n",
       "        text-align: right;\n",
       "    }\n",
       "</style>\n",
       "<table border=\"1\" class=\"dataframe\">\n",
       "  <thead>\n",
       "    <tr style=\"text-align: right;\">\n",
       "      <th></th>\n",
       "      <th>label</th>\n",
       "      <th>message</th>\n",
       "      <th>Count</th>\n",
       "      <th>message_word_capital_count</th>\n",
       "    </tr>\n",
       "  </thead>\n",
       "  <tbody>\n",
       "    <tr>\n",
       "      <th>0</th>\n",
       "      <td>ham</td>\n",
       "      <td>Go until jurong point, crazy.. Available only ...</td>\n",
       "      <td>111</td>\n",
       "      <td>0</td>\n",
       "    </tr>\n",
       "    <tr>\n",
       "      <th>1</th>\n",
       "      <td>ham</td>\n",
       "      <td>Ok lar... Joking wif u oni...</td>\n",
       "      <td>29</td>\n",
       "      <td>0</td>\n",
       "    </tr>\n",
       "    <tr>\n",
       "      <th>2</th>\n",
       "      <td>spam</td>\n",
       "      <td>Free entry in 2 a wkly comp to win FA Cup fina...</td>\n",
       "      <td>155</td>\n",
       "      <td>2</td>\n",
       "    </tr>\n",
       "    <tr>\n",
       "      <th>3</th>\n",
       "      <td>ham</td>\n",
       "      <td>U dun say so early hor... U c already then say...</td>\n",
       "      <td>49</td>\n",
       "      <td>2</td>\n",
       "    </tr>\n",
       "    <tr>\n",
       "      <th>4</th>\n",
       "      <td>ham</td>\n",
       "      <td>Nah i don't think he goes to usf, he lives aro...</td>\n",
       "      <td>61</td>\n",
       "      <td>0</td>\n",
       "    </tr>\n",
       "    <tr>\n",
       "      <th>5</th>\n",
       "      <td>spam</td>\n",
       "      <td>FreeMsg Hey there darling it's been 3 week's n...</td>\n",
       "      <td>147</td>\n",
       "      <td>0</td>\n",
       "    </tr>\n",
       "    <tr>\n",
       "      <th>6</th>\n",
       "      <td>ham</td>\n",
       "      <td>Even my brother is not like to speak with me. ...</td>\n",
       "      <td>77</td>\n",
       "      <td>0</td>\n",
       "    </tr>\n",
       "    <tr>\n",
       "      <th>7</th>\n",
       "      <td>ham</td>\n",
       "      <td>As per your request 'Melle Melle (Oru Minnamin...</td>\n",
       "      <td>160</td>\n",
       "      <td>0</td>\n",
       "    </tr>\n",
       "    <tr>\n",
       "      <th>8</th>\n",
       "      <td>spam</td>\n",
       "      <td>WiNNER!! As a valued network customer you have...</td>\n",
       "      <td>157</td>\n",
       "      <td>1</td>\n",
       "    </tr>\n",
       "    <tr>\n",
       "      <th>9</th>\n",
       "      <td>spam</td>\n",
       "      <td>Had your mobile 11 months or more? U R entitle...</td>\n",
       "      <td>154</td>\n",
       "      <td>3</td>\n",
       "    </tr>\n",
       "    <tr>\n",
       "      <th>10</th>\n",
       "      <td>ham</td>\n",
       "      <td>i'm gonna be home soon and i don't want to tal...</td>\n",
       "      <td>109</td>\n",
       "      <td>0</td>\n",
       "    </tr>\n",
       "    <tr>\n",
       "      <th>11</th>\n",
       "      <td>spam</td>\n",
       "      <td>SiX chances to win CASH! From 100 to 20,000 po...</td>\n",
       "      <td>136</td>\n",
       "      <td>3</td>\n",
       "    </tr>\n",
       "    <tr>\n",
       "      <th>12</th>\n",
       "      <td>spam</td>\n",
       "      <td>URGENT! You have won a 1 week FREE membership ...</td>\n",
       "      <td>155</td>\n",
       "      <td>6</td>\n",
       "    </tr>\n",
       "    <tr>\n",
       "      <th>13</th>\n",
       "      <td>ham</td>\n",
       "      <td>i've been searching for the right words to tha...</td>\n",
       "      <td>196</td>\n",
       "      <td>0</td>\n",
       "    </tr>\n",
       "    <tr>\n",
       "      <th>14</th>\n",
       "      <td>ham</td>\n",
       "      <td>i HAVE A DATE ON SUNDAY WiTH WiLL!!</td>\n",
       "      <td>35</td>\n",
       "      <td>5</td>\n",
       "    </tr>\n",
       "    <tr>\n",
       "      <th>15</th>\n",
       "      <td>spam</td>\n",
       "      <td>XXXMobileMovieClub: To use your credit, click ...</td>\n",
       "      <td>149</td>\n",
       "      <td>1</td>\n",
       "    </tr>\n",
       "    <tr>\n",
       "      <th>16</th>\n",
       "      <td>ham</td>\n",
       "      <td>Oh k...i'm watching here:)</td>\n",
       "      <td>26</td>\n",
       "      <td>0</td>\n",
       "    </tr>\n",
       "    <tr>\n",
       "      <th>17</th>\n",
       "      <td>ham</td>\n",
       "      <td>Eh u remember how 2 spell his name... Yes i di...</td>\n",
       "      <td>81</td>\n",
       "      <td>0</td>\n",
       "    </tr>\n",
       "    <tr>\n",
       "      <th>18</th>\n",
       "      <td>ham</td>\n",
       "      <td>Fine if thats the way u feel. Thats the way ...</td>\n",
       "      <td>56</td>\n",
       "      <td>0</td>\n",
       "    </tr>\n",
       "    <tr>\n",
       "      <th>19</th>\n",
       "      <td>spam</td>\n",
       "      <td>England v Macedonia - dont miss the goals/team...</td>\n",
       "      <td>155</td>\n",
       "      <td>2</td>\n",
       "    </tr>\n",
       "  </tbody>\n",
       "</table>\n",
       "</div>"
      ],
      "text/plain": [
       "   label                                            message  Count  \\\n",
       "0    ham  Go until jurong point, crazy.. Available only ...    111   \n",
       "1    ham                      Ok lar... Joking wif u oni...     29   \n",
       "2   spam  Free entry in 2 a wkly comp to win FA Cup fina...    155   \n",
       "3    ham  U dun say so early hor... U c already then say...     49   \n",
       "4    ham  Nah i don't think he goes to usf, he lives aro...     61   \n",
       "5   spam  FreeMsg Hey there darling it's been 3 week's n...    147   \n",
       "6    ham  Even my brother is not like to speak with me. ...     77   \n",
       "7    ham  As per your request 'Melle Melle (Oru Minnamin...    160   \n",
       "8   spam  WiNNER!! As a valued network customer you have...    157   \n",
       "9   spam  Had your mobile 11 months or more? U R entitle...    154   \n",
       "10   ham  i'm gonna be home soon and i don't want to tal...    109   \n",
       "11  spam  SiX chances to win CASH! From 100 to 20,000 po...    136   \n",
       "12  spam  URGENT! You have won a 1 week FREE membership ...    155   \n",
       "13   ham  i've been searching for the right words to tha...    196   \n",
       "14   ham                i HAVE A DATE ON SUNDAY WiTH WiLL!!     35   \n",
       "15  spam  XXXMobileMovieClub: To use your credit, click ...    149   \n",
       "16   ham                         Oh k...i'm watching here:)     26   \n",
       "17   ham  Eh u remember how 2 spell his name... Yes i di...     81   \n",
       "18   ham  Fine if thats the way u feel. Thats the way ...     56   \n",
       "19  spam  England v Macedonia - dont miss the goals/team...    155   \n",
       "\n",
       "    message_word_capital_count  \n",
       "0                            0  \n",
       "1                            0  \n",
       "2                            2  \n",
       "3                            2  \n",
       "4                            0  \n",
       "5                            0  \n",
       "6                            0  \n",
       "7                            0  \n",
       "8                            1  \n",
       "9                            3  \n",
       "10                           0  \n",
       "11                           3  \n",
       "12                           6  \n",
       "13                           0  \n",
       "14                           5  \n",
       "15                           1  \n",
       "16                           0  \n",
       "17                           0  \n",
       "18                           0  \n",
       "19                           2  "
      ]
     },
     "execution_count": 130,
     "metadata": {},
     "output_type": "execute_result"
    }
   ],
   "source": [
    "data_message.head(20)"
   ]
  },
  {
   "cell_type": "code",
   "execution_count": 131,
   "metadata": {},
   "outputs": [
    {
     "data": {
      "image/png": "[encoded data removed]",
      "text/plain": [
       "<Figure size 1224x360 with 1 Axes>"
      ]
     },
     "metadata": {},
     "output_type": "display_data"
    }
   ],
   "source": [
    "fig, ax = plt.subplots(figsize=(17,5))\n",
    "data_message[data_message['label']==\"spam\"]['message_word_capital_count'].value_counts().sort_index().plot(ax=ax, kind='bar',facecolor='red');\n",
    "data_message[data_message['label']==\"ham\"]['message_word_capital_count'].value_counts().sort_index().plot(ax=ax, kind='bar',facecolor='green');"
   ]
  },
  {
   "cell_type": "code",
   "execution_count": 132,
   "metadata": {},
   "outputs": [],
   "source": [
    "data_message[\"label_num\"] = np.where(data_message[\"label\"]==\"spam\",1,0)"
   ]
  },
  {
   "cell_type": "code",
   "execution_count": 133,
   "metadata": {},
   "outputs": [],
   "source": [
    "def digit_number_conversion(x):\n",
    "    return ''.join(\" number \" if c.isdigit() else c for c in x)"
   ]
  },
  {
   "cell_type": "code",
   "execution_count": 134,
   "metadata": {},
   "outputs": [],
   "source": [
    "data_message[\"message_digit_conversion\"] = data_message[\"message\"].apply(lambda x :digit_number_conversion(x))"
   ]
  },
  {
   "cell_type": "code",
   "execution_count": 135,
   "metadata": {},
   "outputs": [],
   "source": [
    "def digit_number_count(x):\n",
    "    return x.count(\"number\")"
   ]
  },
  {
   "cell_type": "code",
   "execution_count": 136,
   "metadata": {},
   "outputs": [],
   "source": [
    "data_message[\"digit_count\"] = data_message[\"message_digit_conversion\"].apply(lambda x :digit_number_count(x))"
   ]
  },
  {
   "cell_type": "code",
   "execution_count": 137,
   "metadata": {
    "scrolled": true
   },
   "outputs": [
    {
     "data": {
      "image/png": "[encoded data removed]",
      "text/plain": [
       "<Figure size 1224x360 with 1 Axes>"
      ]
     },
     "metadata": {},
     "output_type": "display_data"
    }
   ],
   "source": [
    "fig, ax = plt.subplots(figsize=(17,5))\n",
    "data_message[data_message['label']==\"spam\"]['digit_count'].value_counts().sort_index().plot(ax=ax, kind='bar',facecolor='red');\n",
    "data_message[data_message['label']==\"ham\"]['digit_count'].value_counts().sort_index().plot(ax=ax, kind='bar',facecolor='green');"
   ]
  },
  {
   "cell_type": "code",
   "execution_count": 138,
   "metadata": {},
   "outputs": [
    {
     "data": {
      "text/plain": [
       "Index(['label', 'message', 'Count', 'message_word_capital_count', 'label_num',\n",
       "       'message_digit_conversion', 'digit_count'],\n",
       "      dtype='object')"
      ]
     },
     "execution_count": 138,
     "metadata": {},
     "output_type": "execute_result"
    }
   ],
   "source": [
    "data_message.columns"
   ]
  },
  {
   "cell_type": "code",
   "execution_count": 139,
   "metadata": {},
   "outputs": [],
   "source": [
    "data_message[\"message_didit_currency_conversion\"] = data_message['message_digit_conversion'].str.replace('$' ,' currency ')\n",
    "data_message[\"message_didit_currency_conversion\"] = data_message['message_didit_currency_conversion'].str.replace('£' ,' currency ')\n",
    "data_message[\"message_didit_currency_conversion\"] = data_message['message_didit_currency_conversion'].str.replace('€' ,' currency ')\n",
    "data_message[\"message_didit_currency_conversion\"] = data_message['message_didit_currency_conversion'].str.replace('₹' ,' currency ')\n",
    "data_message[\"message_didit_currency_conversion\"] = data_message['message_didit_currency_conversion'].str.replace('¥' ,' currency ')\n",
    "\n",
    "#,',':' ','&':' ','(':' ',')':' ','*':' ','[':' ',']':' '})\n",
    "                                                               "
   ]
  },
  {
   "cell_type": "code",
   "execution_count": 140,
   "metadata": {},
   "outputs": [],
   "source": [
    "def currency_count(x):\n",
    "    return x.count(\"currency\")"
   ]
  },
  {
   "cell_type": "code",
   "execution_count": 141,
   "metadata": {},
   "outputs": [],
   "source": [
    "data_message[\"currency_count\"] = data_message[\"message_didit_currency_conversion\"].apply(lambda x :digit_number_count(x))"
   ]
  },
  {
   "cell_type": "code",
   "execution_count": 142,
   "metadata": {},
   "outputs": [
    {
     "data": {
      "text/plain": [
       "spam    610\n",
       "ham      33\n",
       "Name: label, dtype: int64"
      ]
     },
     "execution_count": 142,
     "metadata": {},
     "output_type": "execute_result"
    }
   ],
   "source": [
    "data_message[data_message[\"currency_count\"]>6][\"label\"].value_counts()"
   ]
  },
  {
   "cell_type": "code",
   "execution_count": 143,
   "metadata": {},
   "outputs": [],
   "source": [
    "data_message[\"message_clean\"] = data_message[\"message_didit_currency_conversion\"].apply(lambda x :preprocessing(x))"
   ]
  },
  {
   "cell_type": "code",
   "execution_count": 144,
   "metadata": {},
   "outputs": [
    {
     "data": {
      "text/html": [
       "<div>\n",
       "<style scoped>\n",
       "    .dataframe tbody tr th:only-of-type {\n",
       "        vertical-align: middle;\n",
       "    }\n",
       "\n",
       "    .dataframe tbody tr th {\n",
       "        vertical-align: top;\n",
       "    }\n",
       "\n",
       "    .dataframe thead th {\n",
       "        text-align: right;\n",
       "    }\n",
       "</style>\n",
       "<table border=\"1\" class=\"dataframe\">\n",
       "  <thead>\n",
       "    <tr style=\"text-align: right;\">\n",
       "      <th></th>\n",
       "      <th>label</th>\n",
       "      <th>message</th>\n",
       "      <th>Count</th>\n",
       "      <th>message_word_capital_count</th>\n",
       "      <th>label_num</th>\n",
       "      <th>message_digit_conversion</th>\n",
       "      <th>digit_count</th>\n",
       "      <th>message_didit_currency_conversion</th>\n",
       "      <th>currency_count</th>\n",
       "      <th>message_clean</th>\n",
       "    </tr>\n",
       "  </thead>\n",
       "  <tbody>\n",
       "    <tr>\n",
       "      <th>0</th>\n",
       "      <td>ham</td>\n",
       "      <td>Go until jurong point, crazy.. Available only ...</td>\n",
       "      <td>111</td>\n",
       "      <td>0</td>\n",
       "      <td>0</td>\n",
       "      <td>Go until jurong point, crazy.. Available only ...</td>\n",
       "      <td>0</td>\n",
       "      <td>Go until jurong point, crazy.. Available only ...</td>\n",
       "      <td>0</td>\n",
       "      <td>jurong point crazi avail bugi great world buff...</td>\n",
       "    </tr>\n",
       "    <tr>\n",
       "      <th>1</th>\n",
       "      <td>ham</td>\n",
       "      <td>Ok lar... Joking wif u oni...</td>\n",
       "      <td>29</td>\n",
       "      <td>0</td>\n",
       "      <td>0</td>\n",
       "      <td>Ok lar... Joking wif u oni...</td>\n",
       "      <td>0</td>\n",
       "      <td>Ok lar... Joking wif u oni...</td>\n",
       "      <td>0</td>\n",
       "      <td>lar joke wif oni</td>\n",
       "    </tr>\n",
       "    <tr>\n",
       "      <th>2</th>\n",
       "      <td>spam</td>\n",
       "      <td>Free entry in 2 a wkly comp to win FA Cup fina...</td>\n",
       "      <td>155</td>\n",
       "      <td>2</td>\n",
       "      <td>1</td>\n",
       "      <td>Free entry in  number  a wkly comp to win FA C...</td>\n",
       "      <td>25</td>\n",
       "      <td>Free entry in  number  a wkly comp to win FA C...</td>\n",
       "      <td>25</td>\n",
       "      <td>free entri number wkli comp win cup final tkt ...</td>\n",
       "    </tr>\n",
       "    <tr>\n",
       "      <th>3</th>\n",
       "      <td>ham</td>\n",
       "      <td>U dun say so early hor... U c already then say...</td>\n",
       "      <td>49</td>\n",
       "      <td>2</td>\n",
       "      <td>0</td>\n",
       "      <td>U dun say so early hor... U c already then say...</td>\n",
       "      <td>0</td>\n",
       "      <td>U dun say so early hor... U c already then say...</td>\n",
       "      <td>0</td>\n",
       "      <td>dun say earli hor alreadi say</td>\n",
       "    </tr>\n",
       "    <tr>\n",
       "      <th>4</th>\n",
       "      <td>ham</td>\n",
       "      <td>Nah i don't think he goes to usf, he lives aro...</td>\n",
       "      <td>61</td>\n",
       "      <td>0</td>\n",
       "      <td>0</td>\n",
       "      <td>Nah i don't think he goes to usf, he lives aro...</td>\n",
       "      <td>0</td>\n",
       "      <td>Nah i don't think he goes to usf, he lives aro...</td>\n",
       "      <td>0</td>\n",
       "      <td>nah think goe usf live around though</td>\n",
       "    </tr>\n",
       "  </tbody>\n",
       "</table>\n",
       "</div>"
      ],
      "text/plain": [
       "  label                                            message  Count  \\\n",
       "0   ham  Go until jurong point, crazy.. Available only ...    111   \n",
       "1   ham                      Ok lar... Joking wif u oni...     29   \n",
       "2  spam  Free entry in 2 a wkly comp to win FA Cup fina...    155   \n",
       "3   ham  U dun say so early hor... U c already then say...     49   \n",
       "4   ham  Nah i don't think he goes to usf, he lives aro...     61   \n",
       "\n",
       "   message_word_capital_count  label_num  \\\n",
       "0                           0          0   \n",
       "1                           0          0   \n",
       "2                           2          1   \n",
       "3                           2          0   \n",
       "4                           0          0   \n",
       "\n",
       "                            message_digit_conversion  digit_count  \\\n",
       "0  Go until jurong point, crazy.. Available only ...            0   \n",
       "1                      Ok lar... Joking wif u oni...            0   \n",
       "2  Free entry in  number  a wkly comp to win FA C...           25   \n",
       "3  U dun say so early hor... U c already then say...            0   \n",
       "4  Nah i don't think he goes to usf, he lives aro...            0   \n",
       "\n",
       "                   message_didit_currency_conversion  currency_count  \\\n",
       "0  Go until jurong point, crazy.. Available only ...               0   \n",
       "1                      Ok lar... Joking wif u oni...               0   \n",
       "2  Free entry in  number  a wkly comp to win FA C...              25   \n",
       "3  U dun say so early hor... U c already then say...               0   \n",
       "4  Nah i don't think he goes to usf, he lives aro...               0   \n",
       "\n",
       "                                       message_clean  \n",
       "0  jurong point crazi avail bugi great world buff...  \n",
       "1                                   lar joke wif oni  \n",
       "2  free entri number wkli comp win cup final tkt ...  \n",
       "3                      dun say earli hor alreadi say  \n",
       "4               nah think goe usf live around though  "
      ]
     },
     "execution_count": 144,
     "metadata": {},
     "output_type": "execute_result"
    }
   ],
   "source": [
    "data_message.head()"
   ]
  },
  {
   "cell_type": "code",
   "execution_count": 145,
   "metadata": {},
   "outputs": [],
   "source": [
    "X = data_message[[\"message_clean\",\"Count\",\"message_word_capital_count\",\"digit_count\",\"currency_count\"]]"
   ]
  },
  {
   "cell_type": "code",
   "execution_count": 146,
   "metadata": {},
   "outputs": [],
   "source": [
    "y = data_message[\"label_num\"]"
   ]
  },
  {
   "cell_type": "code",
   "execution_count": 147,
   "metadata": {},
   "outputs": [],
   "source": [
    "train_X, test_X, train_y, test_y = train_test_split(X,y, test_size = 0.3)"
   ]
  },
  {
   "cell_type": "code",
   "execution_count": 148,
   "metadata": {},
   "outputs": [],
   "source": [
    "#n_train = np.array(train_X[[\"Count\",\"message_word_capital_count\",\"digit_count\",\"currency_count\"]])\n",
    "#n_test = np.array(test_X[[\"Count\",\"message_word_capital_count\",\"digit_count\",\"currency_count\"]])\n"
   ]
  },
  {
   "cell_type": "code",
   "execution_count": 149,
   "metadata": {},
   "outputs": [],
   "source": [
    "#x_train_2 = np.concatenate((x_train_2,n_train), axis=1)"
   ]
  },
  {
   "cell_type": "code",
   "execution_count": 150,
   "metadata": {},
   "outputs": [],
   "source": [
    "#x_test_2 = np.concatenate((x_test_2,n_test), axis=1)"
   ]
  },
  {
   "cell_type": "markdown",
   "metadata": {},
   "source": [
    "# Text Wrangling & Normalization"
   ]
  },
  {
   "cell_type": "code",
   "execution_count": 151,
   "metadata": {},
   "outputs": [],
   "source": [
    "import contractions\n",
    "from bs4 import BeautifulSoup\n",
    "import numpy as np\n",
    "import re\n",
    "import tqdm\n",
    "import unicodedata\n",
    "\n",
    "\n",
    "def strip_html_tags(text):\n",
    "  soup = BeautifulSoup(text, \"html.parser\")\n",
    "  [s.extract() for s in soup(['iframe', 'script'])]\n",
    "  stripped_text = soup.get_text()\n",
    "  stripped_text = re.sub(r'[\\r|\\n|\\r\\n]+', '\\n', stripped_text)\n",
    "  return stripped_text\n",
    "\n",
    "def remove_accented_chars(text):\n",
    "  text = unicodedata.normalize('NFKD', text).encode('ascii', 'ignore').decode('utf-8', 'ignore')\n",
    "  return text\n",
    "\n",
    "def pre_process_corpus(docs):\n",
    "  norm_docs = []\n",
    "  for doc in tqdm.tqdm(docs):\n",
    "    doc = strip_html_tags(doc)\n",
    "    doc = doc.translate(doc.maketrans(\"\\n\\t\\r\", \"   \"))\n",
    "    doc = doc.lower()\n",
    "    doc = remove_accented_chars(doc)\n",
    "    doc = contractions.fix(doc)\n",
    "    # lower case and remove special characters\\whitespaces\n",
    "    doc = re.sub(r'[^a-zA-Z0-9\\s]', '', doc, re.I|re.A)\n",
    "    doc = re.sub(' +', ' ', doc)\n",
    "    doc = doc.strip()  \n",
    "    norm_docs.append(doc)\n",
    "  \n",
    "  return norm_docs"
   ]
  },
  {
   "cell_type": "code",
   "execution_count": 152,
   "metadata": {},
   "outputs": [
    {
     "name": "stderr",
     "output_type": "stream",
     "text": [
      "100%|██████████| 3900/3900 [00:00<00:00, 7004.75it/s]\n",
      "100%|██████████| 1672/1672 [00:00<00:00, 6582.34it/s]"
     ]
    },
    {
     "name": "stdout",
     "output_type": "stream",
     "text": [
      "CPU times: user 700 ms, sys: 95.3 ms, total: 796 ms\n",
      "Wall time: 840 ms\n"
     ]
    },
    {
     "name": "stderr",
     "output_type": "stream",
     "text": [
      "\n"
     ]
    }
   ],
   "source": [
    "%%time\n",
    "\n",
    "norm_train_message = pre_process_corpus(train_X[\"message_clean\"])\n",
    "norm_test_message = pre_process_corpus(test_X[\"message_clean\"])"
   ]
  },
  {
   "cell_type": "code",
   "execution_count": 153,
   "metadata": {},
   "outputs": [],
   "source": [
    "result_data = dict()\n",
    "\n",
    "def wrong_prediction(conf):\n",
    "    return conf[0][1] + conf[1][0]\n"
   ]
  },
  {
   "cell_type": "markdown",
   "metadata": {},
   "source": [
    "#  Traditional Supervised Machine Learning Models"
   ]
  },
  {
   "cell_type": "markdown",
   "metadata": {},
   "source": [
    "## Feature Engineering\n"
   ]
  },
  {
   "cell_type": "code",
   "execution_count": 154,
   "metadata": {},
   "outputs": [
    {
     "name": "stdout",
     "output_type": "stream",
     "text": [
      "CPU times: user 273 ms, sys: 43.8 ms, total: 317 ms\n",
      "Wall time: 365 ms\n"
     ]
    }
   ],
   "source": [
    "%%time\n",
    "\n",
    "from sklearn.feature_extraction.text import CountVectorizer, TfidfVectorizer\n",
    "\n",
    "# build BOW features on train reviews\n",
    "cv = CountVectorizer(binary=False, min_df=5, max_df=1.0, ngram_range=(1,2))\n",
    "cv_train_features = cv.fit_transform(norm_train_message)\n",
    "\n",
    "\n",
    "# build TFIDF features on train reviews\n",
    "tv = TfidfVectorizer(use_idf=True, min_df=5, max_df=1.0, ngram_range=(1,2),\n",
    "                     sublinear_tf=True)\n",
    "tv_train_features = tv.fit_transform(norm_train_message)"
   ]
  },
  {
   "cell_type": "code",
   "execution_count": 155,
   "metadata": {},
   "outputs": [
    {
     "name": "stdout",
     "output_type": "stream",
     "text": [
      "CPU times: user 69.3 ms, sys: 2.92 ms, total: 72.2 ms\n",
      "Wall time: 71.9 ms\n"
     ]
    }
   ],
   "source": [
    "%%time\n",
    "\n",
    "# transform test reviews into features\n",
    "cv_test_features = cv.transform(norm_test_message)\n",
    "tv_test_features = tv.transform(norm_test_message)"
   ]
  },
  {
   "cell_type": "code",
   "execution_count": 156,
   "metadata": {},
   "outputs": [
    {
     "name": "stdout",
     "output_type": "stream",
     "text": [
      "BOW model:> Train features shape: (3900, 1570)  Test features shape: (1672, 1570)\n",
      "TFIDF model:> Train features shape: (3900, 1570)  Test features shape: (1672, 1570)\n"
     ]
    }
   ],
   "source": [
    "print('BOW model:> Train features shape:', cv_train_features.shape, ' Test features shape:', cv_test_features.shape)\n",
    "print('TFIDF model:> Train features shape:', tv_train_features.shape, ' Test features shape:', tv_test_features.shape)"
   ]
  },
  {
   "cell_type": "markdown",
   "metadata": {},
   "source": [
    "## Model Training, Prediction and Performance Evaluation"
   ]
  },
  {
   "cell_type": "markdown",
   "metadata": {},
   "source": [
    "### Logistic Regression\n",
    "The logistic regression model is actually a statistical model developed by statistician David Cox in 1958. It is also known as the logit or logistic model since it uses the logistic (popularly also known as sigmoid) mathematical function to estimate the parameter values. These are the coefficients of all our features such that the overall loss is minimized when predicting the outcome—"
   ]
  },
  {
   "cell_type": "code",
   "execution_count": 157,
   "metadata": {},
   "outputs": [
    {
     "name": "stdout",
     "output_type": "stream",
     "text": [
      "CPU times: user 58.4 ms, sys: 35.6 ms, total: 94.1 ms\n",
      "Wall time: 141 ms\n"
     ]
    }
   ],
   "source": [
    "%%time\n",
    "\n",
    "# Logistic Regression model on BOW features\n",
    "from sklearn.linear_model import LogisticRegression\n",
    "\n",
    "# instantiate model\n",
    "lr = LogisticRegression(penalty='l2', max_iter=500, C=1, solver='lbfgs', random_state=42)\n",
    "\n",
    "# train model\n",
    "lr.fit(cv_train_features, train_y)\n",
    "\n",
    "# predict on test data\n",
    "lr_bow_predictions = lr.predict(cv_test_features)"
   ]
  },
  {
   "cell_type": "code",
   "execution_count": 158,
   "metadata": {},
   "outputs": [
    {
     "name": "stdout",
     "output_type": "stream",
     "text": [
      "              precision    recall  f1-score   support\n",
      "\n",
      "           0       0.99      1.00      0.99      1454\n",
      "           1       0.98      0.90      0.94       218\n",
      "\n",
      "    accuracy                           0.99      1672\n",
      "   macro avg       0.99      0.95      0.97      1672\n",
      "weighted avg       0.99      0.99      0.99      1672\n",
      "\n"
     ]
    },
    {
     "data": {
      "text/html": [
       "<div>\n",
       "<style scoped>\n",
       "    .dataframe tbody tr th:only-of-type {\n",
       "        vertical-align: middle;\n",
       "    }\n",
       "\n",
       "    .dataframe tbody tr th {\n",
       "        vertical-align: top;\n",
       "    }\n",
       "\n",
       "    .dataframe thead th {\n",
       "        text-align: right;\n",
       "    }\n",
       "</style>\n",
       "<table border=\"1\" class=\"dataframe\">\n",
       "  <thead>\n",
       "    <tr style=\"text-align: right;\">\n",
       "      <th></th>\n",
       "      <th>spam</th>\n",
       "      <th>ham</th>\n",
       "    </tr>\n",
       "  </thead>\n",
       "  <tbody>\n",
       "    <tr>\n",
       "      <th>spam</th>\n",
       "      <td>1451</td>\n",
       "      <td>3</td>\n",
       "    </tr>\n",
       "    <tr>\n",
       "      <th>ham</th>\n",
       "      <td>21</td>\n",
       "      <td>197</td>\n",
       "    </tr>\n",
       "  </tbody>\n",
       "</table>\n",
       "</div>"
      ],
      "text/plain": [
       "      spam  ham\n",
       "spam  1451    3\n",
       "ham     21  197"
      ]
     },
     "execution_count": 158,
     "metadata": {},
     "output_type": "execute_result"
    }
   ],
   "source": [
    "from sklearn.metrics import confusion_matrix, classification_report\n",
    "\n",
    "labels = ['spam', 'ham']\n",
    "print(classification_report(test_y, lr_bow_predictions))\n",
    "pd.DataFrame(confusion_matrix(test_y, lr_bow_predictions), index=labels, columns=labels)"
   ]
  },
  {
   "cell_type": "code",
   "execution_count": 159,
   "metadata": {},
   "outputs": [],
   "source": [
    "result_data.update({'Logistic_BOW': wrong_prediction(confusion_matrix(test_y, lr_bow_predictions))})"
   ]
  },
  {
   "cell_type": "code",
   "execution_count": 181,
   "metadata": {},
   "outputs": [
    {
     "name": "stdout",
     "output_type": "stream",
     "text": [
      "CPU times: user 65.2 ms, sys: 2.73 ms, total: 67.9 ms\n",
      "Wall time: 66.7 ms\n"
     ]
    }
   ],
   "source": [
    "%%time\n",
    "\n",
    "# Logistic Regression model on TFIDF features\n",
    "from sklearn.linear_model import LogisticRegression\n",
    "\n",
    "# instantiate model\n",
    "lr = LogisticRegression(penalty='l2', max_iter=1000, C=100, solver='newton-cg', random_state=42)\n",
    "\n",
    "# train model\n",
    "lr.fit(tv_train_features, train_y)\n",
    "\n",
    "# predict on test data\n",
    "lr_tfidf_predictions = lr.predict(tv_test_features)"
   ]
  },
  {
   "cell_type": "code",
   "execution_count": 182,
   "metadata": {},
   "outputs": [
    {
     "name": "stdout",
     "output_type": "stream",
     "text": [
      "              precision    recall  f1-score   support\n",
      "\n",
      "           0       0.99      1.00      0.99      1454\n",
      "           1       0.97      0.93      0.95       218\n",
      "\n",
      "    accuracy                           0.99      1672\n",
      "   macro avg       0.98      0.96      0.97      1672\n",
      "weighted avg       0.99      0.99      0.99      1672\n",
      "\n"
     ]
    },
    {
     "data": {
      "text/html": [
       "<div>\n",
       "<style scoped>\n",
       "    .dataframe tbody tr th:only-of-type {\n",
       "        vertical-align: middle;\n",
       "    }\n",
       "\n",
       "    .dataframe tbody tr th {\n",
       "        vertical-align: top;\n",
       "    }\n",
       "\n",
       "    .dataframe thead th {\n",
       "        text-align: right;\n",
       "    }\n",
       "</style>\n",
       "<table border=\"1\" class=\"dataframe\">\n",
       "  <thead>\n",
       "    <tr style=\"text-align: right;\">\n",
       "      <th></th>\n",
       "      <th>spam</th>\n",
       "      <th>ham</th>\n",
       "    </tr>\n",
       "  </thead>\n",
       "  <tbody>\n",
       "    <tr>\n",
       "      <th>spam</th>\n",
       "      <td>1447</td>\n",
       "      <td>7</td>\n",
       "    </tr>\n",
       "    <tr>\n",
       "      <th>ham</th>\n",
       "      <td>16</td>\n",
       "      <td>202</td>\n",
       "    </tr>\n",
       "  </tbody>\n",
       "</table>\n",
       "</div>"
      ],
      "text/plain": [
       "      spam  ham\n",
       "spam  1447    7\n",
       "ham     16  202"
      ]
     },
     "execution_count": 182,
     "metadata": {},
     "output_type": "execute_result"
    }
   ],
   "source": [
    "from sklearn.metrics import confusion_matrix, classification_report\n",
    "\n",
    "labels = ['spam', 'ham']\n",
    "print(classification_report(test_y, lr_tfidf_predictions))\n",
    "pd.DataFrame(confusion_matrix(test_y, lr_tfidf_predictions), index=labels, columns=labels)"
   ]
  },
  {
   "cell_type": "code",
   "execution_count": 183,
   "metadata": {},
   "outputs": [],
   "source": [
    "#Appending the result\n",
    "result_data.update({'Logistic_TFIDF': wrong_prediction(confusion_matrix(test_y, lr_tfidf_predictions))})"
   ]
  },
  {
   "cell_type": "markdown",
   "metadata": {},
   "source": [
    "### Multinomial Naive Bayes\n",
    "\n",
    "The multinomial Naive Bayes classifier is suitable for classification with discrete features (e.g., word counts for text classification). The multinomial distribution normally requires integer feature counts. However, in practice, fractional counts such as tf-idf may also work."
   ]
  },
  {
   "cell_type": "code",
   "execution_count": 184,
   "metadata": {},
   "outputs": [
    {
     "name": "stdout",
     "output_type": "stream",
     "text": [
      "CPU times: user 4.4 ms, sys: 29.1 ms, total: 33.5 ms\n",
      "Wall time: 67.4 ms\n"
     ]
    }
   ],
   "source": [
    "%%time\n",
    "\n",
    "# MultinomialNB model on BOW features\n",
    "from sklearn.naive_bayes import MultinomialNB\n",
    "\n",
    "# instantiate model\n",
    "NB = MultinomialNB()\n",
    "\n",
    "# train model\n",
    "NB.fit(cv_train_features, train_y)\n",
    "\n",
    "# predict on test data\n",
    "NB_BOW_predictions = NB.predict(cv_test_features)"
   ]
  },
  {
   "cell_type": "code",
   "execution_count": 185,
   "metadata": {},
   "outputs": [
    {
     "name": "stdout",
     "output_type": "stream",
     "text": [
      "              precision    recall  f1-score   support\n",
      "\n",
      "           0       0.99      0.99      0.99      1454\n",
      "           1       0.91      0.94      0.92       218\n",
      "\n",
      "    accuracy                           0.98      1672\n",
      "   macro avg       0.95      0.96      0.96      1672\n",
      "weighted avg       0.98      0.98      0.98      1672\n",
      "\n"
     ]
    },
    {
     "data": {
      "text/html": [
       "<div>\n",
       "<style scoped>\n",
       "    .dataframe tbody tr th:only-of-type {\n",
       "        vertical-align: middle;\n",
       "    }\n",
       "\n",
       "    .dataframe tbody tr th {\n",
       "        vertical-align: top;\n",
       "    }\n",
       "\n",
       "    .dataframe thead th {\n",
       "        text-align: right;\n",
       "    }\n",
       "</style>\n",
       "<table border=\"1\" class=\"dataframe\">\n",
       "  <thead>\n",
       "    <tr style=\"text-align: right;\">\n",
       "      <th></th>\n",
       "      <th>spam</th>\n",
       "      <th>ham</th>\n",
       "    </tr>\n",
       "  </thead>\n",
       "  <tbody>\n",
       "    <tr>\n",
       "      <th>spam</th>\n",
       "      <td>1433</td>\n",
       "      <td>21</td>\n",
       "    </tr>\n",
       "    <tr>\n",
       "      <th>ham</th>\n",
       "      <td>13</td>\n",
       "      <td>205</td>\n",
       "    </tr>\n",
       "  </tbody>\n",
       "</table>\n",
       "</div>"
      ],
      "text/plain": [
       "      spam  ham\n",
       "spam  1433   21\n",
       "ham     13  205"
      ]
     },
     "execution_count": 185,
     "metadata": {},
     "output_type": "execute_result"
    }
   ],
   "source": [
    "from sklearn.metrics import confusion_matrix, classification_report\n",
    "\n",
    "labels = ['spam', 'ham']\n",
    "print(classification_report(test_y, NB_BOW_predictions))\n",
    "pd.DataFrame(confusion_matrix(test_y, NB_BOW_predictions), index=labels, columns=labels)"
   ]
  },
  {
   "cell_type": "code",
   "execution_count": 186,
   "metadata": {},
   "outputs": [],
   "source": [
    "result_data.update({'NaiveBayes_BOW': wrong_prediction(confusion_matrix(test_y, NB_BOW_predictions))})"
   ]
  },
  {
   "cell_type": "code",
   "execution_count": 187,
   "metadata": {},
   "outputs": [
    {
     "name": "stdout",
     "output_type": "stream",
     "text": [
      "CPU times: user 3.05 ms, sys: 1.46 ms, total: 4.51 ms\n",
      "Wall time: 3.11 ms\n"
     ]
    }
   ],
   "source": [
    "%%time\n",
    "\n",
    "# MultinomialNB model on TFIDF features\n",
    "from sklearn.naive_bayes import MultinomialNB\n",
    "\n",
    "# instantiate model\n",
    "NB = MultinomialNB()\n",
    "\n",
    "# train model\n",
    "NB.fit(tv_train_features, train_y)\n",
    "\n",
    "# predict on test data\n",
    "NB_tfidf_predictions = NB.predict(tv_test_features)"
   ]
  },
  {
   "cell_type": "code",
   "execution_count": 188,
   "metadata": {},
   "outputs": [
    {
     "name": "stdout",
     "output_type": "stream",
     "text": [
      "              precision    recall  f1-score   support\n",
      "\n",
      "           0       0.99      1.00      0.99      1454\n",
      "           1       0.98      0.91      0.94       218\n",
      "\n",
      "    accuracy                           0.99      1672\n",
      "   macro avg       0.98      0.95      0.97      1672\n",
      "weighted avg       0.98      0.99      0.98      1672\n",
      "\n"
     ]
    },
    {
     "data": {
      "text/html": [
       "<div>\n",
       "<style scoped>\n",
       "    .dataframe tbody tr th:only-of-type {\n",
       "        vertical-align: middle;\n",
       "    }\n",
       "\n",
       "    .dataframe tbody tr th {\n",
       "        vertical-align: top;\n",
       "    }\n",
       "\n",
       "    .dataframe thead th {\n",
       "        text-align: right;\n",
       "    }\n",
       "</style>\n",
       "<table border=\"1\" class=\"dataframe\">\n",
       "  <thead>\n",
       "    <tr style=\"text-align: right;\">\n",
       "      <th></th>\n",
       "      <th>spam</th>\n",
       "      <th>ham</th>\n",
       "    </tr>\n",
       "  </thead>\n",
       "  <tbody>\n",
       "    <tr>\n",
       "      <th>spam</th>\n",
       "      <td>1449</td>\n",
       "      <td>5</td>\n",
       "    </tr>\n",
       "    <tr>\n",
       "      <th>ham</th>\n",
       "      <td>20</td>\n",
       "      <td>198</td>\n",
       "    </tr>\n",
       "  </tbody>\n",
       "</table>\n",
       "</div>"
      ],
      "text/plain": [
       "      spam  ham\n",
       "spam  1449    5\n",
       "ham     20  198"
      ]
     },
     "execution_count": 188,
     "metadata": {},
     "output_type": "execute_result"
    }
   ],
   "source": [
    "from sklearn.metrics import confusion_matrix, classification_report\n",
    "\n",
    "labels = ['spam', 'ham']\n",
    "print(classification_report(test_y, NB_tfidf_predictions))\n",
    "pd.DataFrame(confusion_matrix(test_y, NB_tfidf_predictions), index=labels, columns=labels)"
   ]
  },
  {
   "cell_type": "code",
   "execution_count": 189,
   "metadata": {},
   "outputs": [],
   "source": [
    "result_data.update({'NaiveBayes_TFIDF': wrong_prediction(confusion_matrix(test_y, NB_tfidf_predictions))})"
   ]
  },
  {
   "cell_type": "markdown",
   "metadata": {},
   "source": [
    "### Decision Tree\n",
    "A decision tree is a decision support tool that uses a tree-like model of decisions and their possible consequences, including chance event outcomes, resource costs, and utility. It is one way to display an algorithm that only contains conditional control statements."
   ]
  },
  {
   "cell_type": "code",
   "execution_count": 190,
   "metadata": {},
   "outputs": [
    {
     "name": "stdout",
     "output_type": "stream",
     "text": [
      "CPU times: user 53.5 ms, sys: 109 ms, total: 162 ms\n",
      "Wall time: 287 ms\n"
     ]
    }
   ],
   "source": [
    "%%time\n",
    "\n",
    "# Decision Tree model on BOW features\n",
    "from sklearn.tree import DecisionTreeClassifier\n",
    "\n",
    "# instantiate model\n",
    "dtree = DecisionTreeClassifier(random_state=42)\n",
    "\n",
    "# train model\n",
    "dtree.fit(cv_train_features, train_y)\n",
    "\n",
    "# predict on test data\n",
    "dtree_bow_predictions = dtree.predict(cv_test_features)"
   ]
  },
  {
   "cell_type": "code",
   "execution_count": 191,
   "metadata": {},
   "outputs": [
    {
     "name": "stdout",
     "output_type": "stream",
     "text": [
      "              precision    recall  f1-score   support\n",
      "\n",
      "           0       0.98      0.99      0.99      1454\n",
      "           1       0.94      0.89      0.91       218\n",
      "\n",
      "    accuracy                           0.98      1672\n",
      "   macro avg       0.96      0.94      0.95      1672\n",
      "weighted avg       0.98      0.98      0.98      1672\n",
      "\n"
     ]
    },
    {
     "data": {
      "text/html": [
       "<div>\n",
       "<style scoped>\n",
       "    .dataframe tbody tr th:only-of-type {\n",
       "        vertical-align: middle;\n",
       "    }\n",
       "\n",
       "    .dataframe tbody tr th {\n",
       "        vertical-align: top;\n",
       "    }\n",
       "\n",
       "    .dataframe thead th {\n",
       "        text-align: right;\n",
       "    }\n",
       "</style>\n",
       "<table border=\"1\" class=\"dataframe\">\n",
       "  <thead>\n",
       "    <tr style=\"text-align: right;\">\n",
       "      <th></th>\n",
       "      <th>spam</th>\n",
       "      <th>ham</th>\n",
       "    </tr>\n",
       "  </thead>\n",
       "  <tbody>\n",
       "    <tr>\n",
       "      <th>spam</th>\n",
       "      <td>1442</td>\n",
       "      <td>12</td>\n",
       "    </tr>\n",
       "    <tr>\n",
       "      <th>ham</th>\n",
       "      <td>25</td>\n",
       "      <td>193</td>\n",
       "    </tr>\n",
       "  </tbody>\n",
       "</table>\n",
       "</div>"
      ],
      "text/plain": [
       "      spam  ham\n",
       "spam  1442   12\n",
       "ham     25  193"
      ]
     },
     "execution_count": 191,
     "metadata": {},
     "output_type": "execute_result"
    }
   ],
   "source": [
    "from sklearn.metrics import confusion_matrix, classification_report\n",
    "\n",
    "labels = ['spam', 'ham']\n",
    "print(classification_report(test_y, dtree_bow_predictions))\n",
    "pd.DataFrame(confusion_matrix(test_y, dtree_bow_predictions), index=labels, columns=labels)"
   ]
  },
  {
   "cell_type": "code",
   "execution_count": 192,
   "metadata": {},
   "outputs": [],
   "source": [
    "result_data.update({'DecisionTree_BOW': wrong_prediction(confusion_matrix(test_y, dtree_bow_predictions))})"
   ]
  },
  {
   "cell_type": "code",
   "execution_count": 193,
   "metadata": {},
   "outputs": [
    {
     "name": "stdout",
     "output_type": "stream",
     "text": [
      "CPU times: user 92.1 ms, sys: 1.96 ms, total: 94.1 ms\n",
      "Wall time: 93.8 ms\n"
     ]
    }
   ],
   "source": [
    "%%time\n",
    "\n",
    "# Decision Tree model on TFIDF features\n",
    "from sklearn.tree import DecisionTreeClassifier\n",
    "\n",
    "# instantiate model\n",
    "dtree = DecisionTreeClassifier(random_state=42)\n",
    "\n",
    "# train model\n",
    "dtree.fit(tv_train_features, train_y)\n",
    "\n",
    "# predict on test data\n",
    "dtree_tfidf_predictions = dtree.predict(tv_test_features)"
   ]
  },
  {
   "cell_type": "code",
   "execution_count": 194,
   "metadata": {},
   "outputs": [
    {
     "name": "stdout",
     "output_type": "stream",
     "text": [
      "              precision    recall  f1-score   support\n",
      "\n",
      "           0       0.98      0.98      0.98      1454\n",
      "           1       0.88      0.88      0.88       218\n",
      "\n",
      "    accuracy                           0.97      1672\n",
      "   macro avg       0.93      0.93      0.93      1672\n",
      "weighted avg       0.97      0.97      0.97      1672\n",
      "\n"
     ]
    },
    {
     "data": {
      "text/html": [
       "<div>\n",
       "<style scoped>\n",
       "    .dataframe tbody tr th:only-of-type {\n",
       "        vertical-align: middle;\n",
       "    }\n",
       "\n",
       "    .dataframe tbody tr th {\n",
       "        vertical-align: top;\n",
       "    }\n",
       "\n",
       "    .dataframe thead th {\n",
       "        text-align: right;\n",
       "    }\n",
       "</style>\n",
       "<table border=\"1\" class=\"dataframe\">\n",
       "  <thead>\n",
       "    <tr style=\"text-align: right;\">\n",
       "      <th></th>\n",
       "      <th>spam</th>\n",
       "      <th>ham</th>\n",
       "    </tr>\n",
       "  </thead>\n",
       "  <tbody>\n",
       "    <tr>\n",
       "      <th>spam</th>\n",
       "      <td>1427</td>\n",
       "      <td>27</td>\n",
       "    </tr>\n",
       "    <tr>\n",
       "      <th>ham</th>\n",
       "      <td>27</td>\n",
       "      <td>191</td>\n",
       "    </tr>\n",
       "  </tbody>\n",
       "</table>\n",
       "</div>"
      ],
      "text/plain": [
       "      spam  ham\n",
       "spam  1427   27\n",
       "ham     27  191"
      ]
     },
     "execution_count": 194,
     "metadata": {},
     "output_type": "execute_result"
    }
   ],
   "source": [
    "from sklearn.metrics import confusion_matrix, classification_report\n",
    "\n",
    "labels = ['spam', 'ham']\n",
    "print(classification_report(test_y, dtree_tfidf_predictions))\n",
    "pd.DataFrame(confusion_matrix(test_y, dtree_tfidf_predictions), index=labels, columns=labels)"
   ]
  },
  {
   "cell_type": "code",
   "execution_count": 195,
   "metadata": {},
   "outputs": [],
   "source": [
    "result_data.update({'DecisionTree_TFIDF': wrong_prediction(confusion_matrix(test_y, dtree_tfidf_predictions))})"
   ]
  },
  {
   "cell_type": "markdown",
   "metadata": {},
   "source": [
    "### K-Nearest Neighbour\n",
    "sklearn.neighbors provides functionality for unsupervised and supervised neighbors-based learning methods. Unsupervised nearest neighbors is the foundation of many other learning methods, notably manifold learning and spectral clustering. Supervised neighbors-based learning comes in two flavors: classification for data with discrete labels, and regression for data with continuous labels.\n",
    "\n",
    "The principle behind nearest neighbor methods is to find a predefined number of training samples closest in distance to the new point, and predict the label from these. The number of samples can be a user-defined constant (k-nearest neighbor learning), or vary based on the local density of points (radius-based neighbor learning). The distance can, in general, be any metric measure: standard Euclidean distance is the most common choice. Neighbors-based methods are known as non-generalizing machine learning methods, since they simply “remember” all of its training data (possibly transformed into a fast indexing structure such as a Ball Tree or KD Tree).\n",
    "\n",
    "Despite its simplicity, nearest neighbors has been successful in a large number of classification and regression problems, including handwritten digits and satellite image scenes. Being a non-parametric method, it is often successful in classification situations where the decision boundary is very irregular.\n",
    "\n",
    "The classes in sklearn.neighbors can handle either NumPy arrays or scipy.sparse matrices as input. For dense matrices, a large number of possible distance metrics are supported. For sparse matrices, arbitrary Minkowski metrics are supported for searches.\n",
    "\n",
    "There are many learning routines which rely on nearest neighbors at their core. One example is kernel density estimation, discussed in the density estimation section."
   ]
  },
  {
   "cell_type": "code",
   "execution_count": 196,
   "metadata": {},
   "outputs": [
    {
     "name": "stdout",
     "output_type": "stream",
     "text": [
      "CPU times: user 214 ms, sys: 58.9 ms, total: 273 ms\n",
      "Wall time: 294 ms\n"
     ]
    }
   ],
   "source": [
    "%%time\n",
    "\n",
    "# KNeighborsClassifier model on BOW features\n",
    "from sklearn.neighbors import KNeighborsClassifier\n",
    "\n",
    "# instantiate model\n",
    "knn = KNeighborsClassifier(n_neighbors=9)\n",
    "\n",
    "# train model\n",
    "knn.fit(cv_train_features, train_y)\n",
    "\n",
    "# predict on test data\n",
    "knn_bow_predictions = knn.predict(cv_test_features)"
   ]
  },
  {
   "cell_type": "code",
   "execution_count": 197,
   "metadata": {},
   "outputs": [
    {
     "name": "stdout",
     "output_type": "stream",
     "text": [
      "              precision    recall  f1-score   support\n",
      "\n",
      "           0       0.97      1.00      0.98      1454\n",
      "           1       0.98      0.80      0.88       218\n",
      "\n",
      "    accuracy                           0.97      1672\n",
      "   macro avg       0.97      0.90      0.93      1672\n",
      "weighted avg       0.97      0.97      0.97      1672\n",
      "\n"
     ]
    },
    {
     "data": {
      "text/html": [
       "<div>\n",
       "<style scoped>\n",
       "    .dataframe tbody tr th:only-of-type {\n",
       "        vertical-align: middle;\n",
       "    }\n",
       "\n",
       "    .dataframe tbody tr th {\n",
       "        vertical-align: top;\n",
       "    }\n",
       "\n",
       "    .dataframe thead th {\n",
       "        text-align: right;\n",
       "    }\n",
       "</style>\n",
       "<table border=\"1\" class=\"dataframe\">\n",
       "  <thead>\n",
       "    <tr style=\"text-align: right;\">\n",
       "      <th></th>\n",
       "      <th>spam</th>\n",
       "      <th>ham</th>\n",
       "    </tr>\n",
       "  </thead>\n",
       "  <tbody>\n",
       "    <tr>\n",
       "      <th>spam</th>\n",
       "      <td>1450</td>\n",
       "      <td>4</td>\n",
       "    </tr>\n",
       "    <tr>\n",
       "      <th>ham</th>\n",
       "      <td>44</td>\n",
       "      <td>174</td>\n",
       "    </tr>\n",
       "  </tbody>\n",
       "</table>\n",
       "</div>"
      ],
      "text/plain": [
       "      spam  ham\n",
       "spam  1450    4\n",
       "ham     44  174"
      ]
     },
     "execution_count": 197,
     "metadata": {},
     "output_type": "execute_result"
    }
   ],
   "source": [
    "from sklearn.metrics import confusion_matrix, classification_report\n",
    "\n",
    "labels = ['spam', 'ham']\n",
    "print(classification_report(test_y, knn_bow_predictions))\n",
    "pd.DataFrame(confusion_matrix(test_y, knn_bow_predictions), index=labels, columns=labels)"
   ]
  },
  {
   "cell_type": "code",
   "execution_count": 198,
   "metadata": {},
   "outputs": [],
   "source": [
    "result_data.update({'KNN_BOW': wrong_prediction(confusion_matrix(test_y, knn_bow_predictions))})"
   ]
  },
  {
   "cell_type": "code",
   "execution_count": 199,
   "metadata": {},
   "outputs": [
    {
     "name": "stdout",
     "output_type": "stream",
     "text": [
      "CPU times: user 171 ms, sys: 10.3 ms, total: 181 ms\n",
      "Wall time: 181 ms\n"
     ]
    }
   ],
   "source": [
    "%%time\n",
    "\n",
    "# LKNeighborsClassifier model on TFIDF features\n",
    "from sklearn.neighbors import KNeighborsClassifier\n",
    "\n",
    "# instantiate model\n",
    "knn = KNeighborsClassifier(n_neighbors=5)\n",
    "\n",
    "# train model\n",
    "knn.fit(tv_train_features, train_y)\n",
    "\n",
    "# predict on test data\n",
    "knn_tfidf_predictions = knn.predict(tv_test_features)"
   ]
  },
  {
   "cell_type": "code",
   "execution_count": 200,
   "metadata": {},
   "outputs": [
    {
     "name": "stdout",
     "output_type": "stream",
     "text": [
      "              precision    recall  f1-score   support\n",
      "\n",
      "           0       0.95      1.00      0.97      1454\n",
      "           1       1.00      0.65      0.79       218\n",
      "\n",
      "    accuracy                           0.95      1672\n",
      "   macro avg       0.98      0.83      0.88      1672\n",
      "weighted avg       0.96      0.95      0.95      1672\n",
      "\n"
     ]
    },
    {
     "data": {
      "text/html": [
       "<div>\n",
       "<style scoped>\n",
       "    .dataframe tbody tr th:only-of-type {\n",
       "        vertical-align: middle;\n",
       "    }\n",
       "\n",
       "    .dataframe tbody tr th {\n",
       "        vertical-align: top;\n",
       "    }\n",
       "\n",
       "    .dataframe thead th {\n",
       "        text-align: right;\n",
       "    }\n",
       "</style>\n",
       "<table border=\"1\" class=\"dataframe\">\n",
       "  <thead>\n",
       "    <tr style=\"text-align: right;\">\n",
       "      <th></th>\n",
       "      <th>spam</th>\n",
       "      <th>ham</th>\n",
       "    </tr>\n",
       "  </thead>\n",
       "  <tbody>\n",
       "    <tr>\n",
       "      <th>spam</th>\n",
       "      <td>1454</td>\n",
       "      <td>0</td>\n",
       "    </tr>\n",
       "    <tr>\n",
       "      <th>ham</th>\n",
       "      <td>76</td>\n",
       "      <td>142</td>\n",
       "    </tr>\n",
       "  </tbody>\n",
       "</table>\n",
       "</div>"
      ],
      "text/plain": [
       "      spam  ham\n",
       "spam  1454    0\n",
       "ham     76  142"
      ]
     },
     "execution_count": 200,
     "metadata": {},
     "output_type": "execute_result"
    }
   ],
   "source": [
    "from sklearn.metrics import confusion_matrix, classification_report\n",
    "\n",
    "labels = ['spam', 'ham']\n",
    "print(classification_report(test_y, knn_tfidf_predictions))\n",
    "pd.DataFrame(confusion_matrix(test_y, knn_tfidf_predictions), index=labels, columns=labels)"
   ]
  },
  {
   "cell_type": "code",
   "execution_count": 201,
   "metadata": {},
   "outputs": [],
   "source": [
    "result_data.update({'KNN_TFIDF': wrong_prediction(confusion_matrix(test_y, knn_tfidf_predictions))})"
   ]
  },
  {
   "cell_type": "markdown",
   "metadata": {},
   "source": [
    "### Random Forest\n",
    "Decision trees are a family of supervised machine learning algorithms that can represent and interpret sets of rules automatically from the underlying data. They use metrics like information gain and gini-index to build the tree. However, a major drawback of decision trees is that since they are non-parametric, the more data there is, greater the depth of the tree. We can end up with really huge and deep trees that are prone to overfitting. The model might work really well on training data, but instead of learning, it just memorizes all the training samples and builds very specific rules to them. Hence, it performs really poorly on the test data. Random forests try to tackle this problem.\n",
    "\n",
    "A random forest is a meta-estimator or an ensemble model that fits a number of decision tree classifiers on various sub-samples of the dataset and uses averaging to improve the predictive accuracy and control over-fitting. The sub-sample size is always the same as the original input sample size, but the samples are drawn with replacement (bootstrap samples). In random forests, all the trees are trained in parallel (bagging model/bootstrap aggregation). Besides this, each tree in the ensemble is built from a sample drawn with replacement (i.e., a bootstrap sample) from the training set. Also, when splitting a node during the construction of the tree, the split that is chosen is no longer the best split among all features. Instead, the split that is picked is the best split among a random subset of the features. T"
   ]
  },
  {
   "cell_type": "code",
   "execution_count": 202,
   "metadata": {},
   "outputs": [
    {
     "name": "stdout",
     "output_type": "stream",
     "text": [
      "CPU times: user 618 ms, sys: 152 ms, total: 770 ms\n",
      "Wall time: 535 ms\n"
     ]
    }
   ],
   "source": [
    "%%time\n",
    "\n",
    "# Random Forest model on BOW features\n",
    "from sklearn.ensemble import RandomForestClassifier\n",
    "\n",
    "# instantiate model\n",
    "rf = RandomForestClassifier(n_estimators=100, n_jobs=-1, random_state=42)\n",
    "\n",
    "# train model\n",
    "rf.fit(cv_train_features, train_y)\n",
    "\n",
    "# predict on test data\n",
    "rf_bow_predictions = rf.predict(cv_test_features)"
   ]
  },
  {
   "cell_type": "code",
   "execution_count": 203,
   "metadata": {},
   "outputs": [
    {
     "name": "stdout",
     "output_type": "stream",
     "text": [
      "              precision    recall  f1-score   support\n",
      "\n",
      "           0       0.98      1.00      0.99      1454\n",
      "           1       0.97      0.89      0.93       218\n",
      "\n",
      "    accuracy                           0.98      1672\n",
      "   macro avg       0.98      0.94      0.96      1672\n",
      "weighted avg       0.98      0.98      0.98      1672\n",
      "\n"
     ]
    },
    {
     "data": {
      "text/html": [
       "<div>\n",
       "<style scoped>\n",
       "    .dataframe tbody tr th:only-of-type {\n",
       "        vertical-align: middle;\n",
       "    }\n",
       "\n",
       "    .dataframe tbody tr th {\n",
       "        vertical-align: top;\n",
       "    }\n",
       "\n",
       "    .dataframe thead th {\n",
       "        text-align: right;\n",
       "    }\n",
       "</style>\n",
       "<table border=\"1\" class=\"dataframe\">\n",
       "  <thead>\n",
       "    <tr style=\"text-align: right;\">\n",
       "      <th></th>\n",
       "      <th>spam</th>\n",
       "      <th>ham</th>\n",
       "    </tr>\n",
       "  </thead>\n",
       "  <tbody>\n",
       "    <tr>\n",
       "      <th>spam</th>\n",
       "      <td>1448</td>\n",
       "      <td>6</td>\n",
       "    </tr>\n",
       "    <tr>\n",
       "      <th>ham</th>\n",
       "      <td>24</td>\n",
       "      <td>194</td>\n",
       "    </tr>\n",
       "  </tbody>\n",
       "</table>\n",
       "</div>"
      ],
      "text/plain": [
       "      spam  ham\n",
       "spam  1448    6\n",
       "ham     24  194"
      ]
     },
     "execution_count": 203,
     "metadata": {},
     "output_type": "execute_result"
    }
   ],
   "source": [
    "from sklearn.metrics import confusion_matrix, classification_report\n",
    "\n",
    "labels = ['spam', 'ham']\n",
    "print(classification_report(test_y, rf_bow_predictions))\n",
    "pd.DataFrame(confusion_matrix(test_y, rf_bow_predictions), index=labels, columns=labels)"
   ]
  },
  {
   "cell_type": "code",
   "execution_count": 204,
   "metadata": {},
   "outputs": [],
   "source": [
    "result_data.update({'Random Forest_BOW': wrong_prediction(confusion_matrix(test_y, rf_bow_predictions))})"
   ]
  },
  {
   "cell_type": "code",
   "execution_count": 205,
   "metadata": {},
   "outputs": [
    {
     "name": "stdout",
     "output_type": "stream",
     "text": [
      "CPU times: user 712 ms, sys: 120 ms, total: 832 ms\n",
      "Wall time: 466 ms\n"
     ]
    }
   ],
   "source": [
    "%%time\n",
    "\n",
    "# Random Forest model on TFIDF features\n",
    "from sklearn.ensemble import RandomForestClassifier\n",
    "\n",
    "# instantiate model\n",
    "rf = RandomForestClassifier(n_estimators=100, n_jobs=-1, random_state=42)\n",
    "\n",
    "# train model\n",
    "rf.fit(tv_train_features, train_y)\n",
    "\n",
    "# predict on test data\n",
    "rf_tfidf_predictions = rf.predict(tv_test_features)"
   ]
  },
  {
   "cell_type": "code",
   "execution_count": 206,
   "metadata": {},
   "outputs": [
    {
     "name": "stdout",
     "output_type": "stream",
     "text": [
      "              precision    recall  f1-score   support\n",
      "\n",
      "           0       0.98      1.00      0.99      1454\n",
      "           1       0.98      0.88      0.93       218\n",
      "\n",
      "    accuracy                           0.98      1672\n",
      "   macro avg       0.98      0.94      0.96      1672\n",
      "weighted avg       0.98      0.98      0.98      1672\n",
      "\n"
     ]
    },
    {
     "data": {
      "text/html": [
       "<div>\n",
       "<style scoped>\n",
       "    .dataframe tbody tr th:only-of-type {\n",
       "        vertical-align: middle;\n",
       "    }\n",
       "\n",
       "    .dataframe tbody tr th {\n",
       "        vertical-align: top;\n",
       "    }\n",
       "\n",
       "    .dataframe thead th {\n",
       "        text-align: right;\n",
       "    }\n",
       "</style>\n",
       "<table border=\"1\" class=\"dataframe\">\n",
       "  <thead>\n",
       "    <tr style=\"text-align: right;\">\n",
       "      <th></th>\n",
       "      <th>spam</th>\n",
       "      <th>ham</th>\n",
       "    </tr>\n",
       "  </thead>\n",
       "  <tbody>\n",
       "    <tr>\n",
       "      <th>spam</th>\n",
       "      <td>1451</td>\n",
       "      <td>3</td>\n",
       "    </tr>\n",
       "    <tr>\n",
       "      <th>ham</th>\n",
       "      <td>26</td>\n",
       "      <td>192</td>\n",
       "    </tr>\n",
       "  </tbody>\n",
       "</table>\n",
       "</div>"
      ],
      "text/plain": [
       "      spam  ham\n",
       "spam  1451    3\n",
       "ham     26  192"
      ]
     },
     "execution_count": 206,
     "metadata": {},
     "output_type": "execute_result"
    }
   ],
   "source": [
    "from sklearn.metrics import confusion_matrix, classification_report\n",
    "\n",
    "labels = ['spam', 'ham']\n",
    "print(classification_report(test_y, rf_tfidf_predictions))\n",
    "pd.DataFrame(confusion_matrix(test_y, rf_tfidf_predictions), index=labels, columns=labels)"
   ]
  },
  {
   "cell_type": "code",
   "execution_count": 207,
   "metadata": {},
   "outputs": [],
   "source": [
    "result_data.update({'Random Forest_TFIDF': wrong_prediction(confusion_matrix(test_y, rf_tfidf_predictions))})"
   ]
  },
  {
   "cell_type": "markdown",
   "metadata": {},
   "source": [
    "### AdaBoost\n",
    "AdaBoost is one of the first boosting algorithms to be adapted in solving practices. Adaboost helps you combine multiple “weak classifiers” into a single “strong classifier”. Here are some (fun) facts about Adaboost! → The weak learners in AdaBoost are decision trees with a single split, called decision stumps."
   ]
  },
  {
   "cell_type": "code",
   "execution_count": 208,
   "metadata": {},
   "outputs": [
    {
     "name": "stdout",
     "output_type": "stream",
     "text": [
      "CPU times: user 43.2 ms, sys: 2.78 ms, total: 46 ms\n",
      "Wall time: 45.7 ms\n"
     ]
    }
   ],
   "source": [
    "%%time\n",
    "\n",
    "# AdaBoost model on BOW features\n",
    "from sklearn.ensemble import AdaBoostClassifier\n",
    "\n",
    "# instantiate model\n",
    "ada = AdaBoostClassifier(n_estimators=10, random_state=42)\n",
    "\n",
    "# train model\n",
    "ada.fit(cv_train_features, train_y)\n",
    "\n",
    "# predict on test data\n",
    "ada_bow_predictions = ada.predict(cv_test_features)\n",
    "\n"
   ]
  },
  {
   "cell_type": "code",
   "execution_count": 209,
   "metadata": {},
   "outputs": [
    {
     "name": "stdout",
     "output_type": "stream",
     "text": [
      "              precision    recall  f1-score   support\n",
      "\n",
      "           0       0.98      0.99      0.99      1454\n",
      "           1       0.94      0.87      0.90       218\n",
      "\n",
      "    accuracy                           0.98      1672\n",
      "   macro avg       0.96      0.93      0.95      1672\n",
      "weighted avg       0.98      0.98      0.98      1672\n",
      "\n"
     ]
    },
    {
     "data": {
      "text/html": [
       "<div>\n",
       "<style scoped>\n",
       "    .dataframe tbody tr th:only-of-type {\n",
       "        vertical-align: middle;\n",
       "    }\n",
       "\n",
       "    .dataframe tbody tr th {\n",
       "        vertical-align: top;\n",
       "    }\n",
       "\n",
       "    .dataframe thead th {\n",
       "        text-align: right;\n",
       "    }\n",
       "</style>\n",
       "<table border=\"1\" class=\"dataframe\">\n",
       "  <thead>\n",
       "    <tr style=\"text-align: right;\">\n",
       "      <th></th>\n",
       "      <th>spam</th>\n",
       "      <th>ham</th>\n",
       "    </tr>\n",
       "  </thead>\n",
       "  <tbody>\n",
       "    <tr>\n",
       "      <th>spam</th>\n",
       "      <td>1442</td>\n",
       "      <td>12</td>\n",
       "    </tr>\n",
       "    <tr>\n",
       "      <th>ham</th>\n",
       "      <td>28</td>\n",
       "      <td>190</td>\n",
       "    </tr>\n",
       "  </tbody>\n",
       "</table>\n",
       "</div>"
      ],
      "text/plain": [
       "      spam  ham\n",
       "spam  1442   12\n",
       "ham     28  190"
      ]
     },
     "execution_count": 209,
     "metadata": {},
     "output_type": "execute_result"
    }
   ],
   "source": [
    "from sklearn.metrics import confusion_matrix, classification_report\n",
    "\n",
    "labels = ['spam', 'ham']\n",
    "print(classification_report(test_y, ada_bow_predictions))\n",
    "pd.DataFrame(confusion_matrix(test_y, ada_bow_predictions), index=labels, columns=labels)"
   ]
  },
  {
   "cell_type": "code",
   "execution_count": 210,
   "metadata": {},
   "outputs": [],
   "source": [
    "result_data.update({'AdaBoost_BOW': wrong_prediction(confusion_matrix(test_y, ada_bow_predictions))})"
   ]
  },
  {
   "cell_type": "code",
   "execution_count": 211,
   "metadata": {},
   "outputs": [
    {
     "name": "stdout",
     "output_type": "stream",
     "text": [
      "CPU times: user 5.98 s, sys: 37.9 ms, total: 6.02 s\n",
      "Wall time: 6.06 s\n"
     ]
    }
   ],
   "source": [
    "%%time\n",
    "\n",
    "# AdaBoost model on TFIDF features\n",
    "from sklearn.ensemble import AdaBoostClassifier\n",
    "\n",
    "# instantiate model\n",
    "ada = AdaBoostClassifier(n_estimators=1000, random_state=42)\n",
    "\n",
    "# train model\n",
    "ada.fit(tv_train_features, train_y)\n",
    "\n",
    "# predict on test data\n",
    "ada_tfidf_predictions = ada.predict(tv_test_features)\n",
    "\n"
   ]
  },
  {
   "cell_type": "code",
   "execution_count": 212,
   "metadata": {},
   "outputs": [
    {
     "name": "stdout",
     "output_type": "stream",
     "text": [
      "              precision    recall  f1-score   support\n",
      "\n",
      "           0       0.99      0.99      0.99      1454\n",
      "           1       0.94      0.91      0.93       218\n",
      "\n",
      "    accuracy                           0.98      1672\n",
      "   macro avg       0.96      0.95      0.96      1672\n",
      "weighted avg       0.98      0.98      0.98      1672\n",
      "\n"
     ]
    },
    {
     "data": {
      "text/html": [
       "<div>\n",
       "<style scoped>\n",
       "    .dataframe tbody tr th:only-of-type {\n",
       "        vertical-align: middle;\n",
       "    }\n",
       "\n",
       "    .dataframe tbody tr th {\n",
       "        vertical-align: top;\n",
       "    }\n",
       "\n",
       "    .dataframe thead th {\n",
       "        text-align: right;\n",
       "    }\n",
       "</style>\n",
       "<table border=\"1\" class=\"dataframe\">\n",
       "  <thead>\n",
       "    <tr style=\"text-align: right;\">\n",
       "      <th></th>\n",
       "      <th>spam</th>\n",
       "      <th>ham</th>\n",
       "    </tr>\n",
       "  </thead>\n",
       "  <tbody>\n",
       "    <tr>\n",
       "      <th>spam</th>\n",
       "      <td>1441</td>\n",
       "      <td>13</td>\n",
       "    </tr>\n",
       "    <tr>\n",
       "      <th>ham</th>\n",
       "      <td>19</td>\n",
       "      <td>199</td>\n",
       "    </tr>\n",
       "  </tbody>\n",
       "</table>\n",
       "</div>"
      ],
      "text/plain": [
       "      spam  ham\n",
       "spam  1441   13\n",
       "ham     19  199"
      ]
     },
     "execution_count": 212,
     "metadata": {},
     "output_type": "execute_result"
    }
   ],
   "source": [
    "from sklearn.metrics import confusion_matrix, classification_report\n",
    "\n",
    "labels = ['spam', 'ham']\n",
    "print(classification_report(test_y, ada_tfidf_predictions))\n",
    "pd.DataFrame(confusion_matrix(test_y, ada_tfidf_predictions), index=labels, columns=labels)"
   ]
  },
  {
   "cell_type": "code",
   "execution_count": 213,
   "metadata": {},
   "outputs": [],
   "source": [
    "result_data.update({'AdaBoost_TFIDF': wrong_prediction(confusion_matrix(test_y, ada_tfidf_predictions))})"
   ]
  },
  {
   "cell_type": "markdown",
   "metadata": {},
   "source": [
    "### XGBoost\n",
    "\n",
    "XGBoost is an open-source software library which provides a gradient boosting framework for C++, Java, Python, R, and Julia. It works on Linux, Windows, and macOS. From the project description, it aims to provide a \"Scalable, Portable and Distributed Gradient Boosting Library\""
   ]
  },
  {
   "cell_type": "code",
   "execution_count": 214,
   "metadata": {},
   "outputs": [
    {
     "name": "stdout",
     "output_type": "stream",
     "text": [
      "CPU times: user 48.9 ms, sys: 34 ms, total: 82.9 ms\n",
      "Wall time: 153 ms\n"
     ]
    }
   ],
   "source": [
    "%%time\n",
    "\n",
    "# XGBoost model on BOW features\n",
    "from xgboost import XGBClassifier\n",
    "\n",
    "# instantiate model\n",
    "xgb = XGBClassifier(n_estimators=10, random_state=42)\n",
    "\n",
    "# train model\n",
    "xgb.fit(cv_train_features, train_y)\n",
    "\n",
    "# predict on test data\n",
    "xgb_bow_predictions = xgb.predict(cv_test_features)\n"
   ]
  },
  {
   "cell_type": "code",
   "execution_count": 215,
   "metadata": {},
   "outputs": [
    {
     "name": "stdout",
     "output_type": "stream",
     "text": [
      "              precision    recall  f1-score   support\n",
      "\n",
      "           0       0.98      1.00      0.99      1454\n",
      "           1       0.97      0.85      0.91       218\n",
      "\n",
      "    accuracy                           0.98      1672\n",
      "   macro avg       0.97      0.92      0.95      1672\n",
      "weighted avg       0.98      0.98      0.98      1672\n",
      "\n"
     ]
    },
    {
     "data": {
      "text/html": [
       "<div>\n",
       "<style scoped>\n",
       "    .dataframe tbody tr th:only-of-type {\n",
       "        vertical-align: middle;\n",
       "    }\n",
       "\n",
       "    .dataframe tbody tr th {\n",
       "        vertical-align: top;\n",
       "    }\n",
       "\n",
       "    .dataframe thead th {\n",
       "        text-align: right;\n",
       "    }\n",
       "</style>\n",
       "<table border=\"1\" class=\"dataframe\">\n",
       "  <thead>\n",
       "    <tr style=\"text-align: right;\">\n",
       "      <th></th>\n",
       "      <th>spam</th>\n",
       "      <th>ham</th>\n",
       "    </tr>\n",
       "  </thead>\n",
       "  <tbody>\n",
       "    <tr>\n",
       "      <th>spam</th>\n",
       "      <td>1448</td>\n",
       "      <td>6</td>\n",
       "    </tr>\n",
       "    <tr>\n",
       "      <th>ham</th>\n",
       "      <td>32</td>\n",
       "      <td>186</td>\n",
       "    </tr>\n",
       "  </tbody>\n",
       "</table>\n",
       "</div>"
      ],
      "text/plain": [
       "      spam  ham\n",
       "spam  1448    6\n",
       "ham     32  186"
      ]
     },
     "execution_count": 215,
     "metadata": {},
     "output_type": "execute_result"
    }
   ],
   "source": [
    "from sklearn.metrics import confusion_matrix, classification_report\n",
    "\n",
    "labels = ['spam', 'ham']\n",
    "print(classification_report(test_y, xgb_bow_predictions))\n",
    "pd.DataFrame(confusion_matrix(test_y, xgb_bow_predictions), index=labels, columns=labels)"
   ]
  },
  {
   "cell_type": "code",
   "execution_count": 216,
   "metadata": {},
   "outputs": [],
   "source": [
    "result_data.update({'Xgboost_BOW': wrong_prediction(confusion_matrix(test_y, xgb_bow_predictions))})"
   ]
  },
  {
   "cell_type": "code",
   "execution_count": 217,
   "metadata": {},
   "outputs": [
    {
     "name": "stdout",
     "output_type": "stream",
     "text": [
      "CPU times: user 414 ms, sys: 5.73 ms, total: 419 ms\n",
      "Wall time: 420 ms\n"
     ]
    }
   ],
   "source": [
    "%%time\n",
    "\n",
    "# XgBoost model on TFIDF features\n",
    "from xgboost import XGBClassifier\n",
    "\n",
    "# instantiate model\n",
    "xgb = XGBClassifier(n_estimators=100, random_state=42)\n",
    "\n",
    "# train model\n",
    "xgb.fit(tv_train_features, train_y)\n",
    "\n",
    "# predict on test data\n",
    "xgb_tfidf_predictions = xgb.predict(tv_test_features)\n"
   ]
  },
  {
   "cell_type": "code",
   "execution_count": 218,
   "metadata": {},
   "outputs": [
    {
     "name": "stdout",
     "output_type": "stream",
     "text": [
      "              precision    recall  f1-score   support\n",
      "\n",
      "           0       0.98      1.00      0.99      1454\n",
      "           1       0.97      0.87      0.92       218\n",
      "\n",
      "    accuracy                           0.98      1672\n",
      "   macro avg       0.98      0.93      0.95      1672\n",
      "weighted avg       0.98      0.98      0.98      1672\n",
      "\n"
     ]
    },
    {
     "data": {
      "text/html": [
       "<div>\n",
       "<style scoped>\n",
       "    .dataframe tbody tr th:only-of-type {\n",
       "        vertical-align: middle;\n",
       "    }\n",
       "\n",
       "    .dataframe tbody tr th {\n",
       "        vertical-align: top;\n",
       "    }\n",
       "\n",
       "    .dataframe thead th {\n",
       "        text-align: right;\n",
       "    }\n",
       "</style>\n",
       "<table border=\"1\" class=\"dataframe\">\n",
       "  <thead>\n",
       "    <tr style=\"text-align: right;\">\n",
       "      <th></th>\n",
       "      <th>spam</th>\n",
       "      <th>ham</th>\n",
       "    </tr>\n",
       "  </thead>\n",
       "  <tbody>\n",
       "    <tr>\n",
       "      <th>spam</th>\n",
       "      <td>1448</td>\n",
       "      <td>6</td>\n",
       "    </tr>\n",
       "    <tr>\n",
       "      <th>ham</th>\n",
       "      <td>28</td>\n",
       "      <td>190</td>\n",
       "    </tr>\n",
       "  </tbody>\n",
       "</table>\n",
       "</div>"
      ],
      "text/plain": [
       "      spam  ham\n",
       "spam  1448    6\n",
       "ham     28  190"
      ]
     },
     "execution_count": 218,
     "metadata": {},
     "output_type": "execute_result"
    }
   ],
   "source": [
    "from sklearn.metrics import confusion_matrix, classification_report\n",
    "\n",
    "labels = ['spam', 'ham']\n",
    "print(classification_report(test_y, xgb_tfidf_predictions))\n",
    "pd.DataFrame(confusion_matrix(test_y, xgb_tfidf_predictions), index=labels, columns=labels)"
   ]
  },
  {
   "cell_type": "code",
   "execution_count": 219,
   "metadata": {},
   "outputs": [],
   "source": [
    "result_data.update({'Xgboost_TFIDF': wrong_prediction(confusion_matrix(test_y, xgb_tfidf_predictions))})"
   ]
  },
  {
   "cell_type": "code",
   "execution_count": 220,
   "metadata": {},
   "outputs": [
    {
     "data": {
      "text/plain": [
       "[23, 24, 25, 29, 30, 32, 34, 34, 37, 38, 40, 48, 54, 76]"
      ]
     },
     "execution_count": 220,
     "metadata": {},
     "output_type": "execute_result"
    }
   ],
   "source": [
    "sorted(result_data.values())"
   ]
  },
  {
   "cell_type": "code",
   "execution_count": 221,
   "metadata": {},
   "outputs": [],
   "source": [
    "from collections import OrderedDict\n",
    "d_sorted_by_value = OrderedDict(sorted(result_data.items(), key=lambda x: x[1]))"
   ]
  },
  {
   "cell_type": "code",
   "execution_count": 222,
   "metadata": {},
   "outputs": [
    {
     "data": {
      "text/plain": [
       "OrderedDict([('Logistic_TFIDF', 23),\n",
       "             ('Logistic_BOW', 24),\n",
       "             ('NaiveBayes_TFIDF', 25),\n",
       "             ('Random Forest_TFIDF', 29),\n",
       "             ('Random Forest_BOW', 30),\n",
       "             ('AdaBoost_TFIDF', 32),\n",
       "             ('NaiveBayes_BOW', 34),\n",
       "             ('Xgboost_TFIDF', 34),\n",
       "             ('DecisionTree_BOW', 37),\n",
       "             ('Xgboost_BOW', 38),\n",
       "             ('AdaBoost_BOW', 40),\n",
       "             ('KNN_BOW', 48),\n",
       "             ('DecisionTree_TFIDF', 54),\n",
       "             ('KNN_TFIDF', 76)])"
      ]
     },
     "execution_count": 222,
     "metadata": {},
     "output_type": "execute_result"
    }
   ],
   "source": [
    "d_sorted_by_value"
   ]
  },
  {
   "cell_type": "code",
   "execution_count": 223,
   "metadata": {},
   "outputs": [
    {
     "data": {
      "text/plain": [
       "['Logistic_TFIDF',\n",
       " 'Logistic_BOW',\n",
       " 'NaiveBayes_TFIDF',\n",
       " 'Random Forest_TFIDF',\n",
       " 'Random Forest_BOW',\n",
       " 'AdaBoost_TFIDF',\n",
       " 'NaiveBayes_BOW',\n",
       " 'Xgboost_TFIDF',\n",
       " 'DecisionTree_BOW',\n",
       " 'Xgboost_BOW',\n",
       " 'AdaBoost_BOW',\n",
       " 'KNN_BOW',\n",
       " 'DecisionTree_TFIDF',\n",
       " 'KNN_TFIDF']"
      ]
     },
     "execution_count": 223,
     "metadata": {},
     "output_type": "execute_result"
    }
   ],
   "source": [
    "list(d_sorted_by_value.keys())"
   ]
  },
  {
   "cell_type": "code",
   "execution_count": 224,
   "metadata": {},
   "outputs": [
    {
     "data": {
      "text/plain": [
       "[23, 24, 25, 29, 30, 32, 34, 34, 37, 38, 40, 48, 54, 76]"
      ]
     },
     "execution_count": 224,
     "metadata": {},
     "output_type": "execute_result"
    }
   ],
   "source": [
    "list(d_sorted_by_value.values())\n"
   ]
  },
  {
   "cell_type": "code",
   "execution_count": 225,
   "metadata": {},
   "outputs": [],
   "source": [
    "result_df = pd.DataFrame([list(d_sorted_by_value.values())],columns=list(d_sorted_by_value.keys())).transpose()"
   ]
  },
  {
   "cell_type": "code",
   "execution_count": 226,
   "metadata": {},
   "outputs": [],
   "source": [
    "result_df.columns = [\"Nos_Wrong_Prediction\"]"
   ]
  },
  {
   "cell_type": "code",
   "execution_count": 227,
   "metadata": {},
   "outputs": [],
   "source": [
    "result_df[\"Model\"] = result_df.index"
   ]
  },
  {
   "cell_type": "code",
   "execution_count": 228,
   "metadata": {},
   "outputs": [],
   "source": [
    "result_df.reset_index(drop=True, inplace=True)"
   ]
  },
  {
   "cell_type": "code",
   "execution_count": 229,
   "metadata": {},
   "outputs": [
    {
     "data": {
      "text/html": [
       "<div>\n",
       "<style scoped>\n",
       "    .dataframe tbody tr th:only-of-type {\n",
       "        vertical-align: middle;\n",
       "    }\n",
       "\n",
       "    .dataframe tbody tr th {\n",
       "        vertical-align: top;\n",
       "    }\n",
       "\n",
       "    .dataframe thead th {\n",
       "        text-align: right;\n",
       "    }\n",
       "</style>\n",
       "<table border=\"1\" class=\"dataframe\">\n",
       "  <thead>\n",
       "    <tr style=\"text-align: right;\">\n",
       "      <th></th>\n",
       "      <th>Nos_Wrong_Prediction</th>\n",
       "      <th>Model</th>\n",
       "    </tr>\n",
       "  </thead>\n",
       "  <tbody>\n",
       "    <tr>\n",
       "      <th>0</th>\n",
       "      <td>23</td>\n",
       "      <td>Logistic_TFIDF</td>\n",
       "    </tr>\n",
       "    <tr>\n",
       "      <th>1</th>\n",
       "      <td>24</td>\n",
       "      <td>Logistic_BOW</td>\n",
       "    </tr>\n",
       "    <tr>\n",
       "      <th>2</th>\n",
       "      <td>25</td>\n",
       "      <td>NaiveBayes_TFIDF</td>\n",
       "    </tr>\n",
       "    <tr>\n",
       "      <th>3</th>\n",
       "      <td>29</td>\n",
       "      <td>Random Forest_TFIDF</td>\n",
       "    </tr>\n",
       "    <tr>\n",
       "      <th>4</th>\n",
       "      <td>30</td>\n",
       "      <td>Random Forest_BOW</td>\n",
       "    </tr>\n",
       "    <tr>\n",
       "      <th>5</th>\n",
       "      <td>32</td>\n",
       "      <td>AdaBoost_TFIDF</td>\n",
       "    </tr>\n",
       "    <tr>\n",
       "      <th>6</th>\n",
       "      <td>34</td>\n",
       "      <td>NaiveBayes_BOW</td>\n",
       "    </tr>\n",
       "    <tr>\n",
       "      <th>7</th>\n",
       "      <td>34</td>\n",
       "      <td>Xgboost_TFIDF</td>\n",
       "    </tr>\n",
       "    <tr>\n",
       "      <th>8</th>\n",
       "      <td>37</td>\n",
       "      <td>DecisionTree_BOW</td>\n",
       "    </tr>\n",
       "    <tr>\n",
       "      <th>9</th>\n",
       "      <td>38</td>\n",
       "      <td>Xgboost_BOW</td>\n",
       "    </tr>\n",
       "    <tr>\n",
       "      <th>10</th>\n",
       "      <td>40</td>\n",
       "      <td>AdaBoost_BOW</td>\n",
       "    </tr>\n",
       "    <tr>\n",
       "      <th>11</th>\n",
       "      <td>48</td>\n",
       "      <td>KNN_BOW</td>\n",
       "    </tr>\n",
       "    <tr>\n",
       "      <th>12</th>\n",
       "      <td>54</td>\n",
       "      <td>DecisionTree_TFIDF</td>\n",
       "    </tr>\n",
       "    <tr>\n",
       "      <th>13</th>\n",
       "      <td>76</td>\n",
       "      <td>KNN_TFIDF</td>\n",
       "    </tr>\n",
       "  </tbody>\n",
       "</table>\n",
       "</div>"
      ],
      "text/plain": [
       "    Nos_Wrong_Prediction                Model\n",
       "0                     23       Logistic_TFIDF\n",
       "1                     24         Logistic_BOW\n",
       "2                     25     NaiveBayes_TFIDF\n",
       "3                     29  Random Forest_TFIDF\n",
       "4                     30    Random Forest_BOW\n",
       "5                     32       AdaBoost_TFIDF\n",
       "6                     34       NaiveBayes_BOW\n",
       "7                     34        Xgboost_TFIDF\n",
       "8                     37     DecisionTree_BOW\n",
       "9                     38          Xgboost_BOW\n",
       "10                    40         AdaBoost_BOW\n",
       "11                    48              KNN_BOW\n",
       "12                    54   DecisionTree_TFIDF\n",
       "13                    76            KNN_TFIDF"
      ]
     },
     "execution_count": 229,
     "metadata": {},
     "output_type": "execute_result"
    }
   ],
   "source": [
    "result_df"
   ]
  },
  {
   "cell_type": "code",
   "execution_count": 230,
   "metadata": {},
   "outputs": [
    {
     "data": {
      "image/png": "[encoded data removed]",
      "text/plain": [
       "<Figure size 2210.4x1315.44 with 1 Axes>"
      ]
     },
     "metadata": {},
     "output_type": "display_data"
    }
   ],
   "source": [
    "import seaborn as sns\n",
    "sns.set(rc={'figure.figsize':(30.7,18.27)})\n",
    "sns.set(style=\"whitegrid\")\n",
    "ax = sns.barplot(x=\"Model\", y=\"Nos_Wrong_Prediction\", data=result_df)"
   ]
  },
  {
   "cell_type": "markdown",
   "metadata": {},
   "source": [
    "# Logistic with TFIDF is giving us the best result\n",
    "# Logistic with Bag of Words Model is givig us the next best result\n",
    "# Naive Bayes with TFIDF is giving the third best result"
   ]
  },
  {
   "cell_type": "markdown",
   "metadata": {},
   "source": [
    "# Newer Supervised Deep Learning Models"
   ]
  },
  {
   "cell_type": "code",
   "execution_count": 231,
   "metadata": {},
   "outputs": [],
   "source": [
    "import gensim\n",
    "from tensorflow import keras\n",
    "from tensorflow.keras.models import Sequential\n",
    "from tensorflow.keras.layers import Dropout, Activation, Dense, LSTM, Embedding, BatchNormalization\n",
    "from sklearn.preprocessing import LabelEncoder"
   ]
  },
  {
   "cell_type": "markdown",
   "metadata": {},
   "source": [
    "## Prediction class label encoding"
   ]
  },
  {
   "cell_type": "code",
   "execution_count": 640,
   "metadata": {},
   "outputs": [],
   "source": [
    "le = LabelEncoder()\n",
    "# tokenize train reviews & encode train labels\n",
    "tokenized_train = [nltk.word_tokenize(text)\n",
    "                       for text in norm_train_message]\n",
    "y_train = le.fit_transform(train_y)\n",
    "# tokenize test reviews & encode test labels\n",
    "tokenized_test = [nltk.word_tokenize(text)\n",
    "                       for text in norm_test_message]\n",
    "y_test = le.fit_transform(test_y)"
   ]
  },
  {
   "cell_type": "code",
   "execution_count": 641,
   "metadata": {},
   "outputs": [
    {
     "name": "stdout",
     "output_type": "stream",
     "text": [
      "Spam class label map: {0: 0, 1: 1}\n",
      "Sample test label transformation:\n",
      "----------------------------------- \n",
      "Actual Labels: 4316    0\n",
      "4808    1\n",
      "3519    0\n",
      "Name: label_num, dtype: int64 \n",
      "Encoded Labels: [0 1 0]\n"
     ]
    }
   ],
   "source": [
    "# print class label encoding map and encoded labels\n",
    "print('Spam class label map:', dict(zip(le.classes_, le.transform(le.classes_))))\n",
    "print('Sample test label transformation:\\n'+'-'*35,\n",
    "      '\\nActual Labels:', test_y[:3], '\\nEncoded Labels:', y_test[:3])"
   ]
  },
  {
   "cell_type": "markdown",
   "metadata": {},
   "source": [
    "## Feature Engineering with word embeddings"
   ]
  },
  {
   "cell_type": "code",
   "execution_count": 642,
   "metadata": {},
   "outputs": [],
   "source": [
    "import logging\n",
    "logging.basicConfig(format='%(asctime)s : %(levelname)s : %(message)s', level=logging.INFO)"
   ]
  },
  {
   "cell_type": "code",
   "execution_count": 643,
   "metadata": {},
   "outputs": [
    {
     "name": "stderr",
     "output_type": "stream",
     "text": [
      "2019-09-18 20:12:22,501 : INFO : collecting all words and their counts\n",
      "2019-09-18 20:12:22,514 : INFO : PROGRESS: at sentence #0, processed 0 words, keeping 0 word types\n",
      "2019-09-18 20:12:22,526 : INFO : collected 5074 word types from a corpus of 40633 raw words and 3900 sentences\n",
      "2019-09-18 20:12:22,529 : INFO : Loading a fresh vocabulary\n",
      "2019-09-18 20:12:22,536 : INFO : min_count=10 retains 607 unique words (11% of original 5074, drops 4467)\n",
      "2019-09-18 20:12:22,537 : INFO : min_count=10 leaves 31194 word corpus (76% of original 40633, drops 9439)\n",
      "2019-09-18 20:12:22,542 : INFO : deleting the raw counts dictionary of 5074 items\n",
      "2019-09-18 20:12:22,543 : INFO : sample=0.001 downsamples 56 most-common words\n",
      "2019-09-18 20:12:22,543 : INFO : downsampling leaves estimated 19669 word corpus (63.1% of prior 31194)\n",
      "2019-09-18 20:12:22,549 : INFO : estimated required memory for 607 words and 300 dimensions: 1760300 bytes\n",
      "2019-09-18 20:12:22,552 : INFO : resetting layer weights\n",
      "2019-09-18 20:12:22,610 : INFO : training model with 4 workers on 607 vocabulary and 300 features, using sg=0 hs=0 sample=0.001 negative=5 window=150\n",
      "2019-09-18 20:12:22,649 : INFO : worker thread finished; awaiting finish of 3 more threads\n",
      "2019-09-18 20:12:22,650 : INFO : worker thread finished; awaiting finish of 2 more threads\n",
      "2019-09-18 20:12:22,652 : INFO : worker thread finished; awaiting finish of 1 more threads\n",
      "2019-09-18 20:12:22,654 : INFO : worker thread finished; awaiting finish of 0 more threads\n",
      "2019-09-18 20:12:22,654 : INFO : EPOCH - 1 : training on 40633 raw words (19669 effective words) took 0.0s, 708177 effective words/s\n",
      "2019-09-18 20:12:22,679 : INFO : worker thread finished; awaiting finish of 3 more threads\n",
      "2019-09-18 20:12:22,688 : INFO : worker thread finished; awaiting finish of 2 more threads\n",
      "2019-09-18 20:12:22,696 : INFO : worker thread finished; awaiting finish of 1 more threads\n",
      "2019-09-18 20:12:22,699 : INFO : worker thread finished; awaiting finish of 0 more threads\n",
      "2019-09-18 20:12:22,700 : INFO : EPOCH - 2 : training on 40633 raw words (19632 effective words) took 0.0s, 507788 effective words/s\n",
      "2019-09-18 20:12:22,730 : INFO : worker thread finished; awaiting finish of 3 more threads\n",
      "2019-09-18 20:12:22,733 : INFO : worker thread finished; awaiting finish of 2 more threads\n",
      "2019-09-18 20:12:22,741 : INFO : worker thread finished; awaiting finish of 1 more threads\n",
      "2019-09-18 20:12:22,742 : INFO : worker thread finished; awaiting finish of 0 more threads\n",
      "2019-09-18 20:12:22,743 : INFO : EPOCH - 3 : training on 40633 raw words (19671 effective words) took 0.0s, 648635 effective words/s\n",
      "2019-09-18 20:12:22,769 : INFO : worker thread finished; awaiting finish of 3 more threads\n",
      "2019-09-18 20:12:22,773 : INFO : worker thread finished; awaiting finish of 2 more threads\n",
      "2019-09-18 20:12:22,774 : INFO : worker thread finished; awaiting finish of 1 more threads\n",
      "2019-09-18 20:12:22,778 : INFO : worker thread finished; awaiting finish of 0 more threads\n",
      "2019-09-18 20:12:22,778 : INFO : EPOCH - 4 : training on 40633 raw words (19645 effective words) took 0.0s, 686878 effective words/s\n",
      "2019-09-18 20:12:22,803 : INFO : worker thread finished; awaiting finish of 3 more threads\n",
      "2019-09-18 20:12:22,807 : INFO : worker thread finished; awaiting finish of 2 more threads\n",
      "2019-09-18 20:12:22,810 : INFO : worker thread finished; awaiting finish of 1 more threads\n",
      "2019-09-18 20:12:22,812 : INFO : worker thread finished; awaiting finish of 0 more threads\n",
      "2019-09-18 20:12:22,812 : INFO : EPOCH - 5 : training on 40633 raw words (19658 effective words) took 0.0s, 787347 effective words/s\n",
      "2019-09-18 20:12:22,814 : INFO : training on a 203165 raw words (98275 effective words) took 0.2s, 488830 effective words/s\n",
      "2019-09-18 20:12:22,815 : WARNING : under 10 jobs per worker: consider setting a smaller `batch_words' for smoother alpha decay\n"
     ]
    },
    {
     "name": "stdout",
     "output_type": "stream",
     "text": [
      "CPU times: user 471 ms, sys: 69.8 ms, total: 541 ms\n",
      "Wall time: 337 ms\n"
     ]
    }
   ],
   "source": [
    "%%time\n",
    "# build word2vec model\n",
    "w2v_num_features = 300\n",
    "w2v_model = gensim.models.Word2Vec(tokenized_train, size=w2v_num_features, window=150,\n",
    "                                   min_count=10, workers=4, iter=5)    "
   ]
  },
  {
   "cell_type": "code",
   "execution_count": 644,
   "metadata": {},
   "outputs": [],
   "source": [
    "def averaged_word2vec_vectorizer(corpus, model, num_features):\n",
    "    vocabulary = set(model.wv.index2word)\n",
    "    \n",
    "    def average_word_vectors(words, model, vocabulary, num_features):\n",
    "        feature_vector = np.zeros((num_features,), dtype=\"float64\")\n",
    "        nwords = 0.\n",
    "        \n",
    "        for word in words:\n",
    "            if word in vocabulary: \n",
    "                nwords = nwords + 1.\n",
    "                feature_vector = np.add(feature_vector, model.wv[word])\n",
    "        if nwords:\n",
    "            feature_vector = np.divide(feature_vector, nwords)\n",
    "\n",
    "        return feature_vector\n",
    "\n",
    "    features = [average_word_vectors(tokenized_sentence, model, vocabulary, num_features)\n",
    "                    for tokenized_sentence in corpus]\n",
    "    return np.array(features)"
   ]
  },
  {
   "cell_type": "code",
   "execution_count": 645,
   "metadata": {},
   "outputs": [],
   "source": [
    "# generate averaged word vector features from word2vec model\n",
    "avg_wv_train_features = averaged_word2vec_vectorizer(corpus=tokenized_train, model=w2v_model,\n",
    "                                                     num_features=w2v_num_features)\n",
    "avg_wv_test_features = averaged_word2vec_vectorizer(corpus=tokenized_test, model=w2v_model,\n",
    "                                                    num_features=w2v_num_features)"
   ]
  },
  {
   "cell_type": "code",
   "execution_count": 646,
   "metadata": {},
   "outputs": [
    {
     "name": "stdout",
     "output_type": "stream",
     "text": [
      "Word2Vec model:> Train features shape: (3900, 300)  Test features shape: (1672, 300)\n"
     ]
    }
   ],
   "source": [
    "print('Word2Vec model:> Train features shape:', avg_wv_train_features.shape, ' Test features shape:', avg_wv_test_features.shape)"
   ]
  },
  {
   "cell_type": "markdown",
   "metadata": {},
   "source": [
    "## Modeling with deep neural networks \n"
   ]
  },
  {
   "cell_type": "markdown",
   "metadata": {},
   "source": [
    "### Building Deep neural network architecture"
   ]
  },
  {
   "cell_type": "code",
   "execution_count": 676,
   "metadata": {},
   "outputs": [],
   "source": [
    "def construct_deepnn_architecture(num_input_features):\n",
    "    dnn_model = Sequential()\n",
    "    dnn_model.add(Dense(512, input_shape=(num_input_features,)))\n",
    "    dnn_model.add(Activation('elu'))\n",
    "    dnn_model.add(BatchNormalization())\n",
    "    dnn_model.add(Dropout(0.5))\n",
    "    \n",
    "    dnn_model.add(Dense(256))\n",
    "    dnn_model.add(Activation('elu'))\n",
    "    dnn_model.add(BatchNormalization())\n",
    "    dnn_model.add(Dropout(0.5))\n",
    "    \n",
    "    dnn_model.add(Dense(256))\n",
    "    dnn_model.add(Activation('elu'))\n",
    "    dnn_model.add(BatchNormalization())\n",
    "    dnn_model.add(Dropout(0.5))\n",
    "    \n",
    "    dnn_model.add(Dense(1))\n",
    "    dnn_model.add(Activation('sigmoid'))\n",
    "\n",
    "    dnn_model.compile(loss='binary_crossentropy', optimizer='adam',                 \n",
    "                      metrics=['accuracy'])\n",
    "    return dnn_model"
   ]
  },
  {
   "cell_type": "code",
   "execution_count": 677,
   "metadata": {},
   "outputs": [],
   "source": [
    "w2v_dnn = construct_deepnn_architecture(num_input_features=w2v_num_features)"
   ]
  },
  {
   "cell_type": "code",
   "execution_count": 678,
   "metadata": {},
   "outputs": [
    {
     "name": "stdout",
     "output_type": "stream",
     "text": [
      "_________________________________________________________________\n",
      "Layer (type)                 Output Shape              Param #   \n",
      "=================================================================\n",
      "dense_23 (Dense)             (None, 512)               154112    \n",
      "_________________________________________________________________\n",
      "activation_27 (Activation)   (None, 512)               0         \n",
      "_________________________________________________________________\n",
      "batch_normalization_6 (Batch (None, 512)               2048      \n",
      "_________________________________________________________________\n",
      "dropout_19 (Dropout)         (None, 512)               0         \n",
      "_________________________________________________________________\n",
      "dense_24 (Dense)             (None, 256)               131328    \n",
      "_________________________________________________________________\n",
      "activation_28 (Activation)   (None, 256)               0         \n",
      "_________________________________________________________________\n",
      "batch_normalization_7 (Batch (None, 256)               1024      \n",
      "_________________________________________________________________\n",
      "dropout_20 (Dropout)         (None, 256)               0         \n",
      "_________________________________________________________________\n",
      "dense_25 (Dense)             (None, 256)               65792     \n",
      "_________________________________________________________________\n",
      "activation_29 (Activation)   (None, 256)               0         \n",
      "_________________________________________________________________\n",
      "batch_normalization_8 (Batch (None, 256)               1024      \n",
      "_________________________________________________________________\n",
      "dropout_21 (Dropout)         (None, 256)               0         \n",
      "_________________________________________________________________\n",
      "dense_26 (Dense)             (None, 1)                 257       \n",
      "_________________________________________________________________\n",
      "activation_30 (Activation)   (None, 1)                 0         \n",
      "=================================================================\n",
      "Total params: 355,585\n",
      "Trainable params: 353,537\n",
      "Non-trainable params: 2,048\n",
      "_________________________________________________________________\n"
     ]
    }
   ],
   "source": [
    "w2v_dnn.summary()"
   ]
  },
  {
   "cell_type": "code",
   "execution_count": 681,
   "metadata": {},
   "outputs": [
    {
     "name": "stdout",
     "output_type": "stream",
     "text": [
      "Train on 3861 samples, validate on 39 samples\n",
      "Epoch 1/50\n",
      "3861/3861 [==============================] - 0s 93us/step - loss: 0.1128 - acc: 0.9611 - val_loss: 0.1066 - val_acc: 0.9744\n",
      "Epoch 2/50\n",
      "3861/3861 [==============================] - 0s 97us/step - loss: 0.1067 - acc: 0.9656 - val_loss: 0.1053 - val_acc: 0.9744\n",
      "Epoch 3/50\n",
      "3861/3861 [==============================] - 0s 93us/step - loss: 0.1058 - acc: 0.9635 - val_loss: 0.0995 - val_acc: 0.9744\n",
      "Epoch 4/50\n",
      "3861/3861 [==============================] - 0s 99us/step - loss: 0.1089 - acc: 0.9648 - val_loss: 0.1182 - val_acc: 0.9744\n",
      "Epoch 5/50\n",
      "3861/3861 [==============================] - 0s 86us/step - loss: 0.1057 - acc: 0.9653 - val_loss: 0.1016 - val_acc: 0.9744\n",
      "Epoch 6/50\n",
      "3861/3861 [==============================] - 0s 94us/step - loss: 0.1140 - acc: 0.9593 - val_loss: 0.0985 - val_acc: 0.9744\n",
      "Epoch 7/50\n",
      "3861/3861 [==============================] - 0s 90us/step - loss: 0.1118 - acc: 0.9624 - val_loss: 0.0858 - val_acc: 0.9744\n",
      "Epoch 8/50\n",
      "3861/3861 [==============================] - 0s 101us/step - loss: 0.1067 - acc: 0.9614 - val_loss: 0.0716 - val_acc: 0.9744\n",
      "Epoch 9/50\n",
      "3861/3861 [==============================] - 0s 94us/step - loss: 0.1139 - acc: 0.9624 - val_loss: 0.0851 - val_acc: 0.9744\n",
      "Epoch 10/50\n",
      "3861/3861 [==============================] - 0s 104us/step - loss: 0.1053 - acc: 0.9619 - val_loss: 0.0683 - val_acc: 0.9744\n",
      "Epoch 11/50\n",
      "3861/3861 [==============================] - 0s 106us/step - loss: 0.1087 - acc: 0.9632 - val_loss: 0.0786 - val_acc: 0.9744\n",
      "Epoch 12/50\n",
      "3861/3861 [==============================] - 0s 94us/step - loss: 0.1085 - acc: 0.9627 - val_loss: 0.1034 - val_acc: 0.9744\n",
      "Epoch 13/50\n",
      "3861/3861 [==============================] - 0s 102us/step - loss: 0.1107 - acc: 0.9617 - val_loss: 0.1106 - val_acc: 0.9744\n",
      "Epoch 14/50\n",
      "3861/3861 [==============================] - 0s 102us/step - loss: 0.1141 - acc: 0.9606 - val_loss: 0.0953 - val_acc: 0.9744\n",
      "Epoch 15/50\n",
      "3861/3861 [==============================] - 0s 103us/step - loss: 0.1085 - acc: 0.9643 - val_loss: 0.0867 - val_acc: 0.9744\n",
      "Epoch 16/50\n",
      "3861/3861 [==============================] - 0s 110us/step - loss: 0.1127 - acc: 0.9627 - val_loss: 0.0885 - val_acc: 0.9744\n",
      "Epoch 17/50\n",
      "3861/3861 [==============================] - 0s 105us/step - loss: 0.1073 - acc: 0.9622 - val_loss: 0.1076 - val_acc: 0.9744\n",
      "Epoch 18/50\n",
      "3861/3861 [==============================] - 0s 101us/step - loss: 0.1115 - acc: 0.9627 - val_loss: 0.1002 - val_acc: 0.9744\n",
      "Epoch 19/50\n",
      "3861/3861 [==============================] - 0s 97us/step - loss: 0.1095 - acc: 0.9624 - val_loss: 0.1066 - val_acc: 0.9744\n",
      "Epoch 20/50\n",
      "3861/3861 [==============================] - 0s 110us/step - loss: 0.1080 - acc: 0.9643 - val_loss: 0.1073 - val_acc: 0.9744\n",
      "Epoch 21/50\n",
      "3861/3861 [==============================] - 0s 118us/step - loss: 0.1035 - acc: 0.9658 - val_loss: 0.0949 - val_acc: 0.9744\n",
      "Epoch 22/50\n",
      "3861/3861 [==============================] - 0s 100us/step - loss: 0.1125 - acc: 0.9599 - val_loss: 0.1003 - val_acc: 0.9744\n",
      "Epoch 23/50\n",
      "3861/3861 [==============================] - 0s 104us/step - loss: 0.1113 - acc: 0.9624 - val_loss: 0.1158 - val_acc: 0.9744\n",
      "Epoch 24/50\n",
      "3861/3861 [==============================] - 0s 99us/step - loss: 0.1100 - acc: 0.9601 - val_loss: 0.1048 - val_acc: 0.9744\n",
      "Epoch 25/50\n",
      "3861/3861 [==============================] - 0s 99us/step - loss: 0.1047 - acc: 0.9635 - val_loss: 0.1045 - val_acc: 0.9744\n",
      "Epoch 26/50\n",
      "3861/3861 [==============================] - 0s 114us/step - loss: 0.1035 - acc: 0.9653 - val_loss: 0.1074 - val_acc: 0.9744\n",
      "Epoch 27/50\n",
      "3861/3861 [==============================] - 0s 115us/step - loss: 0.1116 - acc: 0.9624 - val_loss: 0.1160 - val_acc: 0.9744\n",
      "Epoch 28/50\n",
      "3861/3861 [==============================] - 0s 97us/step - loss: 0.1076 - acc: 0.9635 - val_loss: 0.1196 - val_acc: 0.9744\n",
      "Epoch 29/50\n",
      "3861/3861 [==============================] - 0s 106us/step - loss: 0.1085 - acc: 0.9632 - val_loss: 0.0857 - val_acc: 0.9744\n",
      "Epoch 30/50\n",
      "3861/3861 [==============================] - 0s 123us/step - loss: 0.1075 - acc: 0.9624 - val_loss: 0.0866 - val_acc: 0.9744\n",
      "Epoch 31/50\n",
      "3861/3861 [==============================] - 0s 115us/step - loss: 0.1044 - acc: 0.9637 - val_loss: 0.0794 - val_acc: 0.9744\n",
      "Epoch 32/50\n",
      "3861/3861 [==============================] - 0s 108us/step - loss: 0.1040 - acc: 0.9648 - val_loss: 0.0878 - val_acc: 0.9744\n",
      "Epoch 33/50\n",
      "3861/3861 [==============================] - 0s 102us/step - loss: 0.1043 - acc: 0.9630 - val_loss: 0.1198 - val_acc: 0.9744\n",
      "Epoch 34/50\n",
      "3861/3861 [==============================] - 0s 110us/step - loss: 0.1074 - acc: 0.9637 - val_loss: 0.1113 - val_acc: 0.9744\n",
      "Epoch 35/50\n",
      "3861/3861 [==============================] - 0s 103us/step - loss: 0.1107 - acc: 0.9637 - val_loss: 0.0559 - val_acc: 0.9744\n",
      "Epoch 36/50\n",
      "3861/3861 [==============================] - 0s 98us/step - loss: 0.1124 - acc: 0.9622 - val_loss: 0.1012 - val_acc: 0.9744\n",
      "Epoch 37/50\n",
      "3861/3861 [==============================] - 0s 110us/step - loss: 0.1049 - acc: 0.9632 - val_loss: 0.1060 - val_acc: 0.9744\n",
      "Epoch 38/50\n",
      "3861/3861 [==============================] - 0s 104us/step - loss: 0.1087 - acc: 0.9635 - val_loss: 0.1234 - val_acc: 0.9744\n",
      "Epoch 39/50\n",
      "3861/3861 [==============================] - 0s 111us/step - loss: 0.1092 - acc: 0.9617 - val_loss: 0.1165 - val_acc: 0.9744\n",
      "Epoch 40/50\n",
      "3861/3861 [==============================] - 0s 104us/step - loss: 0.1089 - acc: 0.9640 - val_loss: 0.1058 - val_acc: 0.9744\n",
      "Epoch 41/50\n",
      "3861/3861 [==============================] - 0s 109us/step - loss: 0.0979 - acc: 0.9653 - val_loss: 0.1038 - val_acc: 0.9744\n",
      "Epoch 42/50\n",
      "3861/3861 [==============================] - 0s 124us/step - loss: 0.1050 - acc: 0.9637 - val_loss: 0.1307 - val_acc: 0.9744\n",
      "Epoch 43/50\n",
      "3861/3861 [==============================] - 0s 115us/step - loss: 0.1062 - acc: 0.9640 - val_loss: 0.0975 - val_acc: 0.9744\n",
      "Epoch 44/50\n",
      "3861/3861 [==============================] - 0s 125us/step - loss: 0.1052 - acc: 0.9637 - val_loss: 0.1048 - val_acc: 0.9744\n",
      "Epoch 45/50\n",
      "3861/3861 [==============================] - 0s 108us/step - loss: 0.1048 - acc: 0.9632 - val_loss: 0.1062 - val_acc: 0.9744\n",
      "Epoch 46/50\n",
      "3861/3861 [==============================] - 0s 123us/step - loss: 0.1072 - acc: 0.9650 - val_loss: 0.1100 - val_acc: 0.9744\n",
      "Epoch 47/50\n",
      "3861/3861 [==============================] - 0s 119us/step - loss: 0.1055 - acc: 0.9640 - val_loss: 0.1019 - val_acc: 0.9744\n",
      "Epoch 48/50\n",
      "3861/3861 [==============================] - 0s 96us/step - loss: 0.1043 - acc: 0.9604 - val_loss: 0.1030 - val_acc: 0.9744\n",
      "Epoch 49/50\n",
      "3861/3861 [==============================] - 0s 107us/step - loss: 0.1084 - acc: 0.9645 - val_loss: 0.0987 - val_acc: 0.9744\n",
      "Epoch 50/50\n",
      "3861/3861 [==============================] - 0s 116us/step - loss: 0.1058 - acc: 0.9635 - val_loss: 0.1114 - val_acc: 0.9744\n"
     ]
    },
    {
     "data": {
      "text/plain": [
       "<tensorflow.python.keras.callbacks.History at 0x137baa160>"
      ]
     },
     "execution_count": 681,
     "metadata": {},
     "output_type": "execute_result"
    }
   ],
   "source": [
    "batch_size = 100\n",
    "w2v_dnn.fit(avg_wv_train_features, y_train, epochs=50, batch_size=batch_size, \n",
    "            shuffle=True, validation_split=0.01, verbose=1)"
   ]
  },
  {
   "cell_type": "code",
   "execution_count": 682,
   "metadata": {},
   "outputs": [
    {
     "name": "stderr",
     "output_type": "stream",
     "text": [
      "/anaconda3/lib/python3.6/site-packages/sklearn/preprocessing/label.py:273: DataConversionWarning: A column-vector y was passed when a 1d array was expected. Please change the shape of y to (n_samples, ), for example using ravel().\n",
      "  y = column_or_1d(y, warn=True)\n"
     ]
    }
   ],
   "source": [
    "y_pred = w2v_dnn.predict_classes(avg_wv_test_features)\n",
    "predictions = le.inverse_transform(y_pred) "
   ]
  },
  {
   "cell_type": "code",
   "execution_count": 683,
   "metadata": {},
   "outputs": [
    {
     "name": "stdout",
     "output_type": "stream",
     "text": [
      "              precision    recall  f1-score   support\n",
      "\n",
      "           0       0.98      0.99      0.98      1459\n",
      "           1       0.92      0.84      0.88       213\n",
      "\n",
      "    accuracy                           0.97      1672\n",
      "   macro avg       0.95      0.92      0.93      1672\n",
      "weighted avg       0.97      0.97      0.97      1672\n",
      "\n"
     ]
    },
    {
     "data": {
      "text/html": [
       "<div>\n",
       "<style scoped>\n",
       "    .dataframe tbody tr th:only-of-type {\n",
       "        vertical-align: middle;\n",
       "    }\n",
       "\n",
       "    .dataframe tbody tr th {\n",
       "        vertical-align: top;\n",
       "    }\n",
       "\n",
       "    .dataframe thead th {\n",
       "        text-align: right;\n",
       "    }\n",
       "</style>\n",
       "<table border=\"1\" class=\"dataframe\">\n",
       "  <thead>\n",
       "    <tr style=\"text-align: right;\">\n",
       "      <th></th>\n",
       "      <th>spam</th>\n",
       "      <th>ham</th>\n",
       "    </tr>\n",
       "  </thead>\n",
       "  <tbody>\n",
       "    <tr>\n",
       "      <th>spam</th>\n",
       "      <td>1444</td>\n",
       "      <td>15</td>\n",
       "    </tr>\n",
       "    <tr>\n",
       "      <th>ham</th>\n",
       "      <td>34</td>\n",
       "      <td>179</td>\n",
       "    </tr>\n",
       "  </tbody>\n",
       "</table>\n",
       "</div>"
      ],
      "text/plain": [
       "      spam  ham\n",
       "spam  1444   15\n",
       "ham     34  179"
      ]
     },
     "execution_count": 683,
     "metadata": {},
     "output_type": "execute_result"
    }
   ],
   "source": [
    "labels = ['spam', 'ham']\n",
    "print(classification_report(test_y, predictions))\n",
    "pd.DataFrame(confusion_matrix(test_y, predictions), index=labels, columns=labels)"
   ]
  },
  {
   "cell_type": "code",
   "execution_count": 716,
   "metadata": {},
   "outputs": [],
   "source": [
    "result_data.update({'DNN_Word2vec': wrong_prediction(confusion_matrix(test_y, predictions))})"
   ]
  },
  {
   "cell_type": "markdown",
   "metadata": {},
   "source": [
    "# LSTM Model\n",
    "## Build Model Architecture"
   ]
  },
  {
   "cell_type": "markdown",
   "metadata": {
    "colab_type": "text",
    "id": "LYjVqlz10c2_"
   },
   "source": [
    "## Preprocessing\n",
    "\n",
    "To prepare text data for our deep learning model, we transform each review into a sequence.\n",
    "Every word in the review is mapped to an integer index and thus the sentence turns into a sequence of numbers.\n",
    "\n",
    "To perform this transformation, keras provides the ```Tokenizer```"
   ]
  },
  {
   "cell_type": "code",
   "execution_count": 684,
   "metadata": {
    "colab": {},
    "colab_type": "code",
    "id": "xf_Ck9Hc0oPo"
   },
   "outputs": [],
   "source": [
    "import tensorflow as tf\n",
    "\n",
    "t = tf.keras.preprocessing.text.Tokenizer(oov_token='<UNK>')\n",
    "# fit the tokenizer on the documents\n",
    "t.fit_on_texts(norm_train_message)\n",
    "t.word_index['<PAD>'] = 0"
   ]
  },
  {
   "cell_type": "code",
   "execution_count": 685,
   "metadata": {
    "colab": {
     "base_uri": "https://localhost:8080/",
     "height": 34
    },
    "colab_type": "code",
    "id": "jerA4iHk0qGF",
    "outputId": "4ad82c4c-c117-48cf-fa88-5dc765f572bc"
   },
   "outputs": [
    {
     "data": {
      "text/plain": [
       "(('<UNK>', 5075), ('<PAD>', 0), 5075)"
      ]
     },
     "execution_count": 685,
     "metadata": {},
     "output_type": "execute_result"
    }
   ],
   "source": [
    "max([(k, v) for k, v in t.word_index.items()], key = lambda x:x[1]), min([(k, v) for k, v in t.word_index.items()], key = lambda x:x[1]), t.word_index['<UNK>']"
   ]
  },
  {
   "cell_type": "code",
   "execution_count": 686,
   "metadata": {
    "colab": {},
    "colab_type": "code",
    "id": "YtrRwXbI05Qr"
   },
   "outputs": [],
   "source": [
    "train_sequences = t.texts_to_sequences(norm_train_message)\n",
    "test_sequences = t.texts_to_sequences(norm_test_message)"
   ]
  },
  {
   "cell_type": "code",
   "execution_count": 687,
   "metadata": {
    "colab": {
     "base_uri": "https://localhost:8080/",
     "height": 51
    },
    "colab_type": "code",
    "id": "Invj0gRk0-RW",
    "outputId": "7eb41c88-7448-495b-e834-cbf9c3dbf01c"
   },
   "outputs": [
    {
     "name": "stdout",
     "output_type": "stream",
     "text": [
      "Vocabulary size=5076\n",
      "Number of Documents=3900\n"
     ]
    }
   ],
   "source": [
    "print(\"Vocabulary size={}\".format(len(t.word_index)))\n",
    "print(\"Number of Documents={}\".format(t.document_count))"
   ]
  },
  {
   "cell_type": "code",
   "execution_count": 688,
   "metadata": {
    "colab": {
     "base_uri": "https://localhost:8080/",
     "height": 378
    },
    "colab_type": "code",
    "id": "Fq8BhTsM1AX2",
    "outputId": "daea9bc3-0c1c-4426-de45-3949542c1cef"
   },
   "outputs": [
    {
     "data": {
      "image/png": "[encoded data removed]",
      "text/plain": [
       "<Figure size 864x432 with 2 Axes>"
      ]
     },
     "metadata": {},
     "output_type": "display_data"
    }
   ],
   "source": [
    "import matplotlib.pyplot as plt\n",
    "%matplotlib inline\n",
    "\n",
    "train_lens = [len(s) for s in train_sequences]\n",
    "test_lens = [len(s) for s in test_sequences]\n",
    "\n",
    "fig, ax = plt.subplots(1,2, figsize=(12, 6))\n",
    "h1 = ax[0].hist(train_lens)\n",
    "h2 = ax[1].hist(test_lens)"
   ]
  },
  {
   "cell_type": "markdown",
   "metadata": {
    "colab_type": "text",
    "id": "g5ZMlD241CVr"
   },
   "source": [
    "### Sequence Normalization\n",
    "\n",
    "Not all reviews are of same length. To handle this difference in length of reviews, we define a maximum length.\n",
    "For reviews which are smaller than this length, we pad them with zeros which longer ones are truncated"
   ]
  },
  {
   "cell_type": "code",
   "execution_count": 689,
   "metadata": {
    "colab": {},
    "colab_type": "code",
    "id": "9CaP_1s41GCL"
   },
   "outputs": [],
   "source": [
    "MAX_SEQUENCE_LENGTH = 1000"
   ]
  },
  {
   "cell_type": "code",
   "execution_count": 690,
   "metadata": {
    "colab": {
     "base_uri": "https://localhost:8080/",
     "height": 34
    },
    "colab_type": "code",
    "id": "Op62mTZT1M4B",
    "outputId": "1a4dbf24-cf98-4dc7-fce7-bc22fb9eedc1"
   },
   "outputs": [
    {
     "data": {
      "text/plain": [
       "((3900, 1000), (1672, 1000))"
      ]
     },
     "execution_count": 690,
     "metadata": {},
     "output_type": "execute_result"
    }
   ],
   "source": [
    "# pad dataset to a maximum review length in words\n",
    "X_train = tf.keras.preprocessing.sequence.pad_sequences(train_sequences, maxlen=MAX_SEQUENCE_LENGTH)\n",
    "X_test = tf.keras.preprocessing.sequence.pad_sequences(test_sequences, maxlen=MAX_SEQUENCE_LENGTH)\n",
    "X_train.shape, X_test.shape"
   ]
  },
  {
   "cell_type": "markdown",
   "metadata": {
    "colab_type": "text",
    "id": "5ZZ1lLQw1Ols"
   },
   "source": [
    "### Encoding Labels\n",
    "\n",
    "The dataset contains labels of the form positive/negative. The following step encodes the labels using ```sklearn's``` ```LabelEncoder```"
   ]
  },
  {
   "cell_type": "code",
   "execution_count": 691,
   "metadata": {
    "colab": {},
    "colab_type": "code",
    "id": "DRBnWQGb1cRM"
   },
   "outputs": [],
   "source": [
    "from sklearn.preprocessing import LabelEncoder\n",
    "\n",
    "le = LabelEncoder()\n",
    "num_classes=2 # positive -> 1, negative -> 0"
   ]
  },
  {
   "cell_type": "code",
   "execution_count": 692,
   "metadata": {
    "colab": {},
    "colab_type": "code",
    "id": "qOPPNySt1eDz"
   },
   "outputs": [],
   "source": [
    "y_train = le.fit_transform(train_y)\n",
    "y_test = le.transform(test_y)"
   ]
  },
  {
   "cell_type": "code",
   "execution_count": 693,
   "metadata": {
    "colab": {},
    "colab_type": "code",
    "id": "IwlYATD11prp"
   },
   "outputs": [],
   "source": [
    "VOCAB_SIZE = len(t.word_index)"
   ]
  },
  {
   "cell_type": "code",
   "execution_count": 694,
   "metadata": {},
   "outputs": [],
   "source": [
    "embed_dim = 30\n",
    "lstm_out = 128\n",
    "batch_size = 32"
   ]
  },
  {
   "cell_type": "code",
   "execution_count": 695,
   "metadata": {},
   "outputs": [],
   "source": [
    "def construct_LSTM_architecture(num_input_features):\n",
    "    dnn_model = Sequential()\n",
    "    \n",
    "    dnn_model.add(Embedding(VOCAB_SIZE, embed_dim,input_length = MAX_SEQUENCE_LENGTH))\n",
    "\n",
    "    dnn_model.add(LSTM(32, input_shape=(num_input_features,)))\n",
    "    dnn_model.add(Activation('relu'))\n",
    "    dnn_model.add(Dropout(0.2))\n",
    "    \n",
    "    dnn_model.add(Dense(1))\n",
    "    dnn_model.add(Activation('sigmoid'))\n",
    "\n",
    "    dnn_model.compile(loss='binary_crossentropy', optimizer='adam',                 \n",
    "                      metrics=['accuracy'])\n",
    "    return dnn_model"
   ]
  },
  {
   "cell_type": "code",
   "execution_count": 696,
   "metadata": {},
   "outputs": [],
   "source": [
    "w2v_dnn = construct_LSTM_architecture(num_input_features=w2v_num_features)"
   ]
  },
  {
   "cell_type": "code",
   "execution_count": 697,
   "metadata": {},
   "outputs": [
    {
     "name": "stdout",
     "output_type": "stream",
     "text": [
      "_________________________________________________________________\n",
      "Layer (type)                 Output Shape              Param #   \n",
      "=================================================================\n",
      "embedding_4 (Embedding)      (None, 1000, 30)          152280    \n",
      "_________________________________________________________________\n",
      "lstm_6 (LSTM)                (None, 32)                8064      \n",
      "_________________________________________________________________\n",
      "activation_31 (Activation)   (None, 32)                0         \n",
      "_________________________________________________________________\n",
      "dropout_22 (Dropout)         (None, 32)                0         \n",
      "_________________________________________________________________\n",
      "dense_27 (Dense)             (None, 1)                 33        \n",
      "_________________________________________________________________\n",
      "activation_32 (Activation)   (None, 1)                 0         \n",
      "=================================================================\n",
      "Total params: 160,377\n",
      "Trainable params: 160,377\n",
      "Non-trainable params: 0\n",
      "_________________________________________________________________\n"
     ]
    }
   ],
   "source": [
    "w2v_dnn.summary()"
   ]
  },
  {
   "cell_type": "code",
   "execution_count": 713,
   "metadata": {},
   "outputs": [
    {
     "name": "stdout",
     "output_type": "stream",
     "text": [
      "Train on 3510 samples, validate on 390 samples\n",
      "Epoch 1/1\n",
      "3510/3510 [==============================] - 41s 12ms/step - loss: 0.0443 - acc: 0.9869 - val_loss: 0.0571 - val_acc: 0.9872\n"
     ]
    },
    {
     "data": {
      "text/plain": [
       "<tensorflow.python.keras.callbacks.History at 0x13c548048>"
      ]
     },
     "execution_count": 713,
     "metadata": {},
     "output_type": "execute_result"
    }
   ],
   "source": [
    "batch_size = 100\n",
    "w2v_dnn.fit(X_train, y_train, epochs=50, batch_size=batch_size, \n",
    "          shuffle=True, validation_split=0.1, verbose=0)"
   ]
  },
  {
   "cell_type": "code",
   "execution_count": 714,
   "metadata": {},
   "outputs": [
    {
     "name": "stderr",
     "output_type": "stream",
     "text": [
      "/anaconda3/lib/python3.6/site-packages/sklearn/preprocessing/label.py:273: DataConversionWarning: A column-vector y was passed when a 1d array was expected. Please change the shape of y to (n_samples, ), for example using ravel().\n",
      "  y = column_or_1d(y, warn=True)\n"
     ]
    }
   ],
   "source": [
    "y_pred = w2v_dnn.predict_classes(X_test)\n",
    "predictions = le.inverse_transform(y_pred) "
   ]
  },
  {
   "cell_type": "code",
   "execution_count": 707,
   "metadata": {},
   "outputs": [
    {
     "name": "stdout",
     "output_type": "stream",
     "text": [
      "              precision    recall  f1-score   support\n",
      "\n",
      "           0       0.99      1.00      0.99      1459\n",
      "           1       0.98      0.94      0.96       213\n",
      "\n",
      "    accuracy                           0.99      1672\n",
      "   macro avg       0.99      0.97      0.98      1672\n",
      "weighted avg       0.99      0.99      0.99      1672\n",
      "\n"
     ]
    },
    {
     "data": {
      "text/html": [
       "<div>\n",
       "<style scoped>\n",
       "    .dataframe tbody tr th:only-of-type {\n",
       "        vertical-align: middle;\n",
       "    }\n",
       "\n",
       "    .dataframe tbody tr th {\n",
       "        vertical-align: top;\n",
       "    }\n",
       "\n",
       "    .dataframe thead th {\n",
       "        text-align: right;\n",
       "    }\n",
       "</style>\n",
       "<table border=\"1\" class=\"dataframe\">\n",
       "  <thead>\n",
       "    <tr style=\"text-align: right;\">\n",
       "      <th></th>\n",
       "      <th>spam</th>\n",
       "      <th>ham</th>\n",
       "    </tr>\n",
       "  </thead>\n",
       "  <tbody>\n",
       "    <tr>\n",
       "      <th>spam</th>\n",
       "      <td>1455</td>\n",
       "      <td>4</td>\n",
       "    </tr>\n",
       "    <tr>\n",
       "      <th>ham</th>\n",
       "      <td>13</td>\n",
       "      <td>200</td>\n",
       "    </tr>\n",
       "  </tbody>\n",
       "</table>\n",
       "</div>"
      ],
      "text/plain": [
       "      spam  ham\n",
       "spam  1455    4\n",
       "ham     13  200"
      ]
     },
     "execution_count": 707,
     "metadata": {},
     "output_type": "execute_result"
    }
   ],
   "source": [
    "labels = ['spam', 'ham']\n",
    "print(classification_report(test_y, predictions))\n",
    "pd.DataFrame(confusion_matrix(test_y, predictions), index=labels, columns=labels)"
   ]
  },
  {
   "cell_type": "code",
   "execution_count": 232,
   "metadata": {},
   "outputs": [],
   "source": [
    "result_data.update({'LSTM_Word2vec': wrong_prediction(confusion_matrix(test_y, predictions))})"
   ]
  },
  {
   "cell_type": "code",
   "execution_count": 233,
   "metadata": {},
   "outputs": [
    {
     "data": {
      "text/plain": [
       "{'Logistic_BOW': 24,\n",
       " 'Logistic_TFIDF': 23,\n",
       " 'NaiveBayes_BOW': 34,\n",
       " 'NaiveBayes_TFIDF': 25,\n",
       " 'DecisionTree_BOW': 37,\n",
       " 'DecisionTree_TFIDF': 54,\n",
       " 'KNN_BOW': 48,\n",
       " 'KNN_TFIDF': 76,\n",
       " 'Random Forest_BOW': 30,\n",
       " 'Random Forest_TFIDF': 29,\n",
       " 'AdaBoost_BOW': 40,\n",
       " 'AdaBoost_TFIDF': 32,\n",
       " 'Xgboost_BOW': 38,\n",
       " 'Xgboost_TFIDF': 34,\n",
       " 'LSTM_Word2vec': 17}"
      ]
     },
     "execution_count": 233,
     "metadata": {},
     "output_type": "execute_result"
    }
   ],
   "source": [
    "result_data"
   ]
  },
  {
   "cell_type": "markdown",
   "metadata": {},
   "source": [
    "# So far LSTM as given best result"
   ]
  },
  {
   "cell_type": "markdown",
   "metadata": {},
   "source": [
    "# Pre-Trained Deeplearning Model using tensorflow-hub"
   ]
  },
  {
   "cell_type": "code",
   "execution_count": 2,
   "metadata": {},
   "outputs": [],
   "source": [
    "import tensorflow as tf\n",
    "import tensorflow_hub as hub"
   ]
  },
  {
   "cell_type": "code",
   "execution_count": 3,
   "metadata": {},
   "outputs": [
    {
     "data": {
      "text/plain": [
       "False"
      ]
     },
     "execution_count": 3,
     "metadata": {},
     "output_type": "execute_result"
    }
   ],
   "source": [
    "tf.test.is_gpu_available()"
   ]
  },
  {
   "cell_type": "code",
   "execution_count": 77,
   "metadata": {},
   "outputs": [
    {
     "name": "stderr",
     "output_type": "stream",
     "text": [
      "100%|██████████| 3900/3900 [00:00<00:00, 7936.77it/s]\n",
      "100%|██████████| 1672/1672 [00:00<00:00, 8057.75it/s]"
     ]
    },
    {
     "name": "stdout",
     "output_type": "stream",
     "text": [
      "CPU times: user 676 ms, sys: 33.3 ms, total: 709 ms\n",
      "Wall time: 713 ms\n"
     ]
    },
    {
     "name": "stderr",
     "output_type": "stream",
     "text": [
      "\n"
     ]
    }
   ],
   "source": [
    "%%time\n",
    "\n",
    "norm_train_message_transfer = np.array(pre_process_corpus(train_X[\"message_clean\"].values))\n",
    "norm_test_message_transfer = np.array(pre_process_corpus(test_X[\"message_clean\"].values))"
   ]
  },
  {
   "cell_type": "code",
   "execution_count": 78,
   "metadata": {},
   "outputs": [
    {
     "data": {
      "text/plain": [
       "array([0, 0, 0, ..., 0, 0, 0])"
      ]
     },
     "execution_count": 78,
     "metadata": {},
     "output_type": "execute_result"
    }
   ],
   "source": [
    "train_y.values"
   ]
  },
  {
   "cell_type": "code",
   "execution_count": 79,
   "metadata": {},
   "outputs": [],
   "source": [
    "# Training input on the whole training set with no limit on training epochs.\n",
    "train_input_fn = tf.estimator.inputs.numpy_input_fn(\n",
    "    {'sentence': norm_train_message_transfer}, np.array(train_y.values), \n",
    "    batch_size=256, num_epochs=None, shuffle=True)"
   ]
  },
  {
   "cell_type": "code",
   "execution_count": 80,
   "metadata": {},
   "outputs": [],
   "source": [
    "# Prediction on the whole training set.\n",
    "predict_train_input_fn = tf.estimator.inputs.numpy_input_fn(\n",
    "    {'sentence': norm_train_message_transfer}, np.array(train_y.values), shuffle=False)"
   ]
  },
  {
   "cell_type": "code",
   "execution_count": 81,
   "metadata": {},
   "outputs": [],
   "source": [
    "# Prediction on the whole validation set.\n",
    "predict_val_input_fn = tf.estimator.inputs.numpy_input_fn(\n",
    "    {'sentence': norm_test_message_transfer}, np.array(test_y.values), shuffle=False)"
   ]
  },
  {
   "cell_type": "code",
   "execution_count": 82,
   "metadata": {},
   "outputs": [],
   "source": [
    "# Prediction on the test set.\n",
    "predict_test_input_fn = tf.estimator.inputs.numpy_input_fn(\n",
    "    {'sentence': norm_test_message_transfer}, np.array(test_y.values), shuffle=False)"
   ]
  },
  {
   "cell_type": "markdown",
   "metadata": {},
   "source": [
    "# universal-sentence-encoder"
   ]
  },
  {
   "cell_type": "code",
   "execution_count": 48,
   "metadata": {},
   "outputs": [
    {
     "name": "stdout",
     "output_type": "stream",
     "text": [
      "WARNING:tensorflow:From /anaconda3/lib/python3.6/site-packages/tensorflow_hub/resolver.py:85: The name tf.gfile.MakeDirs is deprecated. Please use tf.io.gfile.makedirs instead.\n",
      "\n"
     ]
    },
    {
     "name": "stderr",
     "output_type": "stream",
     "text": [
      "WARNING:tensorflow:From /anaconda3/lib/python3.6/site-packages/tensorflow_hub/resolver.py:85: The name tf.gfile.MakeDirs is deprecated. Please use tf.io.gfile.makedirs instead.\n",
      "\n"
     ]
    },
    {
     "name": "stdout",
     "output_type": "stream",
     "text": [
      "WARNING:tensorflow:From /anaconda3/lib/python3.6/site-packages/tensorflow_hub/tf_utils.py:64: The name tf.gfile.GFile is deprecated. Please use tf.io.gfile.GFile instead.\n",
      "\n"
     ]
    },
    {
     "name": "stderr",
     "output_type": "stream",
     "text": [
      "WARNING:tensorflow:From /anaconda3/lib/python3.6/site-packages/tensorflow_hub/tf_utils.py:64: The name tf.gfile.GFile is deprecated. Please use tf.io.gfile.GFile instead.\n",
      "\n"
     ]
    },
    {
     "name": "stdout",
     "output_type": "stream",
     "text": [
      "WARNING:tensorflow:From /anaconda3/lib/python3.6/site-packages/tensorflow_hub/tf_utils.py:67: The name tf.gfile.Rename is deprecated. Please use tf.io.gfile.rename instead.\n",
      "\n"
     ]
    },
    {
     "name": "stderr",
     "output_type": "stream",
     "text": [
      "WARNING:tensorflow:From /anaconda3/lib/python3.6/site-packages/tensorflow_hub/tf_utils.py:67: The name tf.gfile.Rename is deprecated. Please use tf.io.gfile.rename instead.\n",
      "\n"
     ]
    },
    {
     "name": "stdout",
     "output_type": "stream",
     "text": [
      "WARNING:tensorflow:From /anaconda3/lib/python3.6/site-packages/tensorflow_hub/resolver.py:382: The name tf.gfile.Exists is deprecated. Please use tf.io.gfile.exists instead.\n",
      "\n"
     ]
    },
    {
     "name": "stderr",
     "output_type": "stream",
     "text": [
      "WARNING:tensorflow:From /anaconda3/lib/python3.6/site-packages/tensorflow_hub/resolver.py:382: The name tf.gfile.Exists is deprecated. Please use tf.io.gfile.exists instead.\n",
      "\n"
     ]
    },
    {
     "name": "stdout",
     "output_type": "stream",
     "text": [
      "WARNING:tensorflow:From /anaconda3/lib/python3.6/site-packages/tensorflow_hub/resolver.py:422: The name tf.gfile.DeleteRecursively is deprecated. Please use tf.io.gfile.rmtree instead.\n",
      "\n"
     ]
    },
    {
     "name": "stderr",
     "output_type": "stream",
     "text": [
      "WARNING:tensorflow:From /anaconda3/lib/python3.6/site-packages/tensorflow_hub/resolver.py:422: The name tf.gfile.DeleteRecursively is deprecated. Please use tf.io.gfile.rmtree instead.\n",
      "\n"
     ]
    },
    {
     "name": "stdout",
     "output_type": "stream",
     "text": [
      "WARNING:tensorflow:From /anaconda3/lib/python3.6/site-packages/tensorflow_hub/saved_model_lib.py:81: The name tf.saved_model.constants.SAVED_MODEL_FILENAME_PB is deprecated. Please use tf.saved_model.SAVED_MODEL_FILENAME_PB instead.\n",
      "\n"
     ]
    },
    {
     "name": "stderr",
     "output_type": "stream",
     "text": [
      "WARNING:tensorflow:From /anaconda3/lib/python3.6/site-packages/tensorflow_hub/saved_model_lib.py:81: The name tf.saved_model.constants.SAVED_MODEL_FILENAME_PB is deprecated. Please use tf.saved_model.SAVED_MODEL_FILENAME_PB instead.\n",
      "\n"
     ]
    },
    {
     "name": "stdout",
     "output_type": "stream",
     "text": [
      "WARNING:tensorflow:From /anaconda3/lib/python3.6/site-packages/tensorflow_hub/saved_model_lib.py:222: The name tf.saved_model.constants.ASSETS_KEY is deprecated. Please use tf.saved_model.ASSETS_KEY instead.\n",
      "\n"
     ]
    },
    {
     "name": "stderr",
     "output_type": "stream",
     "text": [
      "WARNING:tensorflow:From /anaconda3/lib/python3.6/site-packages/tensorflow_hub/saved_model_lib.py:222: The name tf.saved_model.constants.ASSETS_KEY is deprecated. Please use tf.saved_model.ASSETS_KEY instead.\n",
      "\n"
     ]
    },
    {
     "name": "stdout",
     "output_type": "stream",
     "text": [
      "WARNING:tensorflow:From /anaconda3/lib/python3.6/site-packages/tensorflow_hub/saved_model_lib.py:56: The name tf.saved_model.constants.VARIABLES_DIRECTORY is deprecated. Please use tf.saved_model.VARIABLES_DIRECTORY instead.\n",
      "\n"
     ]
    },
    {
     "name": "stderr",
     "output_type": "stream",
     "text": [
      "WARNING:tensorflow:From /anaconda3/lib/python3.6/site-packages/tensorflow_hub/saved_model_lib.py:56: The name tf.saved_model.constants.VARIABLES_DIRECTORY is deprecated. Please use tf.saved_model.VARIABLES_DIRECTORY instead.\n",
      "\n"
     ]
    }
   ],
   "source": [
    "embedding_feature = hub.text_embedding_column(\n",
    "    key='sentence', \n",
    "    module_spec=\"https://tfhub.dev/google/universal-sentence-encoder/2\",\n",
    "    trainable=False)"
   ]
  },
  {
   "cell_type": "code",
   "execution_count": 83,
   "metadata": {},
   "outputs": [],
   "source": [
    "dnn = tf.estimator.DNNClassifier(\n",
    "          hidden_units=[512, 128],\n",
    "          feature_columns=[embedding_feature],\n",
    "          n_classes=2,\n",
    "          activation_fn=tf.nn.relu,\n",
    "          dropout=0.1,\n",
    "          optimizer=tf.train.AdagradOptimizer(learning_rate=0.005))"
   ]
  },
  {
   "cell_type": "code",
   "execution_count": 84,
   "metadata": {},
   "outputs": [
    {
     "name": "stdout",
     "output_type": "stream",
     "text": [
      "\n",
      "----------------------------------------------------------------------------------------------------\n",
      "Training for step: 0 - 300\n",
      "WARNING: Entity <bound method _DNNModel.call of <tensorflow_estimator.python.estimator.canned.dnn._DNNModel object at 0x1430dcda0>> could not be transformed and will be executed as-is. Please report this to the AutgoGraph team. When filing the bug, set the verbosity to 10 (on Linux, `export AUTOGRAPH_VERBOSITY=10`) and attach the full output. Cause: converting <bound method _DNNModel.call of <tensorflow_estimator.python.estimator.canned.dnn._DNNModel object at 0x1430dcda0>>: AttributeError: module 'gast' has no attribute 'Num'\n",
      "WARNING: Entity <bound method Dense.call of <tensorflow.python.layers.core.Dense object at 0x144d26048>> could not be transformed and will be executed as-is. Please report this to the AutgoGraph team. When filing the bug, set the verbosity to 10 (on Linux, `export AUTOGRAPH_VERBOSITY=10`) and attach the full output. Cause: converting <bound method Dense.call of <tensorflow.python.layers.core.Dense object at 0x144d26048>>: AssertionError: Bad argument number for Name: 3, expecting 4\n",
      "WARNING: Entity <bound method Dropout.call of <tensorflow.python.layers.core.Dropout object at 0x144d261d0>> could not be transformed and will be executed as-is. Please report this to the AutgoGraph team. When filing the bug, set the verbosity to 10 (on Linux, `export AUTOGRAPH_VERBOSITY=10`) and attach the full output. Cause: converting <bound method Dropout.call of <tensorflow.python.layers.core.Dropout object at 0x144d261d0>>: AssertionError: Bad argument number for Name: 3, expecting 4\n",
      "WARNING: Entity <bound method Dense.call of <tensorflow.python.layers.core.Dense object at 0x144d52f60>> could not be transformed and will be executed as-is. Please report this to the AutgoGraph team. When filing the bug, set the verbosity to 10 (on Linux, `export AUTOGRAPH_VERBOSITY=10`) and attach the full output. Cause: converting <bound method Dense.call of <tensorflow.python.layers.core.Dense object at 0x144d52f60>>: AssertionError: Bad argument number for Name: 3, expecting 4\n",
      "WARNING: Entity <bound method Dropout.call of <tensorflow.python.layers.core.Dropout object at 0x144d26400>> could not be transformed and will be executed as-is. Please report this to the AutgoGraph team. When filing the bug, set the verbosity to 10 (on Linux, `export AUTOGRAPH_VERBOSITY=10`) and attach the full output. Cause: converting <bound method Dropout.call of <tensorflow.python.layers.core.Dropout object at 0x144d26400>>: AssertionError: Bad argument number for Name: 3, expecting 4\n",
      "WARNING: Entity <bound method Dense.call of <tensorflow.python.layers.core.Dense object at 0x144d264a8>> could not be transformed and will be executed as-is. Please report this to the AutgoGraph team. When filing the bug, set the verbosity to 10 (on Linux, `export AUTOGRAPH_VERBOSITY=10`) and attach the full output. Cause: converting <bound method Dense.call of <tensorflow.python.layers.core.Dense object at 0x144d264a8>>: AssertionError: Bad argument number for Name: 3, expecting 4\n",
      "Train Time (s): 64.79281425476074\n",
      "WARNING: Entity <bound method _DNNModel.call of <tensorflow_estimator.python.estimator.canned.dnn._DNNModel object at 0x14864fd30>> could not be transformed and will be executed as-is. Please report this to the AutgoGraph team. When filing the bug, set the verbosity to 10 (on Linux, `export AUTOGRAPH_VERBOSITY=10`) and attach the full output. Cause: converting <bound method _DNNModel.call of <tensorflow_estimator.python.estimator.canned.dnn._DNNModel object at 0x14864fd30>>: AttributeError: module 'gast' has no attribute 'Num'\n",
      "WARNING: Entity <bound method Dense.call of <tensorflow.python.layers.core.Dense object at 0x149cf6c50>> could not be transformed and will be executed as-is. Please report this to the AutgoGraph team. When filing the bug, set the verbosity to 10 (on Linux, `export AUTOGRAPH_VERBOSITY=10`) and attach the full output. Cause: converting <bound method Dense.call of <tensorflow.python.layers.core.Dense object at 0x149cf6c50>>: AssertionError: Bad argument number for Name: 3, expecting 4\n",
      "WARNING: Entity <bound method Dense.call of <tensorflow.python.layers.core.Dense object at 0x149cf6ba8>> could not be transformed and will be executed as-is. Please report this to the AutgoGraph team. When filing the bug, set the verbosity to 10 (on Linux, `export AUTOGRAPH_VERBOSITY=10`) and attach the full output. Cause: converting <bound method Dense.call of <tensorflow.python.layers.core.Dense object at 0x149cf6ba8>>: AssertionError: Bad argument number for Name: 3, expecting 4\n",
      "WARNING: Entity <bound method Dense.call of <tensorflow.python.layers.core.Dense object at 0x149d06160>> could not be transformed and will be executed as-is. Please report this to the AutgoGraph team. When filing the bug, set the verbosity to 10 (on Linux, `export AUTOGRAPH_VERBOSITY=10`) and attach the full output. Cause: converting <bound method Dense.call of <tensorflow.python.layers.core.Dense object at 0x149d06160>>: AssertionError: Bad argument number for Name: 3, expecting 4\n",
      "Eval Metrics (Train): {'accuracy': 0.99333334, 'accuracy_baseline': 0.86230767, 'auc': 0.9981406, 'auc_precision_recall': 0.99470824, 'average_loss': 0.024679067, 'label/mean': 0.1376923, 'loss': 3.1047857, 'precision': 0.97936213, 'prediction/mean': 0.13968052, 'recall': 0.97206706, 'global_step': 300}\n",
      "WARNING: Entity <bound method _DNNModel.call of <tensorflow_estimator.python.estimator.canned.dnn._DNNModel object at 0x14ab247f0>> could not be transformed and will be executed as-is. Please report this to the AutgoGraph team. When filing the bug, set the verbosity to 10 (on Linux, `export AUTOGRAPH_VERBOSITY=10`) and attach the full output. Cause: converting <bound method _DNNModel.call of <tensorflow_estimator.python.estimator.canned.dnn._DNNModel object at 0x14ab247f0>>: AttributeError: module 'gast' has no attribute 'Num'\n",
      "WARNING: Entity <bound method Dense.call of <tensorflow.python.layers.core.Dense object at 0x1456bbac8>> could not be transformed and will be executed as-is. Please report this to the AutgoGraph team. When filing the bug, set the verbosity to 10 (on Linux, `export AUTOGRAPH_VERBOSITY=10`) and attach the full output. Cause: converting <bound method Dense.call of <tensorflow.python.layers.core.Dense object at 0x1456bbac8>>: AssertionError: Bad argument number for Name: 3, expecting 4\n",
      "WARNING: Entity <bound method Dense.call of <tensorflow.python.layers.core.Dense object at 0x1456bba20>> could not be transformed and will be executed as-is. Please report this to the AutgoGraph team. When filing the bug, set the verbosity to 10 (on Linux, `export AUTOGRAPH_VERBOSITY=10`) and attach the full output. Cause: converting <bound method Dense.call of <tensorflow.python.layers.core.Dense object at 0x1456bba20>>: AssertionError: Bad argument number for Name: 3, expecting 4\n",
      "WARNING: Entity <bound method Dense.call of <tensorflow.python.layers.core.Dense object at 0x1456bbf28>> could not be transformed and will be executed as-is. Please report this to the AutgoGraph team. When filing the bug, set the verbosity to 10 (on Linux, `export AUTOGRAPH_VERBOSITY=10`) and attach the full output. Cause: converting <bound method Dense.call of <tensorflow.python.layers.core.Dense object at 0x1456bbf28>>: AssertionError: Bad argument number for Name: 3, expecting 4\n",
      "Eval Metrics (Validation): {'accuracy': 0.9826555, 'accuracy_baseline': 0.8744019, 'auc': 0.9843642, 'auc_precision_recall': 0.9713104, 'average_loss': 0.06040739, 'label/mean': 0.12559809, 'loss': 7.214368, 'precision': 0.9458128, 'prediction/mean': 0.12530401, 'recall': 0.9142857, 'global_step': 300}\n",
      "\n",
      "----------------------------------------------------------------------------------------------------\n",
      "Training for step: 300 - 600\n",
      "WARNING: Entity <bound method _DNNModel.call of <tensorflow_estimator.python.estimator.canned.dnn._DNNModel object at 0x15fdf4438>> could not be transformed and will be executed as-is. Please report this to the AutgoGraph team. When filing the bug, set the verbosity to 10 (on Linux, `export AUTOGRAPH_VERBOSITY=10`) and attach the full output. Cause: converting <bound method _DNNModel.call of <tensorflow_estimator.python.estimator.canned.dnn._DNNModel object at 0x15fdf4438>>: AttributeError: module 'gast' has no attribute 'Num'\n"
     ]
    },
    {
     "name": "stdout",
     "output_type": "stream",
     "text": [
      "WARNING: Entity <bound method Dense.call of <tensorflow.python.layers.core.Dense object at 0x160d98e10>> could not be transformed and will be executed as-is. Please report this to the AutgoGraph team. When filing the bug, set the verbosity to 10 (on Linux, `export AUTOGRAPH_VERBOSITY=10`) and attach the full output. Cause: converting <bound method Dense.call of <tensorflow.python.layers.core.Dense object at 0x160d98e10>>: AssertionError: Bad argument number for Name: 3, expecting 4\n",
      "WARNING: Entity <bound method Dropout.call of <tensorflow.python.layers.core.Dropout object at 0x160d98f98>> could not be transformed and will be executed as-is. Please report this to the AutgoGraph team. When filing the bug, set the verbosity to 10 (on Linux, `export AUTOGRAPH_VERBOSITY=10`) and attach the full output. Cause: converting <bound method Dropout.call of <tensorflow.python.layers.core.Dropout object at 0x160d98f98>>: AssertionError: Bad argument number for Name: 3, expecting 4\n",
      "WARNING: Entity <bound method Dense.call of <tensorflow.python.layers.core.Dense object at 0x160d98d68>> could not be transformed and will be executed as-is. Please report this to the AutgoGraph team. When filing the bug, set the verbosity to 10 (on Linux, `export AUTOGRAPH_VERBOSITY=10`) and attach the full output. Cause: converting <bound method Dense.call of <tensorflow.python.layers.core.Dense object at 0x160d98d68>>: AssertionError: Bad argument number for Name: 3, expecting 4\n",
      "WARNING: Entity <bound method Dropout.call of <tensorflow.python.layers.core.Dropout object at 0x160dac208>> could not be transformed and will be executed as-is. Please report this to the AutgoGraph team. When filing the bug, set the verbosity to 10 (on Linux, `export AUTOGRAPH_VERBOSITY=10`) and attach the full output. Cause: converting <bound method Dropout.call of <tensorflow.python.layers.core.Dropout object at 0x160dac208>>: AssertionError: Bad argument number for Name: 3, expecting 4\n",
      "WARNING: Entity <bound method Dense.call of <tensorflow.python.layers.core.Dense object at 0x160dac2b0>> could not be transformed and will be executed as-is. Please report this to the AutgoGraph team. When filing the bug, set the verbosity to 10 (on Linux, `export AUTOGRAPH_VERBOSITY=10`) and attach the full output. Cause: converting <bound method Dense.call of <tensorflow.python.layers.core.Dense object at 0x160dac2b0>>: AssertionError: Bad argument number for Name: 3, expecting 4\n",
      "Train Time (s): 58.045026779174805\n",
      "WARNING: Entity <bound method _DNNModel.call of <tensorflow_estimator.python.estimator.canned.dnn._DNNModel object at 0x160d98d30>> could not be transformed and will be executed as-is. Please report this to the AutgoGraph team. When filing the bug, set the verbosity to 10 (on Linux, `export AUTOGRAPH_VERBOSITY=10`) and attach the full output. Cause: converting <bound method _DNNModel.call of <tensorflow_estimator.python.estimator.canned.dnn._DNNModel object at 0x160d98d30>>: AttributeError: module 'gast' has no attribute 'Num'\n",
      "WARNING: Entity <bound method Dense.call of <tensorflow.python.layers.core.Dense object at 0x1599010b8>> could not be transformed and will be executed as-is. Please report this to the AutgoGraph team. When filing the bug, set the verbosity to 10 (on Linux, `export AUTOGRAPH_VERBOSITY=10`) and attach the full output. Cause: converting <bound method Dense.call of <tensorflow.python.layers.core.Dense object at 0x1599010b8>>: AssertionError: Bad argument number for Name: 3, expecting 4\n",
      "WARNING: Entity <bound method Dense.call of <tensorflow.python.layers.core.Dense object at 0x159901080>> could not be transformed and will be executed as-is. Please report this to the AutgoGraph team. When filing the bug, set the verbosity to 10 (on Linux, `export AUTOGRAPH_VERBOSITY=10`) and attach the full output. Cause: converting <bound method Dense.call of <tensorflow.python.layers.core.Dense object at 0x159901080>>: AssertionError: Bad argument number for Name: 3, expecting 4\n",
      "WARNING: Entity <bound method Dense.call of <tensorflow.python.layers.core.Dense object at 0x159901518>> could not be transformed and will be executed as-is. Please report this to the AutgoGraph team. When filing the bug, set the verbosity to 10 (on Linux, `export AUTOGRAPH_VERBOSITY=10`) and attach the full output. Cause: converting <bound method Dense.call of <tensorflow.python.layers.core.Dense object at 0x159901518>>: AssertionError: Bad argument number for Name: 3, expecting 4\n",
      "Eval Metrics (Train): {'accuracy': 0.99641025, 'accuracy_baseline': 0.86230767, 'auc': 0.9998029, 'auc_precision_recall': 0.99889505, 'average_loss': 0.012795246, 'label/mean': 0.1376923, 'loss': 1.6097245, 'precision': 0.988785, 'prediction/mean': 0.13708383, 'recall': 0.9851024, 'global_step': 600}\n",
      "WARNING: Entity <bound method _DNNModel.call of <tensorflow_estimator.python.estimator.canned.dnn._DNNModel object at 0x166657898>> could not be transformed and will be executed as-is. Please report this to the AutgoGraph team. When filing the bug, set the verbosity to 10 (on Linux, `export AUTOGRAPH_VERBOSITY=10`) and attach the full output. Cause: converting <bound method _DNNModel.call of <tensorflow_estimator.python.estimator.canned.dnn._DNNModel object at 0x166657898>>: AttributeError: module 'gast' has no attribute 'Num'\n",
      "WARNING: Entity <bound method Dense.call of <tensorflow.python.layers.core.Dense object at 0x1667ee828>> could not be transformed and will be executed as-is. Please report this to the AutgoGraph team. When filing the bug, set the verbosity to 10 (on Linux, `export AUTOGRAPH_VERBOSITY=10`) and attach the full output. Cause: converting <bound method Dense.call of <tensorflow.python.layers.core.Dense object at 0x1667ee828>>: AssertionError: Bad argument number for Name: 3, expecting 4\n",
      "WARNING: Entity <bound method Dense.call of <tensorflow.python.layers.core.Dense object at 0x1667ee780>> could not be transformed and will be executed as-is. Please report this to the AutgoGraph team. When filing the bug, set the verbosity to 10 (on Linux, `export AUTOGRAPH_VERBOSITY=10`) and attach the full output. Cause: converting <bound method Dense.call of <tensorflow.python.layers.core.Dense object at 0x1667ee780>>: AssertionError: Bad argument number for Name: 3, expecting 4\n",
      "WARNING: Entity <bound method Dense.call of <tensorflow.python.layers.core.Dense object at 0x1667eec88>> could not be transformed and will be executed as-is. Please report this to the AutgoGraph team. When filing the bug, set the verbosity to 10 (on Linux, `export AUTOGRAPH_VERBOSITY=10`) and attach the full output. Cause: converting <bound method Dense.call of <tensorflow.python.layers.core.Dense object at 0x1667eec88>>: AssertionError: Bad argument number for Name: 3, expecting 4\n",
      "Eval Metrics (Validation): {'accuracy': 0.9826555, 'accuracy_baseline': 0.8744019, 'auc': 0.9825957, 'auc_precision_recall': 0.97036695, 'average_loss': 0.06628515, 'label/mean': 0.12559809, 'loss': 7.9163404, 'precision': 0.9502488, 'prediction/mean': 0.12128693, 'recall': 0.9095238, 'global_step': 600}\n",
      "\n",
      "----------------------------------------------------------------------------------------------------\n",
      "Training for step: 600 - 900\n",
      "WARNING: Entity <bound method _DNNModel.call of <tensorflow_estimator.python.estimator.canned.dnn._DNNModel object at 0x165257ba8>> could not be transformed and will be executed as-is. Please report this to the AutgoGraph team. When filing the bug, set the verbosity to 10 (on Linux, `export AUTOGRAPH_VERBOSITY=10`) and attach the full output. Cause: converting <bound method _DNNModel.call of <tensorflow_estimator.python.estimator.canned.dnn._DNNModel object at 0x165257ba8>>: AttributeError: module 'gast' has no attribute 'Num'\n",
      "WARNING: Entity <bound method Dense.call of <tensorflow.python.layers.core.Dense object at 0x1654cbc88>> could not be transformed and will be executed as-is. Please report this to the AutgoGraph team. When filing the bug, set the verbosity to 10 (on Linux, `export AUTOGRAPH_VERBOSITY=10`) and attach the full output. Cause: converting <bound method Dense.call of <tensorflow.python.layers.core.Dense object at 0x1654cbc88>>: AssertionError: Bad argument number for Name: 3, expecting 4\n",
      "WARNING: Entity <bound method Dropout.call of <tensorflow.python.layers.core.Dropout object at 0x1654cbe10>> could not be transformed and will be executed as-is. Please report this to the AutgoGraph team. When filing the bug, set the verbosity to 10 (on Linux, `export AUTOGRAPH_VERBOSITY=10`) and attach the full output. Cause: converting <bound method Dropout.call of <tensorflow.python.layers.core.Dropout object at 0x1654cbe10>>: AssertionError: Bad argument number for Name: 3, expecting 4\n",
      "WARNING: Entity <bound method Dense.call of <tensorflow.python.layers.core.Dense object at 0x1654cbbe0>> could not be transformed and will be executed as-is. Please report this to the AutgoGraph team. When filing the bug, set the verbosity to 10 (on Linux, `export AUTOGRAPH_VERBOSITY=10`) and attach the full output. Cause: converting <bound method Dense.call of <tensorflow.python.layers.core.Dense object at 0x1654cbbe0>>: AssertionError: Bad argument number for Name: 3, expecting 4\n",
      "WARNING: Entity <bound method Dropout.call of <tensorflow.python.layers.core.Dropout object at 0x1654cbfd0>> could not be transformed and will be executed as-is. Please report this to the AutgoGraph team. When filing the bug, set the verbosity to 10 (on Linux, `export AUTOGRAPH_VERBOSITY=10`) and attach the full output. Cause: converting <bound method Dropout.call of <tensorflow.python.layers.core.Dropout object at 0x1654cbfd0>>: AssertionError: Bad argument number for Name: 3, expecting 4\n"
     ]
    },
    {
     "name": "stdout",
     "output_type": "stream",
     "text": [
      "WARNING: Entity <bound method Dense.call of <tensorflow.python.layers.core.Dense object at 0x1654d90f0>> could not be transformed and will be executed as-is. Please report this to the AutgoGraph team. When filing the bug, set the verbosity to 10 (on Linux, `export AUTOGRAPH_VERBOSITY=10`) and attach the full output. Cause: converting <bound method Dense.call of <tensorflow.python.layers.core.Dense object at 0x1654d90f0>>: AssertionError: Bad argument number for Name: 3, expecting 4\n",
      "Train Time (s): 59.94782495498657\n",
      "WARNING: Entity <bound method _DNNModel.call of <tensorflow_estimator.python.estimator.canned.dnn._DNNModel object at 0x165589f28>> could not be transformed and will be executed as-is. Please report this to the AutgoGraph team. When filing the bug, set the verbosity to 10 (on Linux, `export AUTOGRAPH_VERBOSITY=10`) and attach the full output. Cause: converting <bound method _DNNModel.call of <tensorflow_estimator.python.estimator.canned.dnn._DNNModel object at 0x165589f28>>: AttributeError: module 'gast' has no attribute 'Num'\n",
      "WARNING: Entity <bound method Dense.call of <tensorflow.python.layers.core.Dense object at 0x1662cde80>> could not be transformed and will be executed as-is. Please report this to the AutgoGraph team. When filing the bug, set the verbosity to 10 (on Linux, `export AUTOGRAPH_VERBOSITY=10`) and attach the full output. Cause: converting <bound method Dense.call of <tensorflow.python.layers.core.Dense object at 0x1662cde80>>: AssertionError: Bad argument number for Name: 3, expecting 4\n",
      "WARNING: Entity <bound method Dense.call of <tensorflow.python.layers.core.Dense object at 0x1662cddd8>> could not be transformed and will be executed as-is. Please report this to the AutgoGraph team. When filing the bug, set the verbosity to 10 (on Linux, `export AUTOGRAPH_VERBOSITY=10`) and attach the full output. Cause: converting <bound method Dense.call of <tensorflow.python.layers.core.Dense object at 0x1662cddd8>>: AssertionError: Bad argument number for Name: 3, expecting 4\n",
      "WARNING: Entity <bound method Dense.call of <tensorflow.python.layers.core.Dense object at 0x161e22320>> could not be transformed and will be executed as-is. Please report this to the AutgoGraph team. When filing the bug, set the verbosity to 10 (on Linux, `export AUTOGRAPH_VERBOSITY=10`) and attach the full output. Cause: converting <bound method Dense.call of <tensorflow.python.layers.core.Dense object at 0x161e22320>>: AssertionError: Bad argument number for Name: 3, expecting 4\n",
      "Eval Metrics (Train): {'accuracy': 0.9982051, 'accuracy_baseline': 0.86230767, 'auc': 0.99998474, 'auc_precision_recall': 0.9999052, 'average_loss': 0.006644411, 'label/mean': 0.1376923, 'loss': 0.8359097, 'precision': 0.9962547, 'prediction/mean': 0.13778745, 'recall': 0.99068904, 'global_step': 900}\n",
      "WARNING: Entity <bound method _DNNModel.call of <tensorflow_estimator.python.estimator.canned.dnn._DNNModel object at 0x16d3e8668>> could not be transformed and will be executed as-is. Please report this to the AutgoGraph team. When filing the bug, set the verbosity to 10 (on Linux, `export AUTOGRAPH_VERBOSITY=10`) and attach the full output. Cause: converting <bound method _DNNModel.call of <tensorflow_estimator.python.estimator.canned.dnn._DNNModel object at 0x16d3e8668>>: AttributeError: module 'gast' has no attribute 'Num'\n",
      "WARNING: Entity <bound method Dense.call of <tensorflow.python.layers.core.Dense object at 0x16d57e6d8>> could not be transformed and will be executed as-is. Please report this to the AutgoGraph team. When filing the bug, set the verbosity to 10 (on Linux, `export AUTOGRAPH_VERBOSITY=10`) and attach the full output. Cause: converting <bound method Dense.call of <tensorflow.python.layers.core.Dense object at 0x16d57e6d8>>: AssertionError: Bad argument number for Name: 3, expecting 4\n",
      "WARNING: Entity <bound method Dense.call of <tensorflow.python.layers.core.Dense object at 0x16d57e630>> could not be transformed and will be executed as-is. Please report this to the AutgoGraph team. When filing the bug, set the verbosity to 10 (on Linux, `export AUTOGRAPH_VERBOSITY=10`) and attach the full output. Cause: converting <bound method Dense.call of <tensorflow.python.layers.core.Dense object at 0x16d57e630>>: AssertionError: Bad argument number for Name: 3, expecting 4\n",
      "WARNING: Entity <bound method Dense.call of <tensorflow.python.layers.core.Dense object at 0x16d57eb38>> could not be transformed and will be executed as-is. Please report this to the AutgoGraph team. When filing the bug, set the verbosity to 10 (on Linux, `export AUTOGRAPH_VERBOSITY=10`) and attach the full output. Cause: converting <bound method Dense.call of <tensorflow.python.layers.core.Dense object at 0x16d57eb38>>: AssertionError: Bad argument number for Name: 3, expecting 4\n",
      "Eval Metrics (Validation): {'accuracy': 0.9820574, 'accuracy_baseline': 0.8744019, 'auc': 0.97810084, 'auc_precision_recall': 0.9661275, 'average_loss': 0.07138207, 'label/mean': 0.12559809, 'loss': 8.525059, 'precision': 0.94554454, 'prediction/mean': 0.12194768, 'recall': 0.9095238, 'global_step': 900}\n",
      "\n",
      "----------------------------------------------------------------------------------------------------\n",
      "Training for step: 900 - 1200\n",
      "WARNING: Entity <bound method _DNNModel.call of <tensorflow_estimator.python.estimator.canned.dnn._DNNModel object at 0x15e6039e8>> could not be transformed and will be executed as-is. Please report this to the AutgoGraph team. When filing the bug, set the verbosity to 10 (on Linux, `export AUTOGRAPH_VERBOSITY=10`) and attach the full output. Cause: converting <bound method _DNNModel.call of <tensorflow_estimator.python.estimator.canned.dnn._DNNModel object at 0x15e6039e8>>: AttributeError: module 'gast' has no attribute 'Num'\n",
      "WARNING: Entity <bound method Dense.call of <tensorflow.python.layers.core.Dense object at 0x15ff63ac8>> could not be transformed and will be executed as-is. Please report this to the AutgoGraph team. When filing the bug, set the verbosity to 10 (on Linux, `export AUTOGRAPH_VERBOSITY=10`) and attach the full output. Cause: converting <bound method Dense.call of <tensorflow.python.layers.core.Dense object at 0x15ff63ac8>>: AssertionError: Bad argument number for Name: 3, expecting 4\n",
      "WARNING: Entity <bound method Dropout.call of <tensorflow.python.layers.core.Dropout object at 0x15ff63c50>> could not be transformed and will be executed as-is. Please report this to the AutgoGraph team. When filing the bug, set the verbosity to 10 (on Linux, `export AUTOGRAPH_VERBOSITY=10`) and attach the full output. Cause: converting <bound method Dropout.call of <tensorflow.python.layers.core.Dropout object at 0x15ff63c50>>: AssertionError: Bad argument number for Name: 3, expecting 4\n",
      "WARNING: Entity <bound method Dense.call of <tensorflow.python.layers.core.Dense object at 0x15ff63a20>> could not be transformed and will be executed as-is. Please report this to the AutgoGraph team. When filing the bug, set the verbosity to 10 (on Linux, `export AUTOGRAPH_VERBOSITY=10`) and attach the full output. Cause: converting <bound method Dense.call of <tensorflow.python.layers.core.Dense object at 0x15ff63a20>>: AssertionError: Bad argument number for Name: 3, expecting 4\n",
      "WARNING: Entity <bound method Dropout.call of <tensorflow.python.layers.core.Dropout object at 0x15ff63e80>> could not be transformed and will be executed as-is. Please report this to the AutgoGraph team. When filing the bug, set the verbosity to 10 (on Linux, `export AUTOGRAPH_VERBOSITY=10`) and attach the full output. Cause: converting <bound method Dropout.call of <tensorflow.python.layers.core.Dropout object at 0x15ff63e80>>: AssertionError: Bad argument number for Name: 3, expecting 4\n",
      "WARNING: Entity <bound method Dense.call of <tensorflow.python.layers.core.Dense object at 0x15ff63f28>> could not be transformed and will be executed as-is. Please report this to the AutgoGraph team. When filing the bug, set the verbosity to 10 (on Linux, `export AUTOGRAPH_VERBOSITY=10`) and attach the full output. Cause: converting <bound method Dense.call of <tensorflow.python.layers.core.Dense object at 0x15ff63f28>>: AssertionError: Bad argument number for Name: 3, expecting 4\n"
     ]
    },
    {
     "name": "stdout",
     "output_type": "stream",
     "text": [
      "Train Time (s): 58.35684514045715\n",
      "WARNING: Entity <bound method _DNNModel.call of <tensorflow_estimator.python.estimator.canned.dnn._DNNModel object at 0x173a9df28>> could not be transformed and will be executed as-is. Please report this to the AutgoGraph team. When filing the bug, set the verbosity to 10 (on Linux, `export AUTOGRAPH_VERBOSITY=10`) and attach the full output. Cause: converting <bound method _DNNModel.call of <tensorflow_estimator.python.estimator.canned.dnn._DNNModel object at 0x173a9df28>>: AttributeError: module 'gast' has no attribute 'Num'\n",
      "WARNING: Entity <bound method Dense.call of <tensorflow.python.layers.core.Dense object at 0x1695cc3c8>> could not be transformed and will be executed as-is. Please report this to the AutgoGraph team. When filing the bug, set the verbosity to 10 (on Linux, `export AUTOGRAPH_VERBOSITY=10`) and attach the full output. Cause: converting <bound method Dense.call of <tensorflow.python.layers.core.Dense object at 0x1695cc3c8>>: AssertionError: Bad argument number for Name: 3, expecting 4\n",
      "WARNING: Entity <bound method Dense.call of <tensorflow.python.layers.core.Dense object at 0x1695cc320>> could not be transformed and will be executed as-is. Please report this to the AutgoGraph team. When filing the bug, set the verbosity to 10 (on Linux, `export AUTOGRAPH_VERBOSITY=10`) and attach the full output. Cause: converting <bound method Dense.call of <tensorflow.python.layers.core.Dense object at 0x1695cc320>>: AssertionError: Bad argument number for Name: 3, expecting 4\n",
      "WARNING: Entity <bound method Dense.call of <tensorflow.python.layers.core.Dense object at 0x1695cc828>> could not be transformed and will be executed as-is. Please report this to the AutgoGraph team. When filing the bug, set the verbosity to 10 (on Linux, `export AUTOGRAPH_VERBOSITY=10`) and attach the full output. Cause: converting <bound method Dense.call of <tensorflow.python.layers.core.Dense object at 0x1695cc828>>: AssertionError: Bad argument number for Name: 3, expecting 4\n",
      "Eval Metrics (Train): {'accuracy': 0.9997436, 'accuracy_baseline': 0.86230767, 'auc': 0.99999726, 'auc_precision_recall': 0.9999826, 'average_loss': 0.0037778446, 'label/mean': 0.1376923, 'loss': 0.47527722, 'precision': 0.9981413, 'prediction/mean': 0.13763918, 'recall': 1.0, 'global_step': 1200}\n",
      "WARNING: Entity <bound method _DNNModel.call of <tensorflow_estimator.python.estimator.canned.dnn._DNNModel object at 0x1712f7470>> could not be transformed and will be executed as-is. Please report this to the AutgoGraph team. When filing the bug, set the verbosity to 10 (on Linux, `export AUTOGRAPH_VERBOSITY=10`) and attach the full output. Cause: converting <bound method _DNNModel.call of <tensorflow_estimator.python.estimator.canned.dnn._DNNModel object at 0x1712f7470>>: AttributeError: module 'gast' has no attribute 'Num'\n",
      "WARNING: Entity <bound method Dense.call of <tensorflow.python.layers.core.Dense object at 0x17148e518>> could not be transformed and will be executed as-is. Please report this to the AutgoGraph team. When filing the bug, set the verbosity to 10 (on Linux, `export AUTOGRAPH_VERBOSITY=10`) and attach the full output. Cause: converting <bound method Dense.call of <tensorflow.python.layers.core.Dense object at 0x17148e518>>: AssertionError: Bad argument number for Name: 3, expecting 4\n",
      "WARNING: Entity <bound method Dense.call of <tensorflow.python.layers.core.Dense object at 0x17148e470>> could not be transformed and will be executed as-is. Please report this to the AutgoGraph team. When filing the bug, set the verbosity to 10 (on Linux, `export AUTOGRAPH_VERBOSITY=10`) and attach the full output. Cause: converting <bound method Dense.call of <tensorflow.python.layers.core.Dense object at 0x17148e470>>: AssertionError: Bad argument number for Name: 3, expecting 4\n",
      "WARNING: Entity <bound method Dense.call of <tensorflow.python.layers.core.Dense object at 0x17148e978>> could not be transformed and will be executed as-is. Please report this to the AutgoGraph team. When filing the bug, set the verbosity to 10 (on Linux, `export AUTOGRAPH_VERBOSITY=10`) and attach the full output. Cause: converting <bound method Dense.call of <tensorflow.python.layers.core.Dense object at 0x17148e978>>: AssertionError: Bad argument number for Name: 3, expecting 4\n",
      "Eval Metrics (Validation): {'accuracy': 0.9820574, 'accuracy_baseline': 0.8744019, 'auc': 0.97613335, 'auc_precision_recall': 0.9660038, 'average_loss': 0.07797057, 'label/mean': 0.12559809, 'loss': 9.3119135, 'precision': 0.94554454, 'prediction/mean': 0.12163948, 'recall': 0.9095238, 'global_step': 1200}\n"
     ]
    }
   ],
   "source": [
    "tf.logging.set_verbosity(tf.logging.ERROR)\n",
    "import time\n",
    "\n",
    "TOTAL_STEPS = 1200\n",
    "STEP_SIZE = 300\n",
    "for step in range(0, TOTAL_STEPS, STEP_SIZE):\n",
    "    print()\n",
    "    print('-'*100)\n",
    "    print('Training for step:', step, '-', step+STEP_SIZE)\n",
    "    start_time = time.time()\n",
    "    dnn.train(input_fn=train_input_fn, steps=STEP_SIZE)\n",
    "    elapsed_time = time.time() - start_time\n",
    "    print('Train Time (s):', elapsed_time)\n",
    "    print('Eval Metrics (Train):', dnn.evaluate(input_fn=predict_train_input_fn))\n",
    "    print('Eval Metrics (Validation):', dnn.evaluate(input_fn=predict_val_input_fn))"
   ]
  },
  {
   "cell_type": "code",
   "execution_count": 85,
   "metadata": {},
   "outputs": [
    {
     "name": "stdout",
     "output_type": "stream",
     "text": [
      "WARNING: Entity <bound method _DNNModel.call of <tensorflow_estimator.python.estimator.canned.dnn._DNNModel object at 0x1478bc898>> could not be transformed and will be executed as-is. Please report this to the AutgoGraph team. When filing the bug, set the verbosity to 10 (on Linux, `export AUTOGRAPH_VERBOSITY=10`) and attach the full output. Cause: converting <bound method _DNNModel.call of <tensorflow_estimator.python.estimator.canned.dnn._DNNModel object at 0x1478bc898>>: AttributeError: module 'gast' has no attribute 'Num'\n",
      "WARNING: Entity <bound method Dense.call of <tensorflow.python.layers.core.Dense object at 0x17afb3198>> could not be transformed and will be executed as-is. Please report this to the AutgoGraph team. When filing the bug, set the verbosity to 10 (on Linux, `export AUTOGRAPH_VERBOSITY=10`) and attach the full output. Cause: converting <bound method Dense.call of <tensorflow.python.layers.core.Dense object at 0x17afb3198>>: AssertionError: Bad argument number for Name: 3, expecting 4\n",
      "WARNING: Entity <bound method Dense.call of <tensorflow.python.layers.core.Dense object at 0x17afb3550>> could not be transformed and will be executed as-is. Please report this to the AutgoGraph team. When filing the bug, set the verbosity to 10 (on Linux, `export AUTOGRAPH_VERBOSITY=10`) and attach the full output. Cause: converting <bound method Dense.call of <tensorflow.python.layers.core.Dense object at 0x17afb3550>>: AssertionError: Bad argument number for Name: 3, expecting 4\n",
      "WARNING: Entity <bound method Dense.call of <tensorflow.python.layers.core.Dense object at 0x17afb3f60>> could not be transformed and will be executed as-is. Please report this to the AutgoGraph team. When filing the bug, set the verbosity to 10 (on Linux, `export AUTOGRAPH_VERBOSITY=10`) and attach the full output. Cause: converting <bound method Dense.call of <tensorflow.python.layers.core.Dense object at 0x17afb3f60>>: AssertionError: Bad argument number for Name: 3, expecting 4\n"
     ]
    },
    {
     "data": {
      "text/plain": [
       "{'accuracy': 0.9997436,\n",
       " 'accuracy_baseline': 0.86230767,\n",
       " 'auc': 0.99999726,\n",
       " 'auc_precision_recall': 0.9999826,\n",
       " 'average_loss': 0.0037778446,\n",
       " 'label/mean': 0.1376923,\n",
       " 'loss': 0.47527722,\n",
       " 'precision': 0.9981413,\n",
       " 'prediction/mean': 0.13763918,\n",
       " 'recall': 1.0,\n",
       " 'global_step': 1200}"
      ]
     },
     "execution_count": 85,
     "metadata": {},
     "output_type": "execute_result"
    }
   ],
   "source": [
    "dnn.evaluate(input_fn=predict_train_input_fn)"
   ]
  },
  {
   "cell_type": "code",
   "execution_count": 102,
   "metadata": {},
   "outputs": [
    {
     "name": "stdout",
     "output_type": "stream",
     "text": [
      "WARNING: Entity <bound method _DNNModel.call of <tensorflow_estimator.python.estimator.canned.dnn._DNNModel object at 0x15fe35240>> could not be transformed and will be executed as-is. Please report this to the AutgoGraph team. When filing the bug, set the verbosity to 10 (on Linux, `export AUTOGRAPH_VERBOSITY=10`) and attach the full output. Cause: converting <bound method _DNNModel.call of <tensorflow_estimator.python.estimator.canned.dnn._DNNModel object at 0x15fe35240>>: AttributeError: module 'gast' has no attribute 'Num'\n",
      "WARNING: Entity <bound method Dense.call of <tensorflow.python.layers.core.Dense object at 0x15e5b0ef0>> could not be transformed and will be executed as-is. Please report this to the AutgoGraph team. When filing the bug, set the verbosity to 10 (on Linux, `export AUTOGRAPH_VERBOSITY=10`) and attach the full output. Cause: converting <bound method Dense.call of <tensorflow.python.layers.core.Dense object at 0x15e5b0ef0>>: AssertionError: Bad argument number for Name: 3, expecting 4\n",
      "WARNING: Entity <bound method Dense.call of <tensorflow.python.layers.core.Dense object at 0x15e5b0a20>> could not be transformed and will be executed as-is. Please report this to the AutgoGraph team. When filing the bug, set the verbosity to 10 (on Linux, `export AUTOGRAPH_VERBOSITY=10`) and attach the full output. Cause: converting <bound method Dense.call of <tensorflow.python.layers.core.Dense object at 0x15e5b0a20>>: AssertionError: Bad argument number for Name: 3, expecting 4\n",
      "WARNING: Entity <bound method Dense.call of <tensorflow.python.layers.core.Dense object at 0x15e5b0b70>> could not be transformed and will be executed as-is. Please report this to the AutgoGraph team. When filing the bug, set the verbosity to 10 (on Linux, `export AUTOGRAPH_VERBOSITY=10`) and attach the full output. Cause: converting <bound method Dense.call of <tensorflow.python.layers.core.Dense object at 0x15e5b0b70>>: AssertionError: Bad argument number for Name: 3, expecting 4\n"
     ]
    }
   ],
   "source": [
    "transfer_predict = list(dnn.predict(input_fn=predict_test_input_fn))"
   ]
  },
  {
   "cell_type": "code",
   "execution_count": 91,
   "metadata": {
    "scrolled": true
   },
   "outputs": [
    {
     "data": {
      "text/plain": [
       "list"
      ]
     },
     "execution_count": 91,
     "metadata": {},
     "output_type": "execute_result"
    }
   ],
   "source": [
    "type(a)"
   ]
  },
  {
   "cell_type": "code",
   "execution_count": 103,
   "metadata": {},
   "outputs": [],
   "source": [
    "pred=[]\n",
    "for i in transfer_predict:\n",
    "    pred.append(np.argmax(i[\"probabilities\"]))"
   ]
  },
  {
   "cell_type": "code",
   "execution_count": 104,
   "metadata": {
    "scrolled": true
   },
   "outputs": [
    {
     "name": "stdout",
     "output_type": "stream",
     "text": [
      "              precision    recall  f1-score   support\n",
      "\n",
      "           0       0.99      0.99      0.99      1462\n",
      "           1       0.95      0.91      0.93       210\n",
      "\n",
      "    accuracy                           0.98      1672\n",
      "   macro avg       0.97      0.95      0.96      1672\n",
      "weighted avg       0.98      0.98      0.98      1672\n",
      "\n"
     ]
    },
    {
     "data": {
      "text/html": [
       "<div>\n",
       "<style scoped>\n",
       "    .dataframe tbody tr th:only-of-type {\n",
       "        vertical-align: middle;\n",
       "    }\n",
       "\n",
       "    .dataframe tbody tr th {\n",
       "        vertical-align: top;\n",
       "    }\n",
       "\n",
       "    .dataframe thead th {\n",
       "        text-align: right;\n",
       "    }\n",
       "</style>\n",
       "<table border=\"1\" class=\"dataframe\">\n",
       "  <thead>\n",
       "    <tr style=\"text-align: right;\">\n",
       "      <th></th>\n",
       "      <th>spam</th>\n",
       "      <th>ham</th>\n",
       "    </tr>\n",
       "  </thead>\n",
       "  <tbody>\n",
       "    <tr>\n",
       "      <th>spam</th>\n",
       "      <td>1451</td>\n",
       "      <td>11</td>\n",
       "    </tr>\n",
       "    <tr>\n",
       "      <th>ham</th>\n",
       "      <td>19</td>\n",
       "      <td>191</td>\n",
       "    </tr>\n",
       "  </tbody>\n",
       "</table>\n",
       "</div>"
      ],
      "text/plain": [
       "      spam  ham\n",
       "spam  1451   11\n",
       "ham     19  191"
      ]
     },
     "execution_count": 104,
     "metadata": {},
     "output_type": "execute_result"
    }
   ],
   "source": [
    "labels = ['spam', 'ham']\n",
    "from sklearn.metrics import classification_report, confusion_matrix\n",
    "print(classification_report(test_y, pred))\n",
    "pd.DataFrame(confusion_matrix(test_y, pred), index=labels, columns=labels)"
   ]
  },
  {
   "cell_type": "code",
   "execution_count": 113,
   "metadata": {},
   "outputs": [],
   "source": [
    "import time\n",
    "\n",
    "TOTAL_STEPS = 1200\n",
    "STEP_SIZE = 400\n",
    "\n",
    "my_checkpointing_config = tf.estimator.RunConfig(\n",
    "    keep_checkpoint_max = 1,       # Retain the 2 most recent checkpoints.\n",
    ")\n",
    "\n",
    "def train_and_evaluate_with_sentence_encoder(hub_module, train_module=False, path=''):\n",
    "    embedding_feature = hub.text_embedding_column(\n",
    "        key='sentence', module_spec=hub_module, trainable=train_module)\n",
    "  \n",
    "    print()\n",
    "    print('='*100)\n",
    "    print('Training with', hub_module)\n",
    "    print('Trainable is:', train_module)\n",
    "    print('='*100)\n",
    "  \n",
    "    dnn = tf.estimator.DNNClassifier(\n",
    "            hidden_units=[512, 128],\n",
    "            feature_columns=[embedding_feature],\n",
    "            n_classes=2,\n",
    "            activation_fn=tf.nn.relu,\n",
    "            dropout=0.1,\n",
    "            optimizer=tf.train.AdagradOptimizer(learning_rate=0.005),\n",
    "            model_dir=path,\n",
    "            config=my_checkpointing_config)\n",
    "\n",
    "    for step in range(0, TOTAL_STEPS, STEP_SIZE):\n",
    "        print('-'*100)\n",
    "        print('Training for step:', step, '-', step+STEP_SIZE)\n",
    "        start_time = time.time()\n",
    "        dnn.train(input_fn=train_input_fn, steps=STEP_SIZE)\n",
    "        elapsed_time = time.time() - start_time\n",
    "        print('Train Time (s):', elapsed_time)\n",
    "        print('Eval Metrics (Train):', dnn.evaluate(input_fn=predict_train_input_fn))\n",
    "        print('Eval Metrics (Validation):', dnn.evaluate(input_fn=predict_val_input_fn))\n",
    "\n",
    "    train_eval_result = dnn.evaluate(input_fn=predict_train_input_fn)\n",
    "    test_eval_result = dnn.evaluate(input_fn=predict_test_input_fn)\n",
    "    transfer_predict = list(dnn.predict(input_fn=predict_test_input_fn))\n",
    "    pred=[]\n",
    "    for i in transfer_predict:\n",
    "        pred.append(np.argmax(i[\"probabilities\"]))\n",
    "        \n",
    "    labels = ['spam', 'ham']\n",
    "    print(classification_report(test_y, pred))\n",
    "    pd.DataFrame(confusion_matrix(test_y, pred), index=labels, columns=labels)\n",
    "    wrong = wrong_prediction(confusion_matrix(test_y, pred))\n",
    "    return {\n",
    "      \"Model Dir\": dnn.model_dir,\n",
    "      \"Training Accuracy\": train_eval_result[\"accuracy\"],\n",
    "      \"Test Accuracy\": test_eval_result[\"accuracy\"],\n",
    "      \"Training AUC\": train_eval_result[\"auc\"],\n",
    "      \"Test AUC\": test_eval_result[\"auc\"],\n",
    "      \"Training Precision\": train_eval_result[\"precision\"],\n",
    "      \"Test Precision\": test_eval_result[\"precision\"],\n",
    "      \"Training Recall\": train_eval_result[\"recall\"],\n",
    "      \"Test Recall\": test_eval_result[\"recall\"],\n",
    "      \"Wrong Prediction\" : wrong\n",
    "    }"
   ]
  },
  {
   "cell_type": "markdown",
   "metadata": {},
   "source": [
    "# Train Deep Learning Models on difference Sentence Encoders\n"
   ]
  },
  {
   "cell_type": "markdown",
   "metadata": {},
   "source": [
    "# Note : Below code was ran in Tensorflow 2.0 Version\n",
    "# used google colaboratory platform to run using GPU "
   ]
  },
  {
   "cell_type": "markdown",
   "metadata": {
    "colab_type": "text",
    "id": "ItXfxkxvosLH"
   },
   "source": [
    "# TF Hub for TF2: Spam Detection"
   ]
  },
  {
   "cell_type": "markdown",
   "metadata": {
    "colab_type": "text",
    "id": "hKY4XMc9o8iB"
   },
   "source": [
    "<table class=\"tfo-notebook-buttons\" align=\"left\">\n",
    "  <td>\n",
    "    <a target=\"_blank\" href=\"https://colab.research.google.com/gist/nursnaaz/39275b71e807fa3ab252f7e173507610/transfer-learning-spam-classification.ipynb\"><img src=\"https://www.tensorflow.org/images/colab_logo_32px.png\" />Run in Google Colab</a>\n",
    "  </td>\n",
    "  <td>\n",
    "    <a target=\"_blank\" href=\"https://github.com/nursnaaz/Deeplearning-and-NLP/blob/master/06%2520-%2520NLP%2520Applications/06%2520-%2520Text%2520Classification/Transfer_Learning_Spam_classification.ipynb\"><img src=\"https://www.tensorflow.org/images/GitHub-Mark-32px.png\" />View source on GitHub</a>\n",
    "  </td>\n",
    "</table>"
   ]
  },
  {
   "cell_type": "code",
   "execution_count": 0,
   "metadata": {
    "colab": {},
    "colab_type": "code",
    "id": "qqb0PzPs0Imt"
   },
   "outputs": [],
   "source": [
    "!pip uninstall -y tf-nightly tensorflow\n",
    "!pip install tf-nightly-2.0-preview --quiet\n",
    "!pip install \"tensorflow-hub>=0.3\""
   ]
  },
  {
   "cell_type": "code",
   "execution_count": 0,
   "metadata": {
    "colab": {},
    "colab_type": "code",
    "id": "2ew7HTbPpCJH"
   },
   "outputs": [],
   "source": [
    "from __future__ import absolute_import, division, print_function\n",
    "\n",
    "import numpy as np\n",
    "\n",
    "import tensorflow as tf\n",
    "import tensorflow_hub as hub\n",
    "import tensorflow_datasets as tfds\n",
    "\n",
    "import matplotlib.pyplot as plt\n",
    "\n",
    "print(\"Version: \", tf.__version__)\n",
    "print(\"Eager mode: \", tf.executing_eagerly())\n",
    "print(\"Hub version: \", hub.__version__)\n",
    "print(\"GPU is\", \"available\" if tf.test.is_gpu_available() else \"NOT AVAILABLE\")"
   ]
  },
  {
   "cell_type": "markdown",
   "metadata": {
    "colab_type": "text",
    "id": "LLC02j2g-llC"
   },
   "source": [
    "## Build the model\n",
    "\n",
    "The neural network is created by stacking layers—this requires three main architectural decisions:\n",
    "\n",
    "* How to represent the text?\n",
    "* How many layers to use in the model?\n",
    "* How many *hidden units* to use for each layer?\n",
    "\n",
    "In this example, the input data consists of sentences. The labels to predict are either 0 or 1.\n",
    "\n",
    "One way to represent the text is to convert sentences into embeddings vectors. We can use a pre-trained text embedding as the first layer, which will have two advantages:\n",
    "*   we don't have to worry anout text preprocessing,\n",
    "*   we can benefit from transfer learning.\n",
    "\n",
    "For this example we will use a model from [TensorFlow Hub](https://www.tensorflow.org/hub) called [google/tf2-preview/gnews-swivel-20dim/1](https://tfhub.dev/google/tf2-preview/gnews-swivel-20dim/1).\n",
    "\n",
    "There are three other models to test for the sake of this tutorial:\n",
    "* [google/tf2-preview/gnews-swivel-20dim-with-oov/1](https://tfhub.dev/google/tf2-preview/gnews-swivel-20dim-with-oov/1) - same as [google/tf2-preview/gnews-swivel-20dim/1](https://tfhub.dev/google/tf2-preview/gnews-swivel-20dim/1), but with 2.5% vocabulary converted to OOV buckets. This can help if vocabulary of the task and vocabulary of the model don't fully overlap.\n",
    "* [google/tf2-preview/nnlm-en-dim50/1](https://tfhub.dev/google/tf2-preview/nnlm-en-dim50/1) - A much larger model with ~1M vocabulary size and 50 dimensions.\n",
    "* [google/tf2-preview/nnlm-en-dim128/1](https://tfhub.dev/google/tf2-preview/nnlm-en-dim128/1) - Even larger model with ~1M vocabulary size and 128 dimensions."
   ]
  },
  {
   "cell_type": "markdown",
   "metadata": {
    "colab_type": "text",
    "id": "In2nDpTLkgKa"
   },
   "source": [
    "Let's first create a Keras layer that uses a TensorFlow Hub model to embed the sentences, and try it out on a couple of input examples. Note that the output shape of the produced embeddings is a expected: `(num_examples, embedding_dimension)`."
   ]
  },
  {
   "cell_type": "code",
   "execution_count": 0,
   "metadata": {
    "colab": {},
    "colab_type": "code",
    "id": "_NUbzVeYkgcO"
   },
   "outputs": [],
   "source": [
    "model = \"https://tfhub.dev/google/tf2-preview/nnlm-en-dim128/1\"\n",
    "hub_layer = hub.KerasLayer(model, output_shape=[128], input_shape=[], \n",
    "                           dtype=tf.string, trainable=True)\n",
    "hub_layer(train_X[:3])"
   ]
  },
  {
   "cell_type": "markdown",
   "metadata": {
    "colab_type": "text",
    "id": "dfSbV6igl1EH"
   },
   "source": [
    "Let's now build the full model:"
   ]
  },
  {
   "cell_type": "code",
   "execution_count": 0,
   "metadata": {
    "colab": {},
    "colab_type": "code",
    "id": "xpKOoWgu-llD"
   },
   "outputs": [],
   "source": [
    "model = tf.keras.Sequential()\n",
    "model.add(hub_layer)\n",
    "model.add(tf.keras.layers.Dense(16, activation='elu'))\n",
    "model.add(tf.keras.layers.BatchNormalization())\n",
    "model.add(tf.keras.layers.Dropout(0.4))\n",
    "model.add(tf.keras.layers.Dense(1, activation='sigmoid'))\n",
    "\n",
    "model.summary()"
   ]
  },
  {
   "cell_type": "markdown",
   "metadata": {
    "colab_type": "text",
    "id": "6PbKQ6mucuKL"
   },
   "source": [
    "The layers are stacked sequentially to build the classifier:\n",
    "\n",
    "1. The first layer is a TensorFlow Hub layer. This layer uses a pre-trained Saved Model to map a sentence into its embedding vector. The model that we are using ([google/tf2-preview/gnews-swivel-20dim/1](https://tfhub.dev/google/tf2-preview/gnews-swivel-20dim/1)) splits the sentence into tokens, embeds each token and then combines the embedding. The resulting dimensions are: `(num_examples, embedding_dimension)`.\n",
    "2. This fixed-length output vector is piped through a fully-connected (`Dense`) layer with 16 hidden units.\n",
    "3. The last layer is densely connected with a single output node. Using the `sigmoid` activation function, this value is a float between 0 and 1, representing a probability, or confidence level."
   ]
  },
  {
   "cell_type": "markdown",
   "metadata": {
    "colab_type": "text",
    "id": "0XMwnDOp-llH"
   },
   "source": [
    "### Hidden units\n",
    "\n",
    "The above model has two intermediate or \"hidden\" layers, between the input and output. The number of outputs (units, nodes, or neurons) is the dimension of the representational space for the layer. In other words, the amount of freedom the network is allowed when learning an internal representation.\n",
    "\n",
    "If a model has more hidden units (a higher-dimensional representation space), and/or more layers, then the network can learn more complex representations. However, it makes the network more computationally expensive and may lead to learning unwanted patterns—patterns that improve performance on training data but not on the test data. This is called *overfitting*, and we'll explore it later."
   ]
  },
  {
   "cell_type": "markdown",
   "metadata": {
    "colab_type": "text",
    "id": "L4EqVWg4-llM"
   },
   "source": [
    "### Loss function and optimizer\n",
    "\n",
    "A model needs a loss function and an optimizer for training. Since this is a binary classification problem and the model outputs a probability (a single-unit layer with a sigmoid activation), we'll use the `binary_crossentropy` loss function. \n",
    "\n",
    "This isn't the only choice for a loss function, you could, for instance, choose `mean_squared_error`. But, generally, `binary_crossentropy` is better for dealing with probabilities—it measures the \"distance\" between probability distributions, or in our case, between the ground-truth distribution and the predictions.\n",
    "\n",
    "Later, when we are exploring regression problems (say, to predict the price of a house), we will see how to use another loss function called mean squared error.\n",
    "\n",
    "Now, configure the model to use an optimizer and a loss function:"
   ]
  },
  {
   "cell_type": "code",
   "execution_count": 0,
   "metadata": {
    "colab": {},
    "colab_type": "code",
    "id": "Mr0GP-cQ-llN"
   },
   "outputs": [],
   "source": [
    "model.compile(optimizer='adam',\n",
    "              loss='binary_crossentropy',\n",
    "              metrics=['accuracy'])"
   ]
  },
  {
   "cell_type": "markdown",
   "metadata": {
    "colab_type": "text",
    "id": "35jv_fzP-llU"
   },
   "source": [
    "## Train the model\n",
    "\n",
    "Train the model for 40 epochs in mini-batches of 512 samples. This is 40 iterations over all samples in the `x_train` and `y_train` tensors. While training, monitor the model's loss and accuracy on the 10,000 samples from the validation set:"
   ]
  },
  {
   "cell_type": "code",
   "execution_count": 0,
   "metadata": {
    "colab": {},
    "colab_type": "code",
    "id": "tXSGrjWZ-llW"
   },
   "outputs": [],
   "source": [
    "history = model.fit(np.array(train_X),\n",
    "                    np.array(train_y),\n",
    "                    epochs=40,\n",
    "                    batch_size=512,\n",
    "                    validation_data=(test_X, test_y),\n",
    "                    verbose=1)"
   ]
  },
  {
   "cell_type": "markdown",
   "metadata": {
    "colab_type": "text",
    "id": "9EEGuDVuzb5r"
   },
   "source": [
    "## Evaluate the model\n",
    "\n",
    "And let's see how the model performs. Two values will be returned. Loss (a number which represents our error, lower values are better), and accuracy."
   ]
  },
  {
   "cell_type": "code",
   "execution_count": 0,
   "metadata": {
    "colab": {},
    "colab_type": "code",
    "id": "zOMKywn4zReN"
   },
   "outputs": [],
   "source": [
    "results = model.evaluate(test_X, test_y)\n",
    "\n",
    "print(results)"
   ]
  },
  {
   "cell_type": "code",
   "execution_count": 0,
   "metadata": {
    "colab": {},
    "colab_type": "code",
    "id": "rKkLE-7WzWQw"
   },
   "outputs": [],
   "source": [
    "results = model.predict(test_X)\n"
   ]
  },
  {
   "cell_type": "code",
   "execution_count": 0,
   "metadata": {
    "colab": {},
    "colab_type": "code",
    "id": "Oriv8aVWzatb"
   },
   "outputs": [],
   "source": [
    "pred = np.where(results>0.499,1,0)"
   ]
  },
  {
   "cell_type": "code",
   "execution_count": 0,
   "metadata": {
    "colab": {},
    "colab_type": "code",
    "id": "clqRGEQlztDe"
   },
   "outputs": [],
   "source": [
    "from sklearn.metrics import confusion_matrix\n",
    "confusion_matrix(test_y,pred)"
   ]
  },
  {
   "cell_type": "markdown",
   "metadata": {
    "colab_type": "text",
    "id": "z1iEXVTR0Z2t"
   },
   "source": [
    "This fairly naive approach achieves an accuracy of about 87%. With more advanced approaches, the model should get closer to 95%."
   ]
  },
  {
   "cell_type": "markdown",
   "metadata": {
    "colab_type": "text",
    "id": "5KggXVeL-llZ"
   },
   "source": [
    "## Create a graph of accuracy and loss over time\n",
    "\n",
    "`model.fit()` returns a `History` object that contains a dictionary with everything that happened during training:"
   ]
  },
  {
   "cell_type": "code",
   "execution_count": 0,
   "metadata": {
    "colab": {},
    "colab_type": "code",
    "id": "VcvSXvhp-llb"
   },
   "outputs": [],
   "source": [
    "history_dict = history.history\n",
    "history_dict.keys()"
   ]
  },
  {
   "cell_type": "markdown",
   "metadata": {
    "colab_type": "text",
    "id": "nRKsqL40-lle"
   },
   "source": [
    "There are four entries: one for each monitored metric during training and validation. We can use these to plot the training and validation loss for comparison, as well as the training and validation accuracy:"
   ]
  },
  {
   "cell_type": "code",
   "execution_count": 0,
   "metadata": {
    "colab": {},
    "colab_type": "code",
    "id": "nGoYf2Js-lle"
   },
   "outputs": [],
   "source": [
    "acc = history_dict['accuracy']\n",
    "val_acc = history_dict['val_accuracy']\n",
    "loss = history_dict['loss']\n",
    "val_loss = history_dict['val_loss']\n",
    "\n",
    "epochs = range(1, len(acc) + 1)\n",
    "\n",
    "# \"bo\" is for \"blue dot\"\n",
    "plt.plot(epochs, loss, 'bo', label='Training loss')\n",
    "# b is for \"solid blue line\"\n",
    "plt.plot(epochs, val_loss, 'b', label='Validation loss')\n",
    "plt.title('Training and validation loss')\n",
    "plt.xlabel('Epochs')\n",
    "plt.ylabel('Loss')\n",
    "plt.legend()\n",
    "\n",
    "plt.show()"
   ]
  },
  {
   "cell_type": "code",
   "execution_count": 0,
   "metadata": {
    "colab": {},
    "colab_type": "code",
    "id": "6hXx-xOv-llh"
   },
   "outputs": [],
   "source": [
    "plt.clf()   # clear figure\n",
    "\n",
    "plt.plot(epochs, acc, 'bo', label='Training acc')\n",
    "plt.plot(epochs, val_acc, 'b', label='Validation acc')\n",
    "plt.title('Training and validation accuracy')\n",
    "plt.xlabel('Epochs')\n",
    "plt.ylabel('Accuracy')\n",
    "plt.legend()\n",
    "\n",
    "plt.show()"
   ]
  },
  {
   "cell_type": "markdown",
   "metadata": {
    "colab_type": "text",
    "id": "oFEmZ5zq-llk"
   },
   "source": [
    "\n",
    "In this plot, the dots represent the training loss and accuracy, and the solid lines are the validation loss and accuracy.\n",
    "\n",
    "Notice the training loss *decreases* with each epoch and the training accuracy *increases* with each epoch. This is expected when using a gradient descent optimization—it should minimize the desired quantity on every iteration.\n",
    "\n",
    "This isn't the case for the validation loss and accuracy—they seem to peak after about twenty epochs. This is an example of overfitting: the model performs better on the training data than it does on data it has never seen before. After this point, the model over-optimizes and learns representations *specific* to the training data that do not *generalize* to test data.\n",
    "\n",
    "For this particular case, we could prevent overfitting by simply stopping the training after twenty or so epochs. Later, you'll see how to do this automatically with a callback."
   ]
  },
  {
   "cell_type": "code",
   "execution_count": 0,
   "metadata": {
    "colab": {},
    "colab_type": "code",
    "id": "FGITaOsH599D"
   },
   "outputs": [],
   "source": [
    "# Training input on the whole training set with no limit on training epochs.\n",
    "train_input_fn = tf.compat.v1.estimator.inputs.numpy_input_fn(\n",
    "    {'sentence': train_X}, train_y, \n",
    "    batch_size=256, num_epochs=None, shuffle=True)\n",
    "\n",
    "# Prediction on the whole training set.\n",
    "predict_train_input_fn = tf.compat.v1.estimator.inputs.numpy_input_fn(\n",
    "    {'sentence': train_X}, train_y, shuffle=False)\n",
    "\n",
    "# Prediction on the whole validation set.\n",
    "predict_val_input_fn = tf.compat.v1.estimator.inputs.numpy_input_fn(\n",
    "    {'sentence': test_X}, test_y, shuffle=False)\n",
    "\n",
    "# Prediction on the test set.\n",
    "predict_test_input_fn = tf.compat.v1.estimator.inputs.numpy_input_fn(\n",
    "    {'sentence': test_X}, test_y, shuffle=False)"
   ]
  },
  {
   "cell_type": "code",
   "execution_count": 0,
   "metadata": {
    "colab": {},
    "colab_type": "code",
    "id": "07fNw9-B2_EL"
   },
   "outputs": [],
   "source": [
    "result_data = dict()\n",
    "\n",
    "def wrong_prediction(conf):\n",
    "    return conf[0][1] + conf[1][0]\n"
   ]
  },
  {
   "cell_type": "code",
   "execution_count": 0,
   "metadata": {
    "colab": {},
    "colab_type": "code",
    "id": "aELJyFgT25GX"
   },
   "outputs": [],
   "source": [
    "import time\n",
    "\n",
    "TOTAL_STEPS = 1200\n",
    "STEP_SIZE = 1200\n",
    "\n",
    "my_checkpointing_config = tf.estimator.RunConfig(\n",
    "    keep_checkpoint_max = 1,       # Retain the 2 most recent checkpoints.\n",
    ")\n",
    "\n",
    "def train_and_evaluate_with_sentence_encoder(hub_module, train_module=False, path=''):\n",
    "    embedding_feature = hub.text_embedding_column(\n",
    "        key='sentence', module_spec=hub_module, trainable=train_module)\n",
    "  \n",
    "    print()\n",
    "    print('='*100)\n",
    "    print('Training with', hub_module)\n",
    "    print('Trainable is:', train_module)\n",
    "    print('='*100)\n",
    "  \n",
    "    dnn = tf.estimator.DNNClassifier(\n",
    "            hidden_units=[512, 128],\n",
    "            feature_columns=[embedding_feature],\n",
    "            n_classes=2,\n",
    "            activation_fn=tf.nn.relu,\n",
    "            dropout=0.1,\n",
    "            optimizer=tf.optimizers.Adam(learning_rate=0.005),\n",
    "            model_dir=path,\n",
    "            config=my_checkpointing_config)\n",
    "\n",
    "    for step in range(0, TOTAL_STEPS, STEP_SIZE):\n",
    "        print('-'*100)\n",
    "        print('Training for step:', step, '-', step+STEP_SIZE)\n",
    "        start_time = time.time()\n",
    "        dnn.train(input_fn=train_input_fn, steps=STEP_SIZE)\n",
    "        elapsed_time = time.time() - start_time\n",
    "        print('Train Time (s):', elapsed_time)\n",
    "        print('Eval Metrics (Train):', dnn.evaluate(input_fn=predict_train_input_fn))\n",
    "        print('Eval Metrics (Validation):', dnn.evaluate(input_fn=predict_val_input_fn))\n",
    "\n",
    "    train_eval_result = dnn.evaluate(input_fn=predict_train_input_fn)\n",
    "    test_eval_result = dnn.evaluate(input_fn=predict_test_input_fn)\n",
    "    transfer_predict = list(dnn.predict(input_fn=predict_test_input_fn))\n",
    "    pred=[]\n",
    "    for i in transfer_predict:\n",
    "        pred.append(np.argmax(i[\"probabilities\"]))\n",
    "        \n",
    "    labels = ['spam', 'ham']\n",
    "    from sklearn.metrics import classification_report, confusion_matrix\n",
    "    print(classification_report(test_y, pred))\n",
    "    pd.DataFrame(confusion_matrix(test_y, pred), index=labels, columns=labels)\n",
    "    wrong = wrong_prediction(confusion_matrix(test_y, pred))\n",
    "    return {\n",
    "      \"Model Dir\": dnn.model_dir,\n",
    "      \"Training Accuracy\": train_eval_result[\"accuracy\"],\n",
    "      \"Test Accuracy\": test_eval_result[\"accuracy\"],\n",
    "      \"Training AUC\": train_eval_result[\"auc\"],\n",
    "      \"Test AUC\": test_eval_result[\"auc\"],\n",
    "      \"Training Precision\": train_eval_result[\"precision\"],\n",
    "      \"Test Precision\": test_eval_result[\"precision\"],\n",
    "      \"Training Recall\": train_eval_result[\"recall\"],\n",
    "      \"Test Recall\": test_eval_result[\"recall\"],\n",
    "      \"Wrong Prediction\" : wrong\n",
    "    }"
   ]
  },
  {
   "cell_type": "code",
   "execution_count": 0,
   "metadata": {
    "colab": {},
    "colab_type": "code",
    "id": "2ZbXIl9k3E01"
   },
   "outputs": [],
   "source": [
    "\n",
    "results = {}\n",
    "\n",
    "results[\"nnlm-en-dim128\"] = train_and_evaluate_with_sentence_encoder(\n",
    "    \"https://tfhub.dev/google/nnlm-en-dim128/1\", path='/storage/models/nnlm-en-dim128_fr/')\n",
    "\n"
   ]
  },
  {
   "cell_type": "code",
   "execution_count": 0,
   "metadata": {
    "colab": {},
    "colab_type": "code",
    "id": "JgRDRtF48Igw"
   },
   "outputs": [],
   "source": [
    "results[\"nnlm-en-dim128-with-training\"] = train_and_evaluate_with_sentence_encoder(\n",
    "    \"https://tfhub.dev/google/nnlm-en-dim128/1\", train_module=True, path='/storage/models/nnlm-en-dim128_ft/')\n",
    "\n",
    "results[\"use-512\"] = train_and_evaluate_with_sentence_encoder(\n",
    "    \"https://tfhub.dev/google/universal-sentence-encoder/2\", path='/storage/models/use-512_fr/')\n",
    "\n",
    "results[\"use-512-with-training\"] = train_and_evaluate_with_sentence_encoder(\n",
    "    \"https://tfhub.dev/google/universal-sentence-encoder/2\", train_module=True, path='/storage/models/use-512_ft/')"
   ]
  },
  {
   "cell_type": "code",
   "execution_count": 0,
   "metadata": {
    "colab": {},
    "colab_type": "code",
    "id": "4udV0ugd8b_K"
   },
   "outputs": [],
   "source": [
    "results_df = pd.DataFrame.from_dict(results, orient=\"index\")\n",
    "results_df"
   ]
  },
  {
   "cell_type": "code",
   "execution_count": 4,
   "metadata": {},
   "outputs": [
    {
     "data": {
      "text/html": [
       "<div>\n",
       "<style scoped>\n",
       "    .dataframe tbody tr th:only-of-type {\n",
       "        vertical-align: middle;\n",
       "    }\n",
       "\n",
       "    .dataframe tbody tr th {\n",
       "        vertical-align: top;\n",
       "    }\n",
       "\n",
       "    .dataframe thead th {\n",
       "        text-align: right;\n",
       "    }\n",
       "</style>\n",
       "<table border=\"1\" class=\"dataframe\">\n",
       "  <thead>\n",
       "    <tr style=\"text-align: right;\">\n",
       "      <th></th>\n",
       "      <th>Model Dir</th>\n",
       "      <th>Training Accuracy</th>\n",
       "      <th>Test Accuracy</th>\n",
       "      <th>Training AUC</th>\n",
       "      <th>Test AUC</th>\n",
       "      <th>Training Precision</th>\n",
       "      <th>Test Precision</th>\n",
       "      <th>Training Recall</th>\n",
       "      <th>Test Recall</th>\n",
       "      <th>Wrong Prediction</th>\n",
       "    </tr>\n",
       "  </thead>\n",
       "  <tbody>\n",
       "    <tr>\n",
       "      <th>0</th>\n",
       "      <td>/storage/models/nnlm-en-dim128_fr/</td>\n",
       "      <td>1.0</td>\n",
       "      <td>0.987440</td>\n",
       "      <td>1.0</td>\n",
       "      <td>0.983148</td>\n",
       "      <td>1.0</td>\n",
       "      <td>0.947137</td>\n",
       "      <td>1.0</td>\n",
       "      <td>0.959821</td>\n",
       "      <td>21</td>\n",
       "    </tr>\n",
       "    <tr>\n",
       "      <th>1</th>\n",
       "      <td>/storage/models/nnlm-en-dim128_ft/</td>\n",
       "      <td>1.0</td>\n",
       "      <td>0.984450</td>\n",
       "      <td>1.0</td>\n",
       "      <td>0.977537</td>\n",
       "      <td>1.0</td>\n",
       "      <td>0.938053</td>\n",
       "      <td>1.0</td>\n",
       "      <td>0.946429</td>\n",
       "      <td>26</td>\n",
       "    </tr>\n",
       "    <tr>\n",
       "      <th>2</th>\n",
       "      <td>/storage/models/use-512_fr/</td>\n",
       "      <td>1.0</td>\n",
       "      <td>0.987440</td>\n",
       "      <td>1.0</td>\n",
       "      <td>0.978012</td>\n",
       "      <td>1.0</td>\n",
       "      <td>0.963470</td>\n",
       "      <td>1.0</td>\n",
       "      <td>0.941964</td>\n",
       "      <td>21</td>\n",
       "    </tr>\n",
       "    <tr>\n",
       "      <th>3</th>\n",
       "      <td>/storage/models/use-512_ft/</td>\n",
       "      <td>1.0</td>\n",
       "      <td>0.983254</td>\n",
       "      <td>1.0</td>\n",
       "      <td>0.976416</td>\n",
       "      <td>1.0</td>\n",
       "      <td>0.945455</td>\n",
       "      <td>1.0</td>\n",
       "      <td>0.928571</td>\n",
       "      <td>28</td>\n",
       "    </tr>\n",
       "  </tbody>\n",
       "</table>\n",
       "</div>"
      ],
      "text/plain": [
       "                            Model Dir  Training Accuracy  Test Accuracy  \\\n",
       "0  /storage/models/nnlm-en-dim128_fr/                1.0       0.987440   \n",
       "1  /storage/models/nnlm-en-dim128_ft/                1.0       0.984450   \n",
       "2         /storage/models/use-512_fr/                1.0       0.987440   \n",
       "3         /storage/models/use-512_ft/                1.0       0.983254   \n",
       "\n",
       "   Training AUC  Test AUC  Training Precision  Test Precision  \\\n",
       "0           1.0  0.983148                 1.0        0.947137   \n",
       "1           1.0  0.977537                 1.0        0.938053   \n",
       "2           1.0  0.978012                 1.0        0.963470   \n",
       "3           1.0  0.976416                 1.0        0.945455   \n",
       "\n",
       "   Training Recall  Test Recall  Wrong Prediction  \n",
       "0              1.0     0.959821                21  \n",
       "1              1.0     0.946429                26  \n",
       "2              1.0     0.941964                21  \n",
       "3              1.0     0.928571                28  "
      ]
     },
     "execution_count": 4,
     "metadata": {},
     "output_type": "execute_result"
    }
   ],
   "source": [
    "results_df = pd.read_csv(\"transfer_result.csv\")\n",
    "results_df"
   ]
  },
  {
   "cell_type": "markdown",
   "metadata": {},
   "source": [
    "# Easily the Transerlearning gave a very good result"
   ]
  },
  {
   "cell_type": "markdown",
   "metadata": {},
   "source": [
    "# MODEL DEPLOYEMENT"
   ]
  },
  {
   "cell_type": "markdown",
   "metadata": {},
   "source": [
    "## Pickle the TFIDF and Logistic Regression with TFIDF Model"
   ]
  },
  {
   "cell_type": "code",
   "execution_count": 243,
   "metadata": {},
   "outputs": [
    {
     "data": {
      "text/plain": [
       "['Logistic_spam_model.pkl']"
      ]
     },
     "execution_count": 243,
     "metadata": {},
     "output_type": "execute_result"
    }
   ],
   "source": [
    "from sklearn.externals import joblib\n",
    "joblib.dump(tv, 'tfidf.pkl') \n",
    "joblib.dump(lr, 'Logistic_spam_model.pkl')"
   ]
  },
  {
   "cell_type": "code",
   "execution_count": 244,
   "metadata": {},
   "outputs": [],
   "source": [
    "tf_new = joblib.load(\"tfidf.pkl\")"
   ]
  },
  {
   "cell_type": "code",
   "execution_count": 245,
   "metadata": {},
   "outputs": [
    {
     "data": {
      "text/plain": [
       "sklearn.feature_extraction.text.TfidfVectorizer"
      ]
     },
     "execution_count": 245,
     "metadata": {},
     "output_type": "execute_result"
    }
   ],
   "source": [
    "type(tf_new)"
   ]
  },
  {
   "cell_type": "code",
   "execution_count": 246,
   "metadata": {},
   "outputs": [],
   "source": [
    "model = joblib.load(\"Logistic_spam_model.pkl\")"
   ]
  },
  {
   "cell_type": "code",
   "execution_count": 281,
   "metadata": {},
   "outputs": [],
   "source": [
    "a= [\"Free entry in $2 a wkly comp to win FA Cup final tkts 21st May 2005. Text FA to 87121 to receive entry question(std txt rate)T&C's apply 08452810075over18's\"]"
   ]
  },
  {
   "cell_type": "code",
   "execution_count": 274,
   "metadata": {},
   "outputs": [
    {
     "data": {
      "text/plain": [
       "<1x1570 sparse matrix of type '<class 'numpy.float64'>'\n",
       "\twith 11 stored elements in Compressed Sparse Row format>"
      ]
     },
     "execution_count": 274,
     "metadata": {},
     "output_type": "execute_result"
    }
   ],
   "source": [
    "tf_new.transform(a)"
   ]
  },
  {
   "cell_type": "code",
   "execution_count": 291,
   "metadata": {},
   "outputs": [
    {
     "data": {
      "text/plain": [
       "array([1])"
      ]
     },
     "execution_count": 291,
     "metadata": {},
     "output_type": "execute_result"
    }
   ],
   "source": [
    "model.predict(tf_new.transform([data_preprocess_deploy(str(a))]))"
   ]
  },
  {
   "cell_type": "code",
   "execution_count": 293,
   "metadata": {},
   "outputs": [
    {
     "data": {
      "text/plain": [
       "'free entri currenc number wkli comp win cup final tkt number number may number number number number text number number number number number receiv entri question std txt rate appli number number number number number number number number number number number number number'"
      ]
     },
     "execution_count": 293,
     "metadata": {},
     "output_type": "execute_result"
    }
   ],
   "source": [
    "data_preprocess_deploy(str(a))"
   ]
  },
  {
   "cell_type": "code",
   "execution_count": 292,
   "metadata": {},
   "outputs": [],
   "source": [
    "import contractions\n",
    "from bs4 import BeautifulSoup\n",
    "import numpy as np\n",
    "import re\n",
    "import tqdm\n",
    "import unicodedata\n",
    "def data_preprocess_deploy(text):\n",
    "    \n",
    "    x = ''.join(\" number \" if c.isdigit() else c for c in text)\n",
    "    x = x.replace('$' ,' currency ')\n",
    "    x = x.replace('£' ,' currency ')\n",
    "    x = x.replace('€' ,' currency ')\n",
    "    x = x.replace('₹' ,' currency ')\n",
    "    text = x.replace('¥' ,' currency ')\n",
    "    \n",
    "    text2 = \" \".join(\"\".join([\" \" if ch in string.punctuation else ch for ch in text]).split())\n",
    "\n",
    "    tokens = [word for sent in nltk.sent_tokenize(text2) for word in\n",
    "              nltk.word_tokenize(sent)]\n",
    "    \n",
    "    tokens = [word.lower() for word in tokens]\n",
    "    \n",
    "    stopwds = stopwords.words('english')\n",
    "    tokens = [token for token in tokens if token not in stopwds]\n",
    "    \n",
    "    tokens = [word for word in tokens if len(word)>=3]\n",
    "    \n",
    "    stemmer = PorterStemmer()\n",
    "    tokens = [stemmer.stem(word) for word in tokens]\n",
    "\n",
    "    tagged_corpus = pos_tag(tokens)    \n",
    "    \n",
    "    Noun_tags = ['NN','NNP','NNPS','NNS']\n",
    "    Verb_tags = ['VB','VBD','VBG','VBN','VBP','VBZ']\n",
    "\n",
    "    lemmatizer = WordNetLemmatizer()\n",
    "    \n",
    "    def prat_lemmatize(token,tag):\n",
    "        if tag in Noun_tags:\n",
    "            return lemmatizer.lemmatize(token,'n')\n",
    "        elif tag in Verb_tags:\n",
    "            return lemmatizer.lemmatize(token,'v')\n",
    "        else:\n",
    "            return lemmatizer.lemmatize(token,'n')\n",
    "    \n",
    "    pre_proc_text =  \" \".join([prat_lemmatize(token,tag) for token,tag in tagged_corpus])             \n",
    "\n",
    "\n",
    "    def strip_html_tags(text):\n",
    "          soup = BeautifulSoup(text, \"html.parser\")\n",
    "          [s.extract() for s in soup(['iframe', 'script'])]\n",
    "          stripped_text = soup.get_text()\n",
    "          stripped_text = re.sub(r'[\\r|\\n|\\r\\n]+', '\\n', stripped_text)\n",
    "          return stripped_text\n",
    "\n",
    "    def remove_accented_chars(text):\n",
    "          text = unicodedata.normalize('NFKD', text).encode('ascii', 'ignore').decode('utf-8', 'ignore')\n",
    "          return text\n",
    "    \n",
    "    doc = strip_html_tags(pre_proc_text)\n",
    "    doc = doc.translate(doc.maketrans(\"\\n\\t\\r\", \"   \"))\n",
    "    doc = doc.lower()\n",
    "    doc = remove_accented_chars(doc)\n",
    "    doc = contractions.fix(doc)\n",
    "    # lower case and remove special characters\\whitespaces\n",
    "    doc = re.sub(r'[^a-zA-Z0-9\\s]', '', doc, re.I|re.A)\n",
    "    doc = re.sub(' +', ' ', doc)\n",
    "    doc = doc.strip()  \n",
    "    return doc"
   ]
  },
  {
   "cell_type": "markdown",
   "metadata": {},
   "source": [
    "# Built a Flask Application for the Model Prediction in realtime"
   ]
  },
  {
   "cell_type": "markdown",
   "metadata": {},
   "source": [
    "## app.py"
   ]
  },
  {
   "cell_type": "code",
   "execution_count": null,
   "metadata": {},
   "outputs": [],
   "source": [
    "from flask import Flask,render_template,url_for,request\n",
    "import pandas as pd \n",
    "import pickle\n",
    "from sklearn.feature_extraction.text import TfidfVectorizer\n",
    "from sklearn.linear_model import LogisticRegression\n",
    "from sklearn.externals import joblib\n",
    "import contractions\n",
    "from bs4 import BeautifulSoup\n",
    "import numpy as np\n",
    "import re\n",
    "import tqdm\n",
    "import unicodedata\n",
    "import nltk\n",
    "from nltk.corpus import stopwords\n",
    "from nltk.stem import WordNetLemmatizer\n",
    "import string\n",
    "import pandas as pd\n",
    "from nltk import pos_tag\n",
    "from nltk.stem import PorterStemmer\n",
    "\n",
    "\n",
    "app = Flask(__name__)\n",
    "\n",
    "@app.route('/')\n",
    "def home():\n",
    "\treturn render_template('home.html')\n",
    "\n",
    "@app.route('/predict',methods=['POST'])\n",
    "def predict():\n",
    "    if request.method == 'POST':\n",
    "        message = request.form['message']\n",
    "        print(message)\n",
    "        my_prediction = model.predict(tf_new.transform([data_preprocess_deploy(str(message))]))\n",
    "    return render_template('result.html',prediction = my_prediction)\n",
    "\n",
    "def data_preprocess_deploy(text):\n",
    "    \n",
    "    x = ''.join(\" number \" if c.isdigit() else c for c in text)\n",
    "    x = x.replace('$' ,' currency ')\n",
    "    x = x.replace('£' ,' currency ')\n",
    "    x = x.replace('€' ,' currency ')\n",
    "    x = x.replace('₹' ,' currency ')\n",
    "    text = x.replace('¥' ,' currency ')\n",
    "    \n",
    "    text2 = \" \".join(\"\".join([\" \" if ch in string.punctuation else ch for ch in text]).split())\n",
    "\n",
    "    tokens = [word for sent in nltk.sent_tokenize(text2) for word in\n",
    "              nltk.word_tokenize(sent)]\n",
    "    \n",
    "    tokens = [word.lower() for word in tokens]\n",
    "    \n",
    "    stopwds = stopwords.words('english')\n",
    "    tokens = [token for token in tokens if token not in stopwds]\n",
    "    \n",
    "    tokens = [word for word in tokens if len(word)>=3]\n",
    "    \n",
    "    stemmer = PorterStemmer()\n",
    "    tokens = [stemmer.stem(word) for word in tokens]\n",
    "\n",
    "    tagged_corpus = pos_tag(tokens)    \n",
    "    \n",
    "    Noun_tags = ['NN','NNP','NNPS','NNS']\n",
    "    Verb_tags = ['VB','VBD','VBG','VBN','VBP','VBZ']\n",
    "\n",
    "    lemmatizer = WordNetLemmatizer()\n",
    "    \n",
    "    def prat_lemmatize(token,tag):\n",
    "        if tag in Noun_tags:\n",
    "            return lemmatizer.lemmatize(token,'n')\n",
    "        elif tag in Verb_tags:\n",
    "            return lemmatizer.lemmatize(token,'v')\n",
    "        else:\n",
    "            return lemmatizer.lemmatize(token,'n')\n",
    "    \n",
    "    pre_proc_text =  \" \".join([prat_lemmatize(token,tag) for token,tag in tagged_corpus])             \n",
    "\n",
    "\n",
    "    def strip_html_tags(text):\n",
    "          soup = BeautifulSoup(text, \"html.parser\")\n",
    "          [s.extract() for s in soup(['iframe', 'script'])]\n",
    "          stripped_text = soup.get_text()\n",
    "          stripped_text = re.sub(r'[\\r|\\n|\\r\\n]+', '\\n', stripped_text)\n",
    "          return stripped_text\n",
    "\n",
    "    def remove_accented_chars(text):\n",
    "          text = unicodedata.normalize('NFKD', text).encode('ascii', 'ignore').decode('utf-8', 'ignore')\n",
    "          return text\n",
    "    \n",
    "    doc = strip_html_tags(pre_proc_text)\n",
    "    doc = doc.translate(doc.maketrans(\"\\n\\t\\r\", \"   \"))\n",
    "    doc = doc.lower()\n",
    "    doc = remove_accented_chars(doc)\n",
    "    doc = contractions.fix(doc)\n",
    "    # lower case and remove special characters\\whitespaces\n",
    "    doc = re.sub(r'[^a-zA-Z0-9\\s]', '', doc, re.I|re.A)\n",
    "    doc = re.sub(' +', ' ', doc)\n",
    "    doc = doc.strip()  \n",
    "    return doc\n",
    "\n",
    "if __name__ == '__main__':\n",
    "    tf_new = joblib.load(\"tfidf.pkl\")\n",
    "    model = joblib.load(\"Logistic_spam_model.pkl\")\n",
    "    app.run(debug=True)"
   ]
  },
  {
   "cell_type": "markdown",
   "metadata": {},
   "source": [
    "## home.html"
   ]
  },
  {
   "cell_type": "raw",
   "metadata": {},
   "source": [
    "\n",
    "<!DOCTYPE HTML>\n",
    "<html>\n",
    "\n",
    "<head>\n",
    "  <meta charset=\"utf-8\">\n",
    "  <title>home.html</title>\n",
    "  <meta name=\"viewport\" content=\"width=device-width, initial-scale=1.0\">\n",
    "</head>\n",
    "\n",
    "<body>\n",
    "  <style type=\"text/css\">\n",
    "    html, body, #container {\n",
    "      height: 100%;\n",
    "    }\n",
    "    body, #container {\n",
    "      overflow: hidden;\n",
    "      margin: 0;\n",
    "    }\n",
    "    #iframe {\n",
    "      width: 100%;\n",
    "      height: 100%;\n",
    "      border: none;\n",
    "    }\n",
    "  </style>\n",
    "  <div id=\"container\">\n",
    "    <iframe id=\"iframe\" sandbox=\"allow-scripts\" src=\"/files/Downloads/Salesforce/SMS-Message-Spam-Detector/templates/home.html\"></iframe>\n",
    "  </div>\n",
    "</body>\n",
    "\n",
    "</html>"
   ]
  },
  {
   "cell_type": "markdown",
   "metadata": {},
   "source": [
    "## result.html"
   ]
  },
  {
   "cell_type": "raw",
   "metadata": {},
   "source": [
    "\n",
    "<!DOCTYPE HTML>\n",
    "<html>\n",
    "\n",
    "<head>\n",
    "  <meta charset=\"utf-8\">\n",
    "  <title>result.html</title>\n",
    "  <meta name=\"viewport\" content=\"width=device-width, initial-scale=1.0\">\n",
    "</head>\n",
    "\n",
    "<body>\n",
    "  <style type=\"text/css\">\n",
    "    html, body, #container {\n",
    "      height: 100%;\n",
    "    }\n",
    "    body, #container {\n",
    "      overflow: hidden;\n",
    "      margin: 0;\n",
    "    }\n",
    "    #iframe {\n",
    "      width: 100%;\n",
    "      height: 100%;\n",
    "      border: none;\n",
    "    }\n",
    "  </style>\n",
    "  <div id=\"container\">\n",
    "    <iframe id=\"iframe\" sandbox=\"allow-scripts\" src=\"/files/Downloads/Salesforce/SMS-Message-Spam-Detector/templates/result.html\"></iframe>\n",
    "  </div>\n",
    "</body>\n",
    "\n",
    "</html>"
   ]
  },
  {
   "cell_type": "markdown",
   "metadata": {},
   "source": [
    "## Output"
   ]
  },
  {
   "attachments": {
    "Screenshot%202019-09-19%20at%203.49.28%20AM.png": {
     "image/png": "[encoded data removed]"
    }
   },
   "cell_type": "markdown",
   "metadata": {},
   "source": [
    "![Screenshot%202019-09-19%20at%203.49.28%20AM.png](attachment:Screenshot%202019-09-19%20at%203.49.28%20AM.png)"
   ]
  },
  {
   "attachments": {
    "Screenshot%202019-09-19%20at%203.49.36%20AM.png": {
     "image/png": "[encoded data removed]"
    }
   },
   "cell_type": "markdown",
   "metadata": {},
   "source": [
    "![Screenshot%202019-09-19%20at%203.49.36%20AM.png](attachment:Screenshot%202019-09-19%20at%203.49.36%20AM.png)"
   ]
  },
  {
   "cell_type": "code",
   "execution_count": null,
   "metadata": {},
   "outputs": [],
   "source": []
  }
 ],
 "metadata": {
  "kernelspec": {
   "display_name": "Python 3",
   "language": "python",
   "name": "python3"
  }
 },
 "nbformat": 4,
 "nbformat_minor": 2
}
